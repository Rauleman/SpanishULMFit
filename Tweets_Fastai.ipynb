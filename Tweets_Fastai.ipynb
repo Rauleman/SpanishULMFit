{
 "cells": [
  {
   "cell_type": "markdown",
   "metadata": {},
   "source": [
    "# <center>Tweet analysis with fastai"
   ]
  },
  {
   "cell_type": "code",
   "execution_count": 2,
   "metadata": {},
   "outputs": [],
   "source": [
    "%reload_ext autoreload\n",
    "%autoreload 2\n",
    "%matplotlib inline"
   ]
  },
  {
   "cell_type": "code",
   "execution_count": 3,
   "metadata": {},
   "outputs": [],
   "source": [
    "from fastai.text import *"
   ]
  },
  {
   "cell_type": "code",
   "execution_count": 4,
   "metadata": {},
   "outputs": [],
   "source": [
    "import sys\n",
    "import html\n",
    "import json\n",
    "import pandas as pd"
   ]
  },
  {
   "cell_type": "markdown",
   "metadata": {},
   "source": [
    "## Directories"
   ]
  },
  {
   "cell_type": "code",
   "execution_count": 23,
   "metadata": {},
   "outputs": [],
   "source": [
    "DATA_PATH = Path('C:/Users/G16116/Documents/Sentiment Analysis/Tweets/IEF')\n",
    "WIKILM_PATH = Path('C:/Users/G16116/Documents/Python AUX/TweetSA/SpanishLM')\n",
    "TWEETLM_PATH = DATA_PATH/'LM'\n",
    "TWEETCLAS_PATH = DATA_PATH/'CLAS'"
   ]
  },
  {
   "cell_type": "markdown",
   "metadata": {},
   "source": [
    "## Pre-process tweet dataset\n",
    "Load the tweet database (all tweets, since the whole dataset is used for language model tuning)"
   ]
  },
  {
   "cell_type": "code",
   "execution_count": 6,
   "metadata": {},
   "outputs": [
    {
     "data": {
      "text/plain": [
       "array(['El banco dirigido por Shanwen Xin quiere fortalecer las relaciones con las empresas mexicanas para incrementar el negocio y la comunicación entre los países. https://t.co/8dBVvYAIDE',\n",
       "       '#Entérate ¿Qué implicó la salida de Juan Díaz de la Torre de la SNTE? https://t.co/JMxMqfulDr',\n",
       "       '“Las variables macroeconómicas que se han logrado en el país son muy fuertes en este momento, así que la perspectiva de algo similar a lo ocurrido en 1994 no la veo en el horizonte”: Serra Puche,  presidente del Consejo de Administración de BBVA Bancomer https://t.co/K2wbb3H5eO',\n",
       "       'Lazarus, un grupo de hackers de Corea del Norte, quiso llevarse 100 millones de dólares del sistema financiero de @Banxico través de un ciberataque\\r\\n\\r\\nhttps://t.co/mA0ZOaaO8f',\n",
       "       '¿Acabas de egresar de la universidad?👩\\u200d🎓👨\\u200d🎓Este banco está buscando tu talento:\\r\\nhttps://t.co/4jWbaGarcF'],\n",
       "      dtype=object)"
      ]
     },
     "execution_count": 6,
     "metadata": {},
     "output_type": "execute_result"
    }
   ],
   "source": [
    "tweets = np.array(pd.read_csv(DATA_PATH/'Tweets_IEF_limpios.csv')['text'])\n",
    "tweets[:5]"
   ]
  },
  {
   "cell_type": "markdown",
   "metadata": {},
   "source": [
    "Pre-process tweets"
   ]
  },
  {
   "cell_type": "code",
   "execution_count": 7,
   "metadata": {},
   "outputs": [],
   "source": [
    "import re\n",
    "\n",
    "def clean_tweetNN(tweet):\n",
    "    tweet = re.sub('http\\S+', '_hyplink_', tweet) #Remove urls\n",
    "    tweet = re.sub('RT @[\\w_-]+',' ',tweet) #Remove RT text\n",
    "    tweet = re.sub('@(?=[\\w_-]+)','_user_ ',tweet) #Tag mentions\n",
    "    tweet = re.sub(r'(\\s\\d+)', r' _num_\\1', tweet)#(r'(\\d+)', r'_num_ \\1', tweet) #Tag numbers\n",
    "    tweet = re.sub('#(?=[\\w_-]+)', '_hashtag_ ', tweet) #Tag hastags\n",
    "    tweet = tweet.split()\n",
    "    c = ' '.join(tweet)\n",
    "    return c\n",
    "\n",
    "def clean_all(tweet_list):\n",
    "    clean_tweets = [clean_tweetNN(line) for line in tweet_list]\n",
    "    return clean_tweets\n",
    "    "
   ]
  },
  {
   "cell_type": "code",
   "execution_count": 8,
   "metadata": {},
   "outputs": [],
   "source": [
    "np.random.seed(42)\n",
    "trn_idx = np.random.permutation(len(tweets))\n",
    "tweets = tweets[trn_idx]"
   ]
  },
  {
   "cell_type": "code",
   "execution_count": 9,
   "metadata": {},
   "outputs": [
    {
     "data": {
      "text/plain": [
       "['Banxico destina _num_ 150 mdd a México por sismo del _num_ 7-S. _hyplink_',\n",
       " 'Banorte baja costos y registra ganancias del _num_ 7% _hyplink_ _hashtag_ SiTeLoPerdiste',\n",
       " 'A pesar de que el peso se recuperó tras el debate presidencial en EUA, el Banco de México no se confía. _hyplink_ _hyplink_',\n",
       " '_hashtag_ QueNoSeTePase Agustín Carstens presenta su renuncia al Banco de México _hyplink_ _hyplink_',\n",
       " '_user_ checolon Hola Sergio, por el momento Banorte, Banamex y Bancomer tienes ofertas similares en banca móvil. Saludos']"
      ]
     },
     "execution_count": 9,
     "metadata": {},
     "output_type": "execute_result"
    }
   ],
   "source": [
    "tweets = clean_all(tweets)\n",
    "tweets[:5]"
   ]
  },
  {
   "cell_type": "markdown",
   "metadata": {},
   "source": [
    "Build clean dataframe"
   ]
  },
  {
   "cell_type": "code",
   "execution_count": 24,
   "metadata": {},
   "outputs": [
    {
     "data": {
      "text/html": [
       "<div>\n",
       "<style scoped>\n",
       "    .dataframe tbody tr th:only-of-type {\n",
       "        vertical-align: middle;\n",
       "    }\n",
       "\n",
       "    .dataframe tbody tr th {\n",
       "        vertical-align: top;\n",
       "    }\n",
       "\n",
       "    .dataframe thead th {\n",
       "        text-align: right;\n",
       "    }\n",
       "</style>\n",
       "<table border=\"1\" class=\"dataframe\">\n",
       "  <thead>\n",
       "    <tr style=\"text-align: right;\">\n",
       "      <th></th>\n",
       "      <th>label</th>\n",
       "      <th>text</th>\n",
       "    </tr>\n",
       "  </thead>\n",
       "  <tbody>\n",
       "    <tr>\n",
       "      <th>0</th>\n",
       "      <td>0</td>\n",
       "      <td>Banxico destina _num_ 150 mdd a México por sis...</td>\n",
       "    </tr>\n",
       "    <tr>\n",
       "      <th>1</th>\n",
       "      <td>0</td>\n",
       "      <td>Banorte baja costos y registra ganancias del _...</td>\n",
       "    </tr>\n",
       "    <tr>\n",
       "      <th>2</th>\n",
       "      <td>0</td>\n",
       "      <td>A pesar de que el peso se recuperó tras el deb...</td>\n",
       "    </tr>\n",
       "    <tr>\n",
       "      <th>3</th>\n",
       "      <td>0</td>\n",
       "      <td>_hashtag_ QueNoSeTePase Agustín Carstens prese...</td>\n",
       "    </tr>\n",
       "    <tr>\n",
       "      <th>4</th>\n",
       "      <td>0</td>\n",
       "      <td>_user_ checolon Hola Sergio, por el momento Ba...</td>\n",
       "    </tr>\n",
       "  </tbody>\n",
       "</table>\n",
       "</div>"
      ],
      "text/plain": [
       "   label                                               text\n",
       "0      0  Banxico destina _num_ 150 mdd a México por sis...\n",
       "1      0  Banorte baja costos y registra ganancias del _...\n",
       "2      0  A pesar de que el peso se recuperó tras el deb...\n",
       "3      0  _hashtag_ QueNoSeTePase Agustín Carstens prese...\n",
       "4      0  _user_ checolon Hola Sergio, por el momento Ba..."
      ]
     },
     "execution_count": 24,
     "metadata": {},
     "output_type": "execute_result"
    }
   ],
   "source": [
    "df = pd.DataFrame({'label': 0, 'text': tweets})\n",
    "df.head(5)"
   ]
  },
  {
   "cell_type": "code",
   "execution_count": 25,
   "metadata": {},
   "outputs": [],
   "source": [
    "df.to_csv(TWEETLM_PATH/'tweets.csv', index = False)"
   ]
  },
  {
   "cell_type": "markdown",
   "metadata": {},
   "source": [
    "Create TextDataBunch"
   ]
  },
  {
   "cell_type": "code",
   "execution_count": 26,
   "metadata": {},
   "outputs": [],
   "source": [
    "tokenizer = Tokenizer(lang = 'es', n_cpus = 1, special_cases = ['_user_', '_hashtag_', '_num_', '_hyplink_'])\n",
    "processor = [TokenizeProcessor(tokenizer=tokenizer), NumericalizeProcessor(max_vocab=60000)]\n",
    "                               \n",
    "data_lm = (TextList.from_csv(TWEETLM_PATH, 'tweets.csv', cols='text', processor = processor)\n",
    "                   .split_by_rand_pct(seed = 0)\n",
    "                   .label_for_lm()\n",
    "                   .databunch())"
   ]
  },
  {
   "cell_type": "code",
   "execution_count": 51,
   "metadata": {},
   "outputs": [],
   "source": [
    "data_lm.save('data_lm0.pkl')"
   ]
  },
  {
   "cell_type": "code",
   "execution_count": null,
   "metadata": {},
   "outputs": [],
   "source": [
    "data_lm = load_data(TWEETLM_PATH, 'data_lm0.pkl')"
   ]
  },
  {
   "cell_type": "code",
   "execution_count": 27,
   "metadata": {},
   "outputs": [
    {
     "data": {
      "text/html": [
       "<table border=\"1\" class=\"dataframe\">\n",
       "  <thead>\n",
       "    <tr style=\"text-align: right;\">\n",
       "      <th>idx</th>\n",
       "      <th>text</th>\n",
       "    </tr>\n",
       "  </thead>\n",
       "  <tbody>\n",
       "    <tr>\n",
       "      <td>0</td>\n",
       "      <td>renuncia al xxmaj banco de xxmaj méxico _hyplink_ _hyplink_ xxbos _user_ xxunk xxmaj hola xxmaj sergio , por el momento xxmaj banorte , xxmaj banamex y xxmaj bancomer tienes ofertas xxunk en banca móvil . xxmaj saludos xxbos _hashtag_ estirayafloja | xxmaj otro xxunk para xxmaj banamex en el caso de xxmaj pemex , escribe xxmaj jesús xxmaj rangel _hyplink_ _hyplink_ xxbos xxmaj ni el xxup tlcan ni las</td>\n",
       "    </tr>\n",
       "    <tr>\n",
       "      <td>1</td>\n",
       "      <td>miedo ... _hyplink_ _hyplink_ xxbos xxmaj positiva , la inyección de capital en xxup hsbc xxmaj méxico : xxmaj fitch _hyplink_ xxbos xxmaj se vende dólar menudeo en _num_ xxunk pesos : xxmaj el dólar cotiza a la compra , en xxmaj banamex , a _num_ xxunk y se vende a _num_ xxunk pesos , ... _hyplink_ xxbos xxmaj crece _num_ 7.0 % captación bancaria en abril : xxmaj</td>\n",
       "    </tr>\n",
       "    <tr>\n",
       "      <td>2</td>\n",
       "      <td>satmx xxunk “ por error ” mil _num_ 123 mdp a _num_ 5 empresas y un banco , detecta la _user_ asf_mexico _hyplink_ _hyplink_ xxbos xxmaj en el primer semestre del año , xxup bbva - xxmaj bancomer detectó _num_ 25 mil fraudes por concepto de comercio electrónico que ocasionarían pérdida a sus clientes _hyplink_ _hyplink_ xxbos xxmaj bajan perspectiva a banca mexicana _hyplink_ xxbos xxmaj scotiabank espera que</td>\n",
       "    </tr>\n",
       "    <tr>\n",
       "      <td>3</td>\n",
       "      <td>historia en xxmaj méxico . _hyplink_ xxbos xxmaj empresas mexicanas , las más optimistas con xxup tlcan : _user_ xxup hsbc _hyplink_ _hyplink_ xxbos xxup bbva xxmaj bancomer también se pone optimista con el crecimiento económico de xxmaj méxico &gt; &gt; _hyplink_ xxbos xxmaj indebida xxunk del _user_ xxup satmx a un banco y _num_ 4 empresas : _user_ asf_mexico _hyplink_ xxbos xxmaj acá todo xxmaj lo que debes</td>\n",
       "    </tr>\n",
       "    <tr>\n",
       "      <td>4</td>\n",
       "      <td>en el país afectaría industria xxunk _hyplink_ _hyplink_ xxbos xxmaj alerta _user_ condusefmx a usuarios de la banca sobre correo falso de xxup bbva xxmaj bancomer _hyplink_ _hashtag_ siteloperdiste xxbos xxmaj la xxmaj asociación de xxmaj bancos de xxmaj méxico aseguró que los retrasos que se han presentado en el xxup spei no han afectado a todo el sistema ni a todos sus clientes . _hyplink_ xxbos xxmaj la</td>\n",
       "    </tr>\n",
       "  </tbody>\n",
       "</table>"
      ],
      "text/plain": [
       "<IPython.core.display.HTML object>"
      ]
     },
     "metadata": {},
     "output_type": "display_data"
    }
   ],
   "source": [
    "data_lm.show_batch(5)"
   ]
  },
  {
   "cell_type": "code",
   "execution_count": 28,
   "metadata": {},
   "outputs": [
    {
     "name": "stdout",
     "output_type": "stream",
     "text": [
      "['xxunk', 'xxpad', 'xxbos', 'xxeos', 'xxfld', 'xxmaj', 'xxup', 'xxrep', 'xxwrep', '_hyplink_', 'de', 'en', '_hashtag_', ',', '_num_', 'la', 'el', 'a', 'méxico', '.', '_user_', 'y', ':', 'que', 'por', 'banco', 'del', 'para', 'banamex', 'los']\n"
     ]
    }
   ],
   "source": [
    "itos = data_lm.vocab.itos\n",
    "print(itos[:30])"
   ]
  },
  {
   "cell_type": "code",
   "execution_count": null,
   "metadata": {},
   "outputs": [],
   "source": [
    "pickle.dump(itos, open(TWEETLM_PATH/'itos0.pkl', 'wb'))"
   ]
  },
  {
   "cell_type": "markdown",
   "metadata": {},
   "source": [
    "## Load encoder weights for language model"
   ]
  },
  {
   "cell_type": "code",
   "execution_count": 34,
   "metadata": {},
   "outputs": [],
   "source": [
    "BACKBONE_MODEL = WIKILM_PATH/'lm1_weights_kl.h5'\n",
    "BACKBONE_ITOS = WIKILM_PATH/'itos+100.pkl'"
   ]
  },
  {
   "cell_type": "code",
   "execution_count": 38,
   "metadata": {},
   "outputs": [],
   "source": [
    "def convert(path_to_old_model, path_to_save_converted_model):\n",
    "    old_wgts = torch.load(path_to_old_model, map_location=lambda storage, loc: storage)\n",
    "    new_wgts = OrderedDict()\n",
    "    new_wgts['0.encoder.weight']=old_wgts['0.encoder.weight']\n",
    "    new_wgts['0.encoder_dp.emb.weight']=old_wgts['0.encoder_with_dropout.embed.weight']\n",
    "    new_wgts['0.rnns.0.weight_hh_l0_raw']=old_wgts['0.rnns.0.module.weight_hh_l0_raw']\n",
    "    new_wgts['0.rnns.0.module.weight_ih_l0']=old_wgts['0.rnns.0.module.weight_ih_l0']\n",
    "    new_wgts['0.rnns.0.module.weight_hh_l0']=old_wgts['0.rnns.0.module.weight_hh_l0_raw']\n",
    "    new_wgts['0.rnns.0.module.bias_ih_l0']=old_wgts['0.rnns.0.module.bias_ih_l0']\n",
    "    new_wgts['0.rnns.0.module.bias_hh_l0']=old_wgts['0.rnns.0.module.bias_hh_l0']\n",
    "    new_wgts['0.rnns.1.weight_hh_l0_raw']=old_wgts['0.rnns.1.module.weight_hh_l0_raw']\n",
    "    new_wgts['0.rnns.1.module.weight_ih_l0']=old_wgts['0.rnns.1.module.weight_ih_l0']\n",
    "    new_wgts['0.rnns.1.module.weight_hh_l0']=old_wgts['0.rnns.1.module.weight_hh_l0_raw']\n",
    "    new_wgts['0.rnns.1.module.bias_ih_l0']=old_wgts['0.rnns.1.module.bias_ih_l0']\n",
    "    new_wgts['0.rnns.1.module.bias_hh_l0']=old_wgts['0.rnns.1.module.bias_hh_l0']\n",
    "    new_wgts['0.rnns.2.weight_hh_l0_raw']=old_wgts['0.rnns.2.module.weight_hh_l0_raw']\n",
    "    new_wgts['0.rnns.2.module.weight_ih_l0']=old_wgts['0.rnns.2.module.weight_ih_l0']\n",
    "    new_wgts['0.rnns.2.module.weight_hh_l0']=old_wgts['0.rnns.2.module.weight_hh_l0_raw']\n",
    "    new_wgts['0.rnns.2.module.bias_ih_l0']=old_wgts['0.rnns.2.module.bias_ih_l0']\n",
    "    new_wgts['0.rnns.2.module.bias_hh_l0']=old_wgts['0.rnns.2.module.bias_hh_l0']\n",
    "    new_wgts['1.decoder.bias'] = torch.rand(60002)\n",
    "    torch.save(new_wgts, path_to_save_converted_model/'converted_model.pth')"
   ]
  },
  {
   "cell_type": "code",
   "execution_count": 39,
   "metadata": {},
   "outputs": [],
   "source": [
    "convert(BACKBONE_MODEL,  WIKILM_PATH)"
   ]
  },
  {
   "cell_type": "code",
   "execution_count": 40,
   "metadata": {},
   "outputs": [],
   "source": [
    "BACKBONE_MODEL = WIKILM_PATH/'converted_model.pth'"
   ]
  },
  {
   "cell_type": "markdown",
   "metadata": {},
   "source": [
    "## Language Model"
   ]
  },
  {
   "cell_type": "code",
   "execution_count": 42,
   "metadata": {},
   "outputs": [],
   "source": [
    "bs=32"
   ]
  },
  {
   "cell_type": "code",
   "execution_count": null,
   "metadata": {},
   "outputs": [],
   "source": [
    "data_lm = load_data(TWEETLM_PATH, 'data_lm.pkl', bs=bs)"
   ]
  },
  {
   "cell_type": "code",
   "execution_count": 46,
   "metadata": {},
   "outputs": [],
   "source": [
    "learn = language_model_learner(data_lm, AWD_LSTM, drop_mult=0.3, pretrained = False)\n",
    "learn.load_pretrained(BACKBONE_MODEL, BACKBONE_ITOS)"
   ]
  },
  {
   "cell_type": "code",
   "execution_count": 47,
   "metadata": {},
   "outputs": [
    {
     "data": {
      "text/html": [],
      "text/plain": [
       "<IPython.core.display.HTML object>"
      ]
     },
     "metadata": {},
     "output_type": "display_data"
    },
    {
     "name": "stdout",
     "output_type": "stream",
     "text": [
      "LR Finder is complete, type {learner_name}.recorder.plot() to see the graph.\n"
     ]
    }
   ],
   "source": [
    "learn.lr_find()"
   ]
  },
  {
   "cell_type": "code",
   "execution_count": 48,
   "metadata": {},
   "outputs": [
    {
     "data": {
      "image/png": "[encoded data removed]",
      "text/plain": [
       "<Figure size 432x288 with 1 Axes>"
      ]
     },
     "metadata": {
      "needs_background": "light"
     },
     "output_type": "display_data"
    }
   ],
   "source": [
    "learn.recorder.plot()"
   ]
  },
  {
   "cell_type": "code",
   "execution_count": 49,
   "metadata": {},
   "outputs": [
    {
     "data": {
      "text/html": [
       "Total time: 30:57 <p><table border=\"1\" class=\"dataframe\">\n",
       "  <thead>\n",
       "    <tr style=\"text-align: left;\">\n",
       "      <th>epoch</th>\n",
       "      <th>train_loss</th>\n",
       "      <th>valid_loss</th>\n",
       "      <th>accuracy</th>\n",
       "      <th>time</th>\n",
       "    </tr>\n",
       "  </thead>\n",
       "  <tbody>\n",
       "    <tr>\n",
       "      <td>0</td>\n",
       "      <td>3.565911</td>\n",
       "      <td>2.900839</td>\n",
       "      <td>0.419252</td>\n",
       "      <td>30:57</td>\n",
       "    </tr>\n",
       "  </tbody>\n",
       "</table>"
      ],
      "text/plain": [
       "<IPython.core.display.HTML object>"
      ]
     },
     "metadata": {},
     "output_type": "display_data"
    }
   ],
   "source": [
    "learn.fit_one_cycle(1, 1e-2, moms=(0.8,0.7))"
   ]
  },
  {
   "cell_type": "code",
   "execution_count": 50,
   "metadata": {},
   "outputs": [],
   "source": [
    "learn.save('fit_head0')"
   ]
  },
  {
   "cell_type": "code",
   "execution_count": null,
   "metadata": {},
   "outputs": [],
   "source": [
    "learn.load('fit_head0');"
   ]
  },
  {
   "cell_type": "markdown",
   "metadata": {},
   "source": [
    "To complete the fine-tuning, we can then unfreeze and launch a new training"
   ]
  },
  {
   "cell_type": "code",
   "execution_count": 52,
   "metadata": {},
   "outputs": [],
   "source": [
    "learn.unfreeze()"
   ]
  },
  {
   "cell_type": "code",
   "execution_count": null,
   "metadata": {},
   "outputs": [
    {
     "data": {
      "text/html": [
       "\n",
       "    <div>\n",
       "        <style>\n",
       "            /* Turns off some styling */\n",
       "            progress {\n",
       "                /* gets rid of default border in Firefox and Opera. */\n",
       "                border: none;\n",
       "                /* Needs to be in here for Safari polyfill so background images work as expected. */\n",
       "                background-size: auto;\n",
       "            }\n",
       "            .progress-bar-interrupted, .progress-bar-interrupted::-webkit-progress-bar {\n",
       "                background: #F44336;\n",
       "            }\n",
       "        </style>\n",
       "      <progress value='3' class='' max='10', style='width:300px; height:20px; vertical-align: middle;'></progress>\n",
       "      30.00% [3/10 1:32:18<3:35:24]\n",
       "    </div>\n",
       "    \n",
       "<table border=\"1\" class=\"dataframe\">\n",
       "  <thead>\n",
       "    <tr style=\"text-align: left;\">\n",
       "      <th>epoch</th>\n",
       "      <th>train_loss</th>\n",
       "      <th>valid_loss</th>\n",
       "      <th>accuracy</th>\n",
       "      <th>time</th>\n",
       "    </tr>\n",
       "  </thead>\n",
       "  <tbody>\n",
       "    <tr>\n",
       "      <td>0</td>\n",
       "      <td>2.729928</td>\n",
       "      <td>2.856113</td>\n",
       "      <td>0.424172</td>\n",
       "      <td>30:55</td>\n",
       "    </tr>\n",
       "    <tr>\n",
       "      <td>1</td>\n",
       "      <td>2.661071</td>\n",
       "      <td>2.767385</td>\n",
       "      <td>0.436830</td>\n",
       "      <td>30:05</td>\n",
       "    </tr>\n",
       "    <tr>\n",
       "      <td>2</td>\n",
       "      <td>2.530057</td>\n",
       "      <td>2.662045</td>\n",
       "      <td>0.453981</td>\n",
       "      <td>31:18</td>\n",
       "    </tr>\n",
       "  </tbody>\n",
       "</table><p>\n",
       "\n",
       "    <div>\n",
       "        <style>\n",
       "            /* Turns off some styling */\n",
       "            progress {\n",
       "                /* gets rid of default border in Firefox and Opera. */\n",
       "                border: none;\n",
       "                /* Needs to be in here for Safari polyfill so background images work as expected. */\n",
       "                background-size: auto;\n",
       "            }\n",
       "            .progress-bar-interrupted, .progress-bar-interrupted::-webkit-progress-bar {\n",
       "                background: #F44336;\n",
       "            }\n",
       "        </style>\n",
       "      <progress value='12' class='' max='94', style='width:300px; height:20px; vertical-align: middle;'></progress>\n",
       "      12.77% [12/94 03:56<26:58 2.4918]\n",
       "    </div>\n",
       "    "
      ],
      "text/plain": [
       "<IPython.core.display.HTML object>"
      ]
     },
     "metadata": {},
     "output_type": "display_data"
    }
   ],
   "source": [
    "learn.fit_one_cycle(10, 1e-3, moms=(0.8,0.7))"
   ]
  },
  {
   "cell_type": "code",
   "execution_count": null,
   "metadata": {},
   "outputs": [],
   "source": [
    "learn.save('fine_tuned0')"
   ]
  },
  {
   "cell_type": "code",
   "execution_count": null,
   "metadata": {},
   "outputs": [],
   "source": [
    "learn.save_encoder('fine_tuned_enc0')"
   ]
  },
  {
   "cell_type": "markdown",
   "metadata": {},
   "source": [
    "## Classifier"
   ]
  },
  {
   "cell_type": "code",
   "execution_count": null,
   "metadata": {},
   "outputs": [],
   "source": [
    "tweets = pd.read_csv(DATA_PATH/'validated_tweets_SB.csv')[['sent_control', 'text']]\n",
    "tweets.columns = ['label', 'text']\n",
    "tweets.head()"
   ]
  },
  {
   "cell_type": "code",
   "execution_count": null,
   "metadata": {},
   "outputs": [],
   "source": [
    "tweets.to_csv(DATA_PATH/'CLAS'/'data_clas.csv', index = False)"
   ]
  },
  {
   "cell_type": "code",
   "execution_count": null,
   "metadata": {},
   "outputs": [],
   "source": [
    "data_clas = (TextList.from_csv(DATA_PATH/'CLAS', 'data_clas.csv', cols='text', vocab=data_lm.train_ds.vocab, processor = processor)\n",
    "                   .split_by_rand_pct(seed = 0)\n",
    "                   .label_from_df(cols='label')\n",
    "                   .databunch())"
   ]
  },
  {
   "cell_type": "code",
   "execution_count": null,
   "metadata": {},
   "outputs": [],
   "source": [
    "data_clas.save('data_clas.pkl')"
   ]
  },
  {
   "cell_type": "code",
   "execution_count": null,
   "metadata": {},
   "outputs": [],
   "source": [
    "learn = text_classifier_learner(data_clas, AWD_LSTM, drop_mult=0.5, pretrained = False)\n",
    "learn.load_encoder(TWEETLM_PATH/'models'/'fine_tuned_enc')"
   ]
  }
 ],
 "metadata": {
  "kernelspec": {
   "display_name": "Python 3",
   "language": "python",
   "name": "python3"
  },
  "language_info": {
   "codemirror_mode": {
    "name": "ipython",
    "version": 3
   },
   "file_extension": ".py",
   "mimetype": "text/x-python",
   "name": "python",
   "nbconvert_exporter": "python",
   "pygments_lexer": "ipython3",
   "version": "3.6.7"
  }
 },
 "nbformat": 4,
 "nbformat_minor": 2
}
