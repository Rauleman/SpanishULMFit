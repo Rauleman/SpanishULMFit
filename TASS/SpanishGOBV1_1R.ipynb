{
 "cells": [
  {
   "cell_type": "code",
   "execution_count": 235,
   "metadata": {},
   "outputs": [],
   "source": [
    "from fastai.text import *\n",
    "import html\n",
    "import json"
   ]
  },
  {
   "cell_type": "code",
   "execution_count": 236,
   "metadata": {},
   "outputs": [],
   "source": [
    "BOS = 'xbos'  # beginning-of-sentence tag\n",
    "FLD = 'xfld'  # data field tag\n",
    "\n",
    "DATA_PATH=Path('data_spanish')\n",
    "\n",
    "OUTPUT_PATH=Path('output')\n",
    "\n",
    "WIKILM_PATH=OUTPUT_PATH/'wiki_lm'\n",
    "\n",
    "TASSLM_PATH=OUTPUT_PATH/'sansetass_lm'\n",
    "TASSLM_PATH.mkdir(exist_ok=True)\n",
    "\n",
    "CLAS_PATH=OUTPUT_PATH/'sansetass_clas'\n",
    "CLAS_PATH.mkdir(exist_ok=True)"
   ]
  },
  {
   "cell_type": "code",
   "execution_count": 237,
   "metadata": {},
   "outputs": [
    {
     "data": {
      "application/javascript": [
       "// Original source -- https://gist.github.com/xem/670dec8e70815842eb95\n",
       "Jupyter.beep = () => {\n",
       "    var A=new AudioContext();\n",
       "    var o = A.createOscillator();\n",
       "    o.connect(A.destination);\n",
       "    o.start(0);\n",
       "    var duration = 500;\n",
       "    setTimeout(function(){o.stop(); A.close();}, duration);\n",
       "}"
      ],
      "text/plain": [
       "<IPython.core.display.Javascript object>"
      ]
     },
     "metadata": {},
     "output_type": "display_data"
    }
   ],
   "source": [
    "%%javascript\n",
    "// Original source -- https://gist.github.com/xem/670dec8e70815842eb95\n",
    "Jupyter.beep = () => {\n",
    "    var A=new AudioContext();\n",
    "    var o = A.createOscillator();\n",
    "    o.connect(A.destination);\n",
    "    o.start(0);\n",
    "    var duration = 500;\n",
    "    setTimeout(function(){o.stop(); A.close();}, duration);\n",
    "}"
   ]
  },
  {
   "cell_type": "markdown",
   "metadata": {},
   "source": [
    "## Pre-Process TASS Dataset"
   ]
  },
  {
   "cell_type": "markdown",
   "metadata": {},
   "source": [
    "Load dataset"
   ]
  },
  {
   "cell_type": "code",
   "execution_count": 238,
   "metadata": {},
   "outputs": [],
   "source": [
    "TASS_DATA_PATH = Path(DATA_PATH/'sanseTASS/task_4_subtask1_train_dev/')\n",
    "TRN_PATH = TASS_DATA_PATH/'trn'\n",
    "VAL_PATH = TASS_DATA_PATH/'dev'\n",
    "\n",
    "BOS = 'xbos'  # beginning-of-sentence tag\n",
    "FLD = 'xfld'  # data field tag"
   ]
  },
  {
   "cell_type": "code",
   "execution_count": 239,
   "metadata": {},
   "outputs": [],
   "source": [
    "def get_dataset(dataset):\n",
    "    headers = []\n",
    "    ids = []\n",
    "    countries = []\n",
    "    urls = []\n",
    "    headlines = []\n",
    "    dates = []\n",
    "    tags = []\n",
    "    with open(dataset,'r', encoding='utf8') as file:\n",
    "        file = csv.reader(file, delimiter='\\t')\n",
    "        loop = 0\n",
    "        for row in file:\n",
    "            if loop>0:\n",
    "                ids.append(row[0])\n",
    "                countries.append(row[1])\n",
    "                urls.append(row[2])\n",
    "                headlines.append(row[3])\n",
    "                dates.append(row[4])\n",
    "                tags.append(row[5])\n",
    "            else:\n",
    "                headers.append(row[0], row[1], row[2], row[3], row[4], row[5])s\n",
    "            loop+=1\n",
    "    return headers, ids, countries, urls, headlines, dates, tags"
   ]
  },
  {
   "cell_type": "code",
   "execution_count": 240,
   "metadata": {},
   "outputs": [],
   "source": [
    "trn_headers, trn_ids, trn_countries, trn_urls, trn_headlines, trn_dates, trn_tags = get_dataset(TRN_PATH/'SANSE_train-1.tsv')"
   ]
  },
  {
   "cell_type": "code",
   "execution_count": 241,
   "metadata": {},
   "outputs": [],
   "source": [
    "val_headers, val_ids, val_countries, val_urls, val_headlines, val_dates, val_tags = get_dataset(VAL_PATH/'SANSE_dev-1.tsv')"
   ]
  },
  {
   "cell_type": "markdown",
   "metadata": {},
   "source": [
    "Check how big our dataset is"
   ]
  },
  {
   "cell_type": "code",
   "execution_count": 242,
   "metadata": {
    "scrolled": true
   },
   "outputs": [
    {
     "name": "stdout",
     "output_type": "stream",
     "text": [
      "1250\n",
      "250\n"
     ]
    }
   ],
   "source": [
    "print(len(trn_ids))\n",
    "print(len(val_ids))"
   ]
  },
  {
   "cell_type": "markdown",
   "metadata": {},
   "source": [
    "Labels to integers"
   ]
  },
  {
   "cell_type": "code",
   "execution_count": 247,
   "metadata": {},
   "outputs": [],
   "source": [
    "def labels_to_num(tags, labels_dict):\n",
    "    labels = [labels_dict[i] for i in tags]\n",
    "    labels = np.array(labels)\n",
    "    return labels\n",
    "\n",
    "\n",
    "str_labels = set(trn_tags)\n",
    "labels_dict = {tag: i for i, tag in enumerate(trn_str_labels)}\n",
    "\n",
    "trn_labels = labels_to_num(trn_tags, labels_dict)\n",
    "val_labels = labels_to_num(val_tags, labels_dict)"
   ]
  },
  {
   "cell_type": "markdown",
   "metadata": {},
   "source": [
    "Some standard pre-processing: We delete all None type tweets, we replace some tokens with more meaningful ones and we shuffle tokens randomly"
   ]
  },
  {
   "cell_type": "code",
   "execution_count": 249,
   "metadata": {},
   "outputs": [],
   "source": [
    "def flattern(A):\n",
    "    'Source: https://stackoverflow.com/a/17867797/7273299'\n",
    "    \n",
    "    'Flattens a list of lists and strings into a list.'\n",
    "    rt = []\n",
    "    for i in A:\n",
    "        if isinstance(i,list): rt.extend(flattern(i))\n",
    "        else: rt.append(i)\n",
    "    return rt"
   ]
  },
  {
   "cell_type": "code",
   "execution_count": 250,
   "metadata": {},
   "outputs": [],
   "source": [
    "def isInt(v):\n",
    "    'Source: https://stackoverflow.com/a/9859202/7273299'\n",
    "    \n",
    "    'Checks if a string is a number.'\n",
    "    try:     i = int(v)\n",
    "    except:  return False\n",
    "    return True"
   ]
  },
  {
   "cell_type": "code",
   "execution_count": 251,
   "metadata": {},
   "outputs": [],
   "source": [
    "def int_placeholder(headlines):\n",
    "    headlines = [[[i,'int_string'] if isInt(i) else i for i in headline.split()] for headline in headlines]\n",
    "    headlines = np.array([flattern(headline) for headline in headlines])\n",
    "    headlines = np.array([' '.join(i) for i in headlines])\n",
    "    return headlines"
   ]
  },
  {
   "cell_type": "code",
   "execution_count": 252,
   "metadata": {},
   "outputs": [],
   "source": [
    "trn_heads = int_placeholder(trn_headlines)\n",
    "val_heads = int_placeholder(val_headlines)"
   ]
  },
  {
   "cell_type": "code",
   "execution_count": 253,
   "metadata": {},
   "outputs": [],
   "source": [
    "def cty_headlines(countries, headlines):\n",
    "    # Probar con y sin\n",
    "    cty_heads = []\n",
    "    for i in range(len(countries)):\n",
    "        cty_heads.append(str(countries[i])+' '+str(headlines[i]))\n",
    "    cty_heads = np.array(cty_heads) \n",
    "    return cty_heads"
   ]
  },
  {
   "cell_type": "code",
   "execution_count": 254,
   "metadata": {},
   "outputs": [],
   "source": [
    "trn_heads = cty_headlines(trn_countries, trn_heads)\n",
    "val_heads = cty_headlines(val_countries, val_heads)"
   ]
  },
  {
   "cell_type": "code",
   "execution_count": 255,
   "metadata": {},
   "outputs": [],
   "source": [
    "def random_order(headlines, labels):\n",
    "    idx = np.random.permutation(len(headlines))\n",
    "    return headlines[idx], labels[idx]"
   ]
  },
  {
   "cell_type": "code",
   "execution_count": 256,
   "metadata": {},
   "outputs": [],
   "source": [
    "np.random.seed(42)\n",
    "\n",
    "trn_heads, trn_labels = random_order(trn_heads, trn_labels)\n",
    "val_heads, val_labels = random_order(val_heads, val_labels)"
   ]
  },
  {
   "cell_type": "code",
   "execution_count": 257,
   "metadata": {},
   "outputs": [
    {
     "name": "stdout",
     "output_type": "stream",
     "text": [
      "ESP José Luis Ábalos: \"Rajoy tendrá que convocar elecciones si no sale de la parálisis\" 1\n",
      "VEN Maduro quiere enfrentarse a Ramos Allup en las elecciones presidenciales 1\n",
      "USA Obispo de la diócesis de Chilpancingo-Chilapa pide dialogar con el crimen organizado 1\n",
      "ESP La inteligencia de EE UU alerta del riesgo de injerencia rusa en las legislativas de noviembre y en Europa 1\n",
      "ESP Las denuncias a menores por violencia machista se triplican 1\n",
      "MEX Vecinos denuncia maltrato animal en supuesta pensión de la Merced Gómez 1\n",
      "COL 'Ante corrupción, la Corte se autocriticó y renovó': Hernández 1\n",
      "MEX Aparece con vida el periodista Mario Cañas 0\n",
      "USA Se separaron Jennifer Aniston y Justin Theroux, tras dos años y medio de matrimonio 1\n",
      "USA La ANMAT prohibió la comercialización de productos médicos y alimenticios 1\n",
      "COL Murió el principal predicador de Estados Unidos 1\n",
      "CHI Manchester City golea a Arsenal y sigue firme hacia el título de la Premier League 0\n",
      "ESP Programa especial del Día de la Mujer: Paramos 0\n",
      "MEX Asesinan a precandidato de Morena a alcaldía en Puebla 1\n",
      "VEN Mascotas, las otras víctimas de la crisis en Venezuela 1\n",
      "CUB Empresa avileña de cítricos con nuevos retos 0\n",
      "COL En enero se registró disminución de Víctimas fatales 0\n",
      "COL Tesoros ocultos de la Luis Ángel Arango que hoy cumple 60 int_string años 0\n",
      "CUB Al menos 6 int_string heridos deja ataque químico turco en Afrín 1\n",
      "CHI Rosa Bartra asegura que Fuerza Popular apoyará a Martín Vizcarra ante eventual vacancia de PPK 1\n",
      "CUB Presidente de Kenya y jefe de la oposición se pronuncian en favor de la reconciliación 0\n",
      "ARG Antes de la marcha de Hugo Moyano, Mauricio Macri extiende su ofensiva a otros sindicatos 1\n",
      "USA Alberto Fujimori será procesado por el Caso Pativilca 1\n",
      "USA Piden aclarar ingreso excedente de 2016 int_string 1\n",
      "ARG Un grupo de familiares del ARA San Juan realizó una colecta para la búsqueda del submarino 0\n",
      "PER Aprueban por unanimidad la vacancia del encarcelado vicegobernador de Áncash 0\n",
      "ESP Dimite el vigilante que no hizo nada durante el tiroteo en Florida 1\n",
      "CHI Pablo Guede: Esteban Paredes es un grande, con 19 int_string goles más o menos 0\n",
      "PER Un avión con 71 int_string personas a bordo se estrelló en Moscú 1\n",
      "MEX Tornado daña 45 int_string casas en dos municipios de Edomex 1\n",
      "COL Santos inauguró Expedición Bio para buscar nuevas especies en el río Apaporis 0\n",
      "ARG Juventus-Tottenham, octavos de final de la Champions League: dos goles de Higuaín en apenas 8 int_string minutos 0\n",
      "ARG Repudio a Nicolás Repetto por una pregunta que le hizo a una mujer acosada 1\n",
      "PER Jaime Yoshiyama y Augusto Bedoya: Golpe a la línea de flotación del fujimorismo 1\n",
      "CHI Carabineros reforzará sus servicios en Santiago 0\n",
      "MEX Lindsay Lohan y Kim Kardashian se enfrentan en Instagram 0\n",
      "ESP El Santander ganó un 7% más en 2017 int_string tras integrar el Popular 0\n",
      "CHI Fidel Castro Díaz-Balart, el primogénito científico de Fidel Castro 1\n",
      "ESP Más de 230 int_string muertos en 48 int_string horas por los bombardeos del régimen sirio en Guta Oriental 1\n",
      "ARG Verratti: \"Estamos listos para el Real Madrid\" 0\n",
      "VEN Incineraron avioneta con presunta vinculación al narcotráfico en el Zulia 1\n",
      "USA Prevén que SEIDO atraiga caso de italianos 0\n",
      "USA La AEE comienza a restablecer el servicio de energía eléctrica 0\n",
      "ESP Alerta máxima ante los ultras rusos de cara al Mundial 1\n",
      "CUB Armas críticas de la izquierda latinoamericana 1\n",
      "CUB Senacyt presenta los programas, subprogramas y líneas de financiameinto para el apoyo de la Ciencia y Tecnología ... 0\n",
      "PER Cajamarca: Ocho muertos y siete heridos tras caída de combi a abismo 1\n",
      "ESP Trump y el #MeToo propulsan el feminismo en Estados Unidos 1\n",
      "ESP Carta abierta a Zapatero sobre Venezuela 0\n",
      "CHI Scicluna confirma que no se reunió con Karadima pero si con Ezzati durante ronda de entrevistas 0\n",
      "CHI Detienen a presunto autor del asesinato de un ciudadano venezolano en la región 1\n",
      "ESP Hamilton manda en Montmeló, Alonso sonríe de nuevo 0\n",
      "ESP COLAU O EL REGRESO DE LA TRIBU 1\n",
      "MEX Precandidato del PRI sufre atentado; sale ileso 1\n",
      "PER Incendio de grandes proporciones consumió complejo pesquero de Paracas [VIDEO] 1\n",
      "CHI O'Higgins lamentó fallecimiento del ex capitán Mauro Meléndez 1\n",
      "ESP Iniesta hechiza Stamford Bridge 0\n",
      "USA Empleados de banca: ganones 0\n",
      "CUB Cuba trabaja en programa de desarrollo del ferrocarril hasta 2028 int_string 0\n",
      "VEN Denuncian que cada 24 int_string horas fallecen ocho niños en Bolívar 1\n",
      "ESP La sonda que fotografiará las puestas de Sol de Marte empieza a trabajar 0\n",
      "ESP Dibaba, Lasitskene y Lysenko se coronan el primer día en Birmingham 0\n",
      "ESP Bienvenido, Marcelo 0\n",
      "ESP Los operadores de telefonía están obligados a bloquear las páginas de descargas ilegales 1\n",
      "MEX Neymar sale lesionado en partido del PSG 0\n",
      "COL Correa o Moreno: Ecuador decide su futuro en un referéndum constitucional 1\n",
      "COL Goleadas 10-0 y 8-0 en la segunda fecha de la Liga Femenina 0\n",
      "USA López Obrador da voto de confianza a EPN; reconocerá que no intervenga en comicios 1\n",
      "ESP Miles de jubilados indignados exigen en la calle \"pensiones dignas\" 1\n",
      "ESP El Gobierno se defiende: \"La brecha salarial está en mínimos históricos\" 1\n",
      "MEX Wall Street cae tras anuncio de Trump sobre aranceles 1\n",
      "USA Nueva York recuerda atentado de 1993 int_string al World Trade Center 0\n",
      "MEX Localizan avioneta presuntamente desaparecida en Amecameca 0\n",
      "USA Jaime Yoshiyama y Augusto Bedoya: Golpe a la línea de flotación del fujimorismo 1\n",
      "USA Hermano de senador Romero Hicks apoyará a Meade 0\n",
      "ESP Patatas fritas, bollos y refrescos con menos azúcar, sal y grasas: así cambiará nuestra cesta de la compra 0\n",
      "COL Grupo Lima convoca reunión para evaluar elecciones en Venezuela 0\n",
      "COL Aprendices e instructores del SENA aprenderán francés en tiempo récord 0\n",
      "ARG Video: así son las nuevas y super potentes armas de Rusia 1\n",
      "CUB Condado de Broward planea demoler edificio donde ocurrió la matanza en escuela secundaria 1\n",
      "PER Niño de 5 int_string años cayó en olla de chicha de jora hirviendo [VIDEO] 1\n",
      "USA Almagro designa a nuevo portavoz de la Maccih 0\n",
      "MEX Recibí fuego amigo y enemigo: Ebrard 1\n",
      "ESP Caso Torres: Simeone perdió las formas, no la razón 1\n",
      "PER PNP Cajamarca incautó 10 int_string kilos de PBC y detuvo a tres personas 1\n",
      "PER Proponen que autos antiguos también paguen impuesto vehicular 0\n",
      "ESP Los ‘viejenials’ toman la calle 0\n",
      "PER Trump sigue describiendo a los inmigrantes como delincuentes 1\n",
      "USA Siria enfrenta un 'apocalipsis planificado', acusa alto comisionado de la ONU 1\n",
      "MEX Unicef sigue \"con preocupación\" mensajes de Syntek en Twitter 1\n",
      "ESP Pinto contratará a quienes se chiven de la UTE de limpieza 1\n",
      "USA Chile: presidente electo entrega control de su fortuna 1\n",
      "ESP El Gobierno confía en que ERC postule a otro candidato 1\n",
      "USA EE.UU: autoridades ordenan evacuaciones obligatorias por tormentas en California 1\n",
      "USA Frente Amplio Venezuela Libre realiza presentación de nueva plataforma unitaria (+Manifiesto) 0\n",
      "CUB Evalúan descargos de aspirantes a fiscal general en Guatemala 0\n",
      "USA 10 int_string datos sobre la famosa marmota Chuck 0\n",
      "CHI La pareja de Ricardo Palma Salamanca fue detenida en Francia 1\n",
      "COL Israel redobla las advertencias a Irán tras los ataques en Siria 1\n",
      "USA Por escasez de focas, muere 40% de los osos polares 1\n",
      "MEX Marco Antonio Sánchez “tiene actitud del demonio”, dice su madre 1\n",
      "VEN El otro Fidel Castro 1\n",
      "PER Expolicía fue capturado con 175 int_string kilos de cocaína 1\n",
      "VEN Dos personas mueren por disparos en el campus de una universidad de EE UU 1\n",
      "COL El pulso electoral en la frontera caliente 1\n",
      "PER San Miguel: Arqueólogos encuentran restos humanos de 1.300 años en Huaca El Rosal 0\n",
      "ARG Murió un hombre y otro está gravemente herido 1\n",
      "CUB Más de tres millones de brasileños en edad escolar sin aulas 1\n",
      "CHI Ubilla y Alvarado lideran lista de subsecretarios que Piñera presenta hoy 0\n",
      "USA EE.UU: \"Venezuela es un país de tránsito para las drogas ilícitas\" 1\n",
      "CHI Evo Morales inaugura \"jornadas por el mar\" y llama a crear bandera gigante por juicio en La Haya 1\n",
      "CHI Uribe ya está en la Corte Suprema para responder por supuesta manipulación testigos 1\n",
      "PER ¡Ten cuidado! Bañistas encuentran gusanos en playa Los Pescadores de Chorrillos [FOTOS Y VIDEO] 1\n",
      "COL Policías exigían dinero a cambio de no cerrar establecimientos para adultos en Cali 1\n",
      "ESP Muere atropellada en la M-30 a la altura del puente de Ventas 1\n",
      "ARG Un micro cayó a un barranco en el sur de Perú y dejó más de 40 int_string muertos 1\n",
      "PER Policía va a prisión por no pagar alimentos 1\n",
      "PER Los vuelos entre Cusco y Pisco harán subir en 5% el flujo turístico 0\n",
      "CHI Colo Colo lamentó fatal accidente de delegación de escuela Lo Boza 1\n",
      "CHI Las 3 int_string propuestas en materia de Vivienda que Sharp le entregará a Piñera en marzo 0\n",
      "ESP El agente de futbolistas Quique Pina, detenido por blanqueo de capitales 1\n",
      "CUB Fabricio Alvarado: El que esté con nosotros debe hacerlo por convicción 0\n",
      "ESP Energía ficha a un bufete internacional tras el revés judicial por las renovables 0\n",
      "COL Miércoles de Ceniza: una ocasión providencial para retornar a las raíces de la fe 0\n",
      "VEN Lula iniciará el 27 int_string de febrero cuarta etapa de caravana presidencial 0\n",
      "COL Mal cálculo del Registrador en consultas, el lunar de la jornada 0\n",
      "VEN Dos muertos y 219 int_string heridos tras el terremoto de 6,4 que derrumbó un hotel y varios edificios en Taiwán 1\n",
      "COL En medio de un atraco matan a turista en Valledupar 1\n",
      "COL Gabinete binacional de Perú y Colombia hablará de Venezuela 0\n",
      "ARG Boca empató e Independiente perdió en el debut de la Copa 0\n",
      "PER Venezolanos seguirán pidiendo refugio en la nueva sede de la cancillería [VIDEO] 1\n",
      "ESP El padre de Neymar dice que estará de baja al menos \"6 semanas\" 1\n",
      "CUB Presidente de Venezuela es respaldado por los obreros 0\n",
      "PER Tecnología para vivir mejor 0\n",
      "ESP Iberostar Tenerife - Real Madrid, en directo 0\n",
      "ESP La polémica del duque de Alba: busca becarios gratis para un palacio 1\n",
      "ESP Las panaderías de Madrid que han devuelto el sabor a sus barrios 0\n",
      "CHI Luego de 12 int_string horas de trabajo de parto: Gala Caldirola y Mauricio Isla reciben a su hija Luz Elif 0\n",
      "USA Policía recibe en El Salvador a pandillero deportado de Estados Unidos 1\n",
      "CUB Japón afianza cooperación con Cuba mediante agencia JICA 0\n",
      "CUB Abrirán colegios electorales especiales en Ciego de Ávila 0\n",
      "ESP El Gobierno quiere ampliar los delitos penados con prisión permanente revisable 1\n",
      "MEX Trump desoye las lecciones de la historia y desafía al mundo con sus nuevos aranceles 1\n",
      "USA Peña Nieto promulga Ley Fintech 0\n",
      "PER Kuczynski: Susana de la Puente vendrá al país para explicar ante las autoridades 0\n",
      "COL Viral en YouTube: la enterraron viva y murió intentando salir de ataúd 1\n",
      "CHI Tras la visita de Macri, avanzan en nuevos acuerdos con Rusia 0\n",
      "CUB Miles de estudiantes apoyarán elecciones generales en Cuba 0\n",
      "PER El fútbol en shock: revelan cómo fueron las últimas horas en vida del italiano Davide Astori 1\n",
      "USA El Gobierno ve \"con buenos ojos\" que se debata en el Congreso el cobro a extranjeros en hospitales públicos 0\n",
      "CUB ¿Qué papel desempeña el periodismo en la construcción de una creíble hegemonía de la ideología revolucionaria? 1\n",
      "CUB EE.UU. justifica paso en embajada en Cuba que muchos creen politizado 1\n",
      "ARG Pánico en Londres: evacuaron la estación de trenes Victoria 1\n",
      "COL Colo Colo reaccionó con Valdés y Paredes e igualó con O'Higgins 0\n",
      "VEN Tasa de cambio del sistema Dicom se ubicó en 43.489,656 bolívares por euro 0\n",
      "VEN Más de 16 int_string mil alumnos vuelven a las escuelas en Siria 0\n",
      "USA Quince años después, estos son los rostros del atentado terrorista contra el club El Nogal 1\n",
      "USA Israel multiplica las advertencias a Irán tras incursiones aéreas en Siria 1\n",
      "USA Detienen a 4 int_string policías por desaparición de italianos en Jalisco 1\n",
      "VEN Sudeban continúa inspecciones en zonas fronterizas del país 0\n",
      "ARG Un suboficial del ejército fue acusado de abusar de una joven de 17 int_string años 1\n",
      "COL 'Chilangos' pasan 2.4 años de su vida en el tráfico 0\n",
      "PER Alianza Lima y Boca Juniors empataron 0-0 por la Libertadores [FOTOS] 0\n",
      "ESP Tim Kaine: \"Donald Trump parece tener fervor por socavar la diplomacia\" 1\n",
      "ESP CIS: Cs sigue al alza, se coloca en tercera posición y supera ya a Podemos 1\n",
      "PER Sepúlveda visitó en dos ocasiones la PCM cuando PPK era primer ministro 0\n",
      "ARG Díaz Gilligan imputado: el fiscal investiga su vínculo con la plata \"sucia\" del fútbol 1\n",
      "USA Enviado del papa se reúne con víctimas de pederastia en Chile 1\n",
      "CUB Piñera se compromete con crecimiento económico y derechos de la infancia 0\n",
      "USA Gobierno y oposición no logran consenso en Venezuela 1\n",
      "ESP El Consejo de Seguridad de la ONU aprueba una tregua de 30 int_string días en Siria 0\n",
      "ARG Encontró una billetera con $8000 y sin documentos, pero encontró al dueño por Facebook 0\n",
      "MEX Es difícil acceder al estudio médico de Marco 0\n",
      "CHI Emblemáticas actrices de Grey's Anatomy fueron desvinculadas de la serie 1\n",
      "MEX Intensa nevada derriba miles de árboles en Moscú; reportan un deceso 1\n",
      "USA Alarmante situación de salud afecta a niños en Iraq, reporta Unicef 1\n",
      "VEN ¡Atentos! @NicolasMaduro anuncia que este domingo a las 8:55pm presentará una sorpresa a los venezolanos 1\n",
      "CUB Un niño ayudó a descubrir el fósil de un pez milenario 0\n",
      "ESP Cospedal se manifiesta en contra de la huelga feminista del 8 int_string de marzo 1\n",
      "MEX Cruz Azul vs. Necaxa, en vivo, Clausura 2018, Liga MX: (0-1) MINUTO A MINUTO 0\n",
      "VEN Justicia británica mantiene orden de detención de Assange 1\n",
      "COL Fallece el futbolista Davide Astori, capitán de la Fiorentina 1\n",
      "ESP El Madrid se agarra al trono en París 0\n",
      "PER La respuesta de los estudiantes a la \"Ley del esclavo juvenil\" 1\n",
      "ESP Muere Quini, el Brujo del gol 0\n",
      "ESP La juez envía a prisión preventiva al jugador del Villarreal Rubén Semedo 1\n",
      "ARG Hallan muerto a Gabriel Cruz, el chico desaparecido en España 1\n",
      "ESP La web y la app de ING Direct se caen durante más de tres horas 1\n",
      "MEX Guajardo: supeditar aranceles al TLC, no 1\n",
      "CHI Cuestionado jefe técnico de Centro de Coronel fue removido del Sename 1\n",
      "MEX Joven mata a sus padres y hiere a su hermano en Guanajuato 1\n",
      "ARG El otro Fidel Castro 1\n",
      "ARG De Vido se libró de un procesamiento por los subsidios 1\n",
      "CHI Atentado incendiario destruye 4 int_string camiones y 3 int_string retroexcavadoras en Contulmo 1\n",
      "ESP Ricky también escarba en el abismo de los Grizzlies: ¡16 derrotas consecutivas! 1\n",
      "CHI Transantiago: Alza de tarifa aportará US$ 30 int_string millones al sistema y piden nuevo incremento del subsidio 0\n",
      "PER Andahuaylas: capturan a violador incluido en lista de más buscados 1\n",
      "COL Candidatos presidenciales celebran que Santos no interfiera en el próximo gobierno 1\n",
      "CUB Investigan hallazgo de paquete sospechoso en Parlamento británico 0\n",
      "CHI Mendoza: Chofer de TurBus fue condenado a 20 int_string años de prisión por accidente ocurrido en 2017 int_string 1\n",
      "ESP Nadal: \"Ni Federer ni yo peleamos por ser el número uno\" 0\n",
      "COL Corte archiva investigación contra Gobernadora del Valle por parapolítica 1\n",
      "PER Combustibles: Se confirma adquisición de Pecsa por parte de Primax 0\n",
      "PER Lambayeque: cuatro distritos en riesgo por mal manejo de residuos sólidos 1\n",
      "MEX Mueren dos personas al caer de un avión 1\n",
      "ARG Franco Macri, operado en el Hospital Italiano por una fractura de cadera 0\n",
      "CUB Terremoto en México: ya van más de 150 int_string réplicas 1\n",
      "MEX Cae helicóptero militar en Japón; muere uno de los copilotos 1\n",
      "ESP El líder de la OTAN exige a Europa más gasto en defensa 1\n",
      "ESP Caso Arandina: ¿Y ahora qué? 1\n",
      "CUB Policías recogen evidencias tras la explosión en Colta 1\n",
      "USA Disney anuncia que subirá sus precios en los parques de Florida y California 1\n",
      "PER Comisión Lava Jato recibe testimonio de esposo de Úrsula Letona 1\n",
      "PER “Me preocupa que PPK quiera amarrar su declaración a la Barata” 1\n",
      "PER Instagram: Clarivett Yllescas y las muestras de afecto que recibe en redes sociales 0\n",
      "ARG Gallardo cambia porque sabe cuánto se juega 0\n",
      "ESP Muere un cadete del Alzira tras un ataque cardiaco en pleno partido 1\n",
      "VEN Gobierno presenta borrador de resolución sobre la eutanasia en niños 1\n",
      "CHI Corea del Norte califica de \"acto de guerra\" las nuevas sanciones de EEUU 1\n",
      "ARG Las nenas abusadas en Mendoza consumieron cocaína y una tiene sífilis 1\n",
      "PER Mi Vivienda Verde: créditos hipotecarios a tasas por debajo del mercado 0\n",
      "CUB Acoge Venezuela jornada de solidaridad con revolución bolivariana 1\n",
      "CHI Explosión en una fábrica en Francia deja dos muertos 1\n",
      "MEX Qué dice el polémico memorando desclasificado por Trump en el que acusan al FBI de abuso de poder en Estados ... 1\n",
      "COL Buscan a conductor de Ferrari accidentado en el que fallecieron dos colombianas 1\n",
      "VEN Presidente del Metro se pronunció sobre detonación de bomba lacrimógena 1\n",
      "MEX Aubameyang ficha por el Arsenal por una cifra récord en el club inglés 0\n",
      "VEN Jorge Arreaza anunció gira por Latinoamérica y el Caribe 0\n",
      "ESP Trump acepta reunirse con Kim Jong Un en mayo 0\n",
      "MEX INE garantiza precisión en las tendencias del conteo rápido 0\n",
      "ESP Tres empleados de Oxfam amenazaron a un testigo del escándalo sexual en Haití 1\n",
      "USA El chiste más simple de Eugenio Derbez en los premios Óscar 0\n",
      "MEX EU, cauto ante oferta norcoreana de diálogo 1\n",
      "VEN Protestaron en bancos del Táchira por pago incompleto de pensiones 1\n",
      "USA “Reyes desnudos”: cumbre del ALBA evidenció la soledad de Nicolás Maduro 1\n",
      "VEN Mueren dos bebés por desnutrición en Monagas 1\n",
      "CHI Las claves de cómo Wigan, un club de tercera división, eliminó de la FA Cup al Manchester City 0\n",
      "CUB Dialoga Bachelet con emperador japonés Akihito 0\n",
      "CUB Encuesta ratifica al PSUV como principal fuerza política de Venezuela 0\n",
      "MEX Balacera deja un muerto y una herida durante fiesta infantil en la Jardín Balbuena 1\n",
      "VEN Cabello dirigirá el \"Plan Cívico-Militar de Defensa Popular\" en la frontera 0\n",
      "CHI Funcionario del Ejército se encuentra hospitalizado tras explosión de mina antipersonal 1\n",
      "CHI Tiroteo en Florida: investigan fotos que el principal sospechoso publicó en redes sociales 1\n",
      "ESP Urkullu arropa a las víctimas y proclama que su dolor \"fue injusto\" 0\n",
      "CHI Las señales que dio Nikolas Cruz antes de cometer la masacre en la secundaria de Parkland 1\n",
      "MEX Vuelca tráiler de doble remolque en la colonia Condesa 1\n",
      "USA Venezuela acusa a Colombia de boicotear firma del acuerdo de paz con la oposición 1\n",
      "VEN Tribunal brasileño rechaza primer recurso de Lula para evitar la prisión 1\n",
      "VEN “El Patán” fue ultimado en enfrentamiento con el Cicpc 1\n",
      "COL Aplazan cirugía de corazón de Rodrigo Londoño por complicaciones pulmonares 1\n"
     ]
    }
   ],
   "source": [
    "for i in range(len(val_heads)):\n",
    "    print(val_heads[i], val_labels[i])"
   ]
  },
  {
   "cell_type": "code",
   "execution_count": 258,
   "metadata": {},
   "outputs": [],
   "source": [
    "col_names = ['label', 'headline']"
   ]
  },
  {
   "cell_type": "markdown",
   "metadata": {},
   "source": [
    "Build validation and training sets"
   ]
  },
  {
   "cell_type": "code",
   "execution_count": 261,
   "metadata": {},
   "outputs": [],
   "source": [
    "df_trn = pd.DataFrame({'headline':trn_heads, 'label':trn_labels}, columns=col_names)\n",
    "df_val = pd.DataFrame({'headline':val_heads, 'label':val_labels}, columns=col_names)\n",
    "(CLAS_PATH/'classes.txt').open('w').writelines(f'{o}\\n' for o in str_labels)"
   ]
  },
  {
   "cell_type": "code",
   "execution_count": 262,
   "metadata": {},
   "outputs": [
    {
     "data": {
      "text/html": [
       "<div>\n",
       "<style scoped>\n",
       "    .dataframe tbody tr th:only-of-type {\n",
       "        vertical-align: middle;\n",
       "    }\n",
       "\n",
       "    .dataframe tbody tr th {\n",
       "        vertical-align: top;\n",
       "    }\n",
       "\n",
       "    .dataframe thead th {\n",
       "        text-align: right;\n",
       "    }\n",
       "</style>\n",
       "<table border=\"1\" class=\"dataframe\">\n",
       "  <thead>\n",
       "    <tr style=\"text-align: right;\">\n",
       "      <th></th>\n",
       "      <th>label</th>\n",
       "      <th>headline</th>\n",
       "    </tr>\n",
       "  </thead>\n",
       "  <tbody>\n",
       "    <tr>\n",
       "      <th>0</th>\n",
       "      <td>1</td>\n",
       "      <td>CHI Obra genera polémica en día de apertura de...</td>\n",
       "    </tr>\n",
       "    <tr>\n",
       "      <th>1</th>\n",
       "      <td>0</td>\n",
       "      <td>ARG Los detalles del despliegue del Gobierno p...</td>\n",
       "    </tr>\n",
       "    <tr>\n",
       "      <th>2</th>\n",
       "      <td>0</td>\n",
       "      <td>PER Claudia Cooper: Nuevo proyecto no parará p...</td>\n",
       "    </tr>\n",
       "    <tr>\n",
       "      <th>3</th>\n",
       "      <td>1</td>\n",
       "      <td>COL Un soldado muerto en ataque a base militar...</td>\n",
       "    </tr>\n",
       "    <tr>\n",
       "      <th>4</th>\n",
       "      <td>1</td>\n",
       "      <td>PER Piura: incendio dejó un niño herido y 27 i...</td>\n",
       "    </tr>\n",
       "    <tr>\n",
       "      <th>5</th>\n",
       "      <td>1</td>\n",
       "      <td>PER Chorrillos: detienen a sujetos que robaban...</td>\n",
       "    </tr>\n",
       "    <tr>\n",
       "      <th>6</th>\n",
       "      <td>0</td>\n",
       "      <td>ESP Las Palmas - Barcelona en directo, la Liga...</td>\n",
       "    </tr>\n",
       "    <tr>\n",
       "      <th>7</th>\n",
       "      <td>1</td>\n",
       "      <td>PER Agricultores de Torata acuerdan reanudar p...</td>\n",
       "    </tr>\n",
       "    <tr>\n",
       "      <th>8</th>\n",
       "      <td>0</td>\n",
       "      <td>COL El técnico Miguel Ángel Russo se juega un ...</td>\n",
       "    </tr>\n",
       "    <tr>\n",
       "      <th>9</th>\n",
       "      <td>1</td>\n",
       "      <td>VEN EE UU acusó a China por tener responsabili...</td>\n",
       "    </tr>\n",
       "    <tr>\n",
       "      <th>10</th>\n",
       "      <td>0</td>\n",
       "      <td>PER Anuncian lluvias de moderada a fuerte inte...</td>\n",
       "    </tr>\n",
       "    <tr>\n",
       "      <th>11</th>\n",
       "      <td>0</td>\n",
       "      <td>ESP Así será el nuevo pan integral en España, ...</td>\n",
       "    </tr>\n",
       "    <tr>\n",
       "      <th>12</th>\n",
       "      <td>1</td>\n",
       "      <td>ESP El misterio del cadáver de la filipina con...</td>\n",
       "    </tr>\n",
       "    <tr>\n",
       "      <th>13</th>\n",
       "      <td>1</td>\n",
       "      <td>VEN Estados Unidos: las autoridades de Florida...</td>\n",
       "    </tr>\n",
       "    <tr>\n",
       "      <th>14</th>\n",
       "      <td>1</td>\n",
       "      <td>PER Poder Judicial dejó al voto caso de músico...</td>\n",
       "    </tr>\n",
       "  </tbody>\n",
       "</table>\n",
       "</div>"
      ],
      "text/plain": [
       "    label                                           headline\n",
       "0       1  CHI Obra genera polémica en día de apertura de...\n",
       "1       0  ARG Los detalles del despliegue del Gobierno p...\n",
       "2       0  PER Claudia Cooper: Nuevo proyecto no parará p...\n",
       "3       1  COL Un soldado muerto en ataque a base militar...\n",
       "4       1  PER Piura: incendio dejó un niño herido y 27 i...\n",
       "5       1  PER Chorrillos: detienen a sujetos que robaban...\n",
       "6       0  ESP Las Palmas - Barcelona en directo, la Liga...\n",
       "7       1  PER Agricultores de Torata acuerdan reanudar p...\n",
       "8       0  COL El técnico Miguel Ángel Russo se juega un ...\n",
       "9       1  VEN EE UU acusó a China por tener responsabili...\n",
       "10      0  PER Anuncian lluvias de moderada a fuerte inte...\n",
       "11      0  ESP Así será el nuevo pan integral en España, ...\n",
       "12      1  ESP El misterio del cadáver de la filipina con...\n",
       "13      1  VEN Estados Unidos: las autoridades de Florida...\n",
       "14      1  PER Poder Judicial dejó al voto caso de músico..."
      ]
     },
     "execution_count": 262,
     "metadata": {},
     "output_type": "execute_result"
    }
   ],
   "source": [
    "df_trn.head(15)"
   ]
  },
  {
   "cell_type": "markdown",
   "metadata": {},
   "source": [
    "We store the datasets in pandas dataframes for later use"
   ]
  },
  {
   "cell_type": "code",
   "execution_count": 263,
   "metadata": {},
   "outputs": [],
   "source": [
    "df_trn.to_csv(CLAS_PATH/'train.csv', header=False, index=False)\n",
    "df_val.to_csv(CLAS_PATH/'validation.csv', header=False, index=False)"
   ]
  },
  {
   "cell_type": "code",
   "execution_count": 264,
   "metadata": {},
   "outputs": [],
   "source": [
    "df_trn = pd.DataFrame({'headline':trn_heads, 'label':[0]*len(trn_labels)}, columns=col_names)\n",
    "df_val = pd.DataFrame({'headline':val_heads, 'label':[0]*len(val_labels)}, columns=col_names)"
   ]
  },
  {
   "cell_type": "code",
   "execution_count": 265,
   "metadata": {},
   "outputs": [],
   "source": [
    "df_trn.to_csv(TASSLM_PATH/'train.csv', header=False, index=False)\n",
    "df_val.to_csv(TASSLM_PATH/'validation.csv', header=False, index=False)"
   ]
  },
  {
   "cell_type": "markdown",
   "metadata": {},
   "source": [
    "## Tokenize and Standarize General Tokens for TASS Dataset"
   ]
  },
  {
   "cell_type": "markdown",
   "metadata": {},
   "source": [
    "Second Pre-processing using fast.ai functions"
   ]
  },
  {
   "cell_type": "code",
   "execution_count": 266,
   "metadata": {},
   "outputs": [],
   "source": [
    "chunksize=24000\n",
    "\n",
    "re1 = re.compile(r'  +')"
   ]
  },
  {
   "cell_type": "code",
   "execution_count": 267,
   "metadata": {},
   "outputs": [],
   "source": [
    "def fixup(x):\n",
    "    x = x.replace('#39;', \"'\").replace('amp;', '&').replace('#146;', \"'\").replace(\n",
    "        'nbsp;', ' ').replace('#36;', '$').replace('\\\\n', \"\\n\").replace('quot;', \"'\").replace(\n",
    "        '<br />', \"\\n\").replace('\\\\\"', '\"').replace('<unk>','u_n').replace(' @.@ ','.').replace(\n",
    "        ' @-@ ','-').replace('\\\\', ' \\\\ ')\n",
    "    return re1.sub(' ', html.unescape(x))\n",
    "\n",
    "def get_texts(df, n_lbls=1):\n",
    "    labels = df.iloc[:,range(n_lbls)].values.astype(np.int64)\n",
    "    texts = f'\\n{BOS} ' + df[n_lbls].astype(str)\n",
    "    for i in range(n_lbls+1, len(df.columns)): texts += f' {FLD} {i-n_lbls} ' + df[i].astype(str)\n",
    "    texts = texts.apply(fixup).values.astype(str)\n",
    "\n",
    "    tok = Tokenizer(lang='es').proc_all_mp(partition_by_cores(texts), lang='es')\n",
    "    return tok, list(labels)\n",
    "\n",
    "def get_all(df, n_lbls):\n",
    "    tok, labels = [], []\n",
    "    for i, r in enumerate(df):\n",
    "        tok_, labels_ = get_texts(r, n_lbls)\n",
    "        tok += tok_;\n",
    "        labels += labels_\n",
    "    return tok, labels"
   ]
  },
  {
   "cell_type": "code",
   "execution_count": 268,
   "metadata": {},
   "outputs": [],
   "source": [
    "df_trn = pd.read_csv(TASSLM_PATH/'train.csv', header=None, chunksize=chunksize)\n",
    "df_val = pd.read_csv(TASSLM_PATH/'validation.csv', header=None, chunksize=chunksize)"
   ]
  },
  {
   "cell_type": "code",
   "execution_count": 269,
   "metadata": {
    "collapsed": true
   },
   "outputs": [
    {
     "name": "stdout",
     "output_type": "stream",
     "text": [
      "\n",
      "\n",
      "\n",
      "\n",
      "\n",
      "\n",
      "\n",
      "\n"
     ]
    }
   ],
   "source": [
    "tok_trn, trn_labels = get_all(df_trn, 1)\n",
    "tok_val, val_labels = get_all(df_val, 1)"
   ]
  },
  {
   "cell_type": "code",
   "execution_count": 270,
   "metadata": {},
   "outputs": [],
   "source": [
    "(TASSLM_PATH/'tmp').mkdir(exist_ok=True)"
   ]
  },
  {
   "cell_type": "code",
   "execution_count": 271,
   "metadata": {},
   "outputs": [],
   "source": [
    "np.save(TASSLM_PATH/'tmp'/'tok_trn.npy', tok_trn)\n",
    "np.save(TASSLM_PATH/'tmp'/'tok_val.npy', tok_val)"
   ]
  },
  {
   "cell_type": "code",
   "execution_count": 272,
   "metadata": {},
   "outputs": [],
   "source": [
    "tok_trn = np.load(TASSLM_PATH/'tmp'/'tok_trn.npy')\n",
    "tok_val = np.load(TASSLM_PATH/'tmp'/'tok_val.npy')"
   ]
  },
  {
   "cell_type": "code",
   "execution_count": 273,
   "metadata": {},
   "outputs": [
    {
     "data": {
      "text/plain": [
       "[('t_up', 1447),\n",
       " ('\\n', 1250),\n",
       " ('xbos', 1250),\n",
       " ('de', 985),\n",
       " ('en', 567),\n",
       " ('la', 454),\n",
       " ('a', 437),\n",
       " ('el', 385),\n",
       " (':', 251),\n",
       " ('y', 224),\n",
       " ('esp', 207),\n",
       " ('\"', 197),\n",
       " ('int_string', 193),\n",
       " ('por', 189),\n",
       " ('que', 184),\n",
       " ('del', 182),\n",
       " (',', 173),\n",
       " ('usa', 157),\n",
       " ('ven', 153),\n",
       " ('un', 151)]"
      ]
     },
     "execution_count": 273,
     "metadata": {},
     "output_type": "execute_result"
    }
   ],
   "source": [
    "freq = Counter(p for o in tok_trn for p in o)\n",
    "freq.most_common(20)"
   ]
  },
  {
   "cell_type": "code",
   "execution_count": 274,
   "metadata": {},
   "outputs": [],
   "source": [
    "max_vocab = 60000\n",
    "min_freq = 2"
   ]
  },
  {
   "cell_type": "code",
   "execution_count": 275,
   "metadata": {},
   "outputs": [
    {
     "data": {
      "text/plain": [
       "845"
      ]
     },
     "execution_count": 275,
     "metadata": {},
     "output_type": "execute_result"
    }
   ],
   "source": [
    "itos = [o for o,c in freq.most_common(max_vocab) if c>min_freq]\n",
    "itos.insert(0, '_pad_')\n",
    "itos.insert(0, '_unk_')\n",
    "\n",
    "stoi = collections.defaultdict(lambda:0, {v:k for k,v in enumerate(itos)})\n",
    "len(itos)"
   ]
  },
  {
   "cell_type": "code",
   "execution_count": 276,
   "metadata": {},
   "outputs": [],
   "source": [
    "trn_lm = np.array([[stoi[o] for o in p] for p in tok_trn])\n",
    "val_lm = np.array([[stoi[o] for o in p] for p in tok_val])"
   ]
  },
  {
   "cell_type": "code",
   "execution_count": 277,
   "metadata": {},
   "outputs": [],
   "source": [
    "np.save(TASSLM_PATH/'tmp'/'trn_ids.npy', trn_lm)\n",
    "np.save(TASSLM_PATH/'tmp'/'val_ids.npy', val_lm)\n",
    "pickle.dump(itos, open(TASSLM_PATH/'tmp'/'itos.pkl', 'wb'))"
   ]
  },
  {
   "cell_type": "code",
   "execution_count": 278,
   "metadata": {},
   "outputs": [
    {
     "data": {
      "application/javascript": [
       "Jupyter.beep();"
      ],
      "text/plain": [
       "<IPython.core.display.Javascript object>"
      ]
     },
     "metadata": {},
     "output_type": "display_data"
    }
   ],
   "source": [
    "%%javascript\n",
    "Jupyter.beep();"
   ]
  },
  {
   "cell_type": "markdown",
   "metadata": {},
   "source": [
    "## Build Database of all Spanish Wikipedia articles with >10000 words"
   ]
  },
  {
   "cell_type": "code",
   "execution_count": 181,
   "metadata": {
    "collapsed": true
   },
   "outputs": [
    {
     "ename": "AttributeError",
     "evalue": "'str' object has no attribute 'iterdir'",
     "output_type": "error",
     "traceback": [
      "\u001b[0;31m---------------------------------------------------------------------------\u001b[0m",
      "\u001b[0;31mAttributeError\u001b[0m                            Traceback (most recent call last)",
      "\u001b[0;32m<ipython-input-181-9c71ac1fe434>\u001b[0m in \u001b[0;36m<module>\u001b[0;34m()\u001b[0m\n\u001b[1;32m      1\u001b[0m \u001b[0mjsons\u001b[0m \u001b[0;34m=\u001b[0m \u001b[0;34m[\u001b[0m\u001b[0;34m]\u001b[0m\u001b[0;34m\u001b[0m\u001b[0m\n\u001b[0;32m----> 2\u001b[0;31m \u001b[0;32mfor\u001b[0m \u001b[0mdirec\u001b[0m \u001b[0;32min\u001b[0m \u001b[0mDATA_PATH\u001b[0m\u001b[0;34m/\u001b[0m\u001b[0;34m'eswiki+100'\u001b[0m\u001b[0;34m.\u001b[0m\u001b[0miterdir\u001b[0m\u001b[0;34m(\u001b[0m\u001b[0;34m)\u001b[0m\u001b[0;34m:\u001b[0m\u001b[0;34m\u001b[0m\u001b[0m\n\u001b[0m\u001b[1;32m      3\u001b[0m     \u001b[0mprint\u001b[0m \u001b[0;34m(\u001b[0m\u001b[0mdirec\u001b[0m\u001b[0;34m)\u001b[0m\u001b[0;34m\u001b[0m\u001b[0m\n\u001b[1;32m      4\u001b[0m     \u001b[0;32mfor\u001b[0m \u001b[0mfile\u001b[0m \u001b[0;32min\u001b[0m \u001b[0mdirec\u001b[0m\u001b[0;34m.\u001b[0m\u001b[0miterdir\u001b[0m\u001b[0;34m(\u001b[0m\u001b[0;34m)\u001b[0m\u001b[0;34m:\u001b[0m\u001b[0;34m\u001b[0m\u001b[0m\n\u001b[1;32m      5\u001b[0m         \u001b[0mprint\u001b[0m\u001b[0;34m(\u001b[0m\u001b[0mfile\u001b[0m\u001b[0;34m)\u001b[0m\u001b[0;34m\u001b[0m\u001b[0m\n",
      "\u001b[0;31mAttributeError\u001b[0m: 'str' object has no attribute 'iterdir'"
     ]
    }
   ],
   "source": [
    "jsons = []\n",
    "for direc in DATA_PATH/'eswiki+100'.iterdir():\n",
    "    print (direc)\n",
    "    for file in direc.iterdir():\n",
    "        print(file)\n",
    "        for line in open(file, 'r', encoding=\"utf-8\"):\n",
    "            jsons.append(json.loads(line))"
   ]
  },
  {
   "cell_type": "code",
   "execution_count": 4,
   "metadata": {},
   "outputs": [
    {
     "data": {
      "text/plain": [
       "dict_keys(['url', 'text', 'id', 'title'])"
      ]
     },
     "execution_count": 4,
     "metadata": {},
     "output_type": "execute_result"
    }
   ],
   "source": [
    "jsons[0].keys()"
   ]
  },
  {
   "cell_type": "code",
   "execution_count": 5,
   "metadata": {},
   "outputs": [],
   "source": [
    "ID = 'id'\n",
    "TITLE = 'title'\n",
    "TEXT = 'text'\n",
    "URL = 'url'"
   ]
  },
  {
   "cell_type": "code",
   "execution_count": 6,
   "metadata": {},
   "outputs": [],
   "source": [
    "idx = np.random.permutation(len(jsons))"
   ]
  },
  {
   "cell_type": "markdown",
   "metadata": {},
   "source": [
    "Validation set will be 1% of the total dataset since the dataset is so big"
   ]
  },
  {
   "cell_type": "code",
   "execution_count": 7,
   "metadata": {},
   "outputs": [],
   "source": [
    "limit_sets = int(len(jsons)*0.99)\n",
    "\n",
    "trn_set = [jsons[i] for i in idx[:limit_sets]]\n",
    "val_set = [jsons[i] for i in idx[limit_sets:]]"
   ]
  },
  {
   "cell_type": "code",
   "execution_count": 8,
   "metadata": {},
   "outputs": [],
   "source": [
    "def remove_title(texts):\n",
    "    return texts.split('\\n\\n', 1)[-1]"
   ]
  },
  {
   "cell_type": "code",
   "execution_count": 9,
   "metadata": {},
   "outputs": [],
   "source": [
    "trn_ids = [exmp[ID] for exmp in trn_set]\n",
    "trn_titles = [exmp[TITLE] for exmp in trn_set]\n",
    "trn_texts = [remove_title(exmp[TEXT]) for exmp in trn_set]\n",
    "trn_urls = [exmp[URL] for exmp in trn_set]"
   ]
  },
  {
   "cell_type": "code",
   "execution_count": 10,
   "metadata": {},
   "outputs": [],
   "source": [
    "val_ids = [exmp[ID] for exmp in val_set]\n",
    "val_titles = [exmp[TITLE] for exmp in val_set]\n",
    "val_texts = [remove_title(exmp[TEXT]) for exmp in val_set]\n",
    "val_urls = [exmp[URL] for exmp in val_set]"
   ]
  },
  {
   "cell_type": "code",
   "execution_count": 34,
   "metadata": {},
   "outputs": [],
   "source": [
    "col_names = ['id','title','text','url']"
   ]
  },
  {
   "cell_type": "code",
   "execution_count": 35,
   "metadata": {},
   "outputs": [],
   "source": [
    "df_trn = pd.DataFrame({'id':trn_ids, 'title':trn_titles, 'text':trn_texts, 'url':trn_urls}, columns=col_names)\n",
    "df_val = pd.DataFrame({'id':val_ids, 'title':val_titles, 'text':val_texts, 'url':val_urls}, columns=col_names)"
   ]
  },
  {
   "cell_type": "code",
   "execution_count": 36,
   "metadata": {},
   "outputs": [
    {
     "data": {
      "text/html": [
       "<div>\n",
       "<style scoped>\n",
       "    .dataframe tbody tr th:only-of-type {\n",
       "        vertical-align: middle;\n",
       "    }\n",
       "\n",
       "    .dataframe tbody tr th {\n",
       "        vertical-align: top;\n",
       "    }\n",
       "\n",
       "    .dataframe thead th {\n",
       "        text-align: right;\n",
       "    }\n",
       "</style>\n",
       "<table border=\"1\" class=\"dataframe\">\n",
       "  <thead>\n",
       "    <tr style=\"text-align: right;\">\n",
       "      <th></th>\n",
       "      <th>id</th>\n",
       "      <th>title</th>\n",
       "      <th>text</th>\n",
       "      <th>url</th>\n",
       "    </tr>\n",
       "  </thead>\n",
       "  <tbody>\n",
       "    <tr>\n",
       "      <th>0</th>\n",
       "      <td>6066379</td>\n",
       "      <td>Noche de Brujas (banda)</td>\n",
       "      <td>Noche de Brujas es una agrupación musical chil...</td>\n",
       "      <td>https://es.wikipedia.org/wiki?curid=6066379</td>\n",
       "    </tr>\n",
       "    <tr>\n",
       "      <th>1</th>\n",
       "      <td>959915</td>\n",
       "      <td>Ley de Gutenberg-Richter</td>\n",
       "      <td>La ley de Gutenberg-Richter (1958) es una fórm...</td>\n",
       "      <td>https://es.wikipedia.org/wiki?curid=959915</td>\n",
       "    </tr>\n",
       "    <tr>\n",
       "      <th>2</th>\n",
       "      <td>5698339</td>\n",
       "      <td>La leyenda de Spyro: Un nuevo comienzo</td>\n",
       "      <td>La leyenda de Spyro: Un nuevo comienzo (en ing...</td>\n",
       "      <td>https://es.wikipedia.org/wiki?curid=5698339</td>\n",
       "    </tr>\n",
       "    <tr>\n",
       "      <th>3</th>\n",
       "      <td>343047</td>\n",
       "      <td>Estadio Luis II</td>\n",
       "      <td>El Estadio Luis II (en francés: \"Stade Louis I...</td>\n",
       "      <td>https://es.wikipedia.org/wiki?curid=343047</td>\n",
       "    </tr>\n",
       "    <tr>\n",
       "      <th>4</th>\n",
       "      <td>366898</td>\n",
       "      <td>Blanquillo (Uruguay)</td>\n",
       "      <td>Blanquillo es una localidad uruguaya del depar...</td>\n",
       "      <td>https://es.wikipedia.org/wiki?curid=366898</td>\n",
       "    </tr>\n",
       "  </tbody>\n",
       "</table>\n",
       "</div>"
      ],
      "text/plain": [
       "        id                                   title  \\\n",
       "0  6066379                 Noche de Brujas (banda)   \n",
       "1   959915                Ley de Gutenberg-Richter   \n",
       "2  5698339  La leyenda de Spyro: Un nuevo comienzo   \n",
       "3   343047                         Estadio Luis II   \n",
       "4   366898                    Blanquillo (Uruguay)   \n",
       "\n",
       "                                                text  \\\n",
       "0  Noche de Brujas es una agrupación musical chil...   \n",
       "1  La ley de Gutenberg-Richter (1958) es una fórm...   \n",
       "2  La leyenda de Spyro: Un nuevo comienzo (en ing...   \n",
       "3  El Estadio Luis II (en francés: \"Stade Louis I...   \n",
       "4  Blanquillo es una localidad uruguaya del depar...   \n",
       "\n",
       "                                           url  \n",
       "0  https://es.wikipedia.org/wiki?curid=6066379  \n",
       "1   https://es.wikipedia.org/wiki?curid=959915  \n",
       "2  https://es.wikipedia.org/wiki?curid=5698339  \n",
       "3   https://es.wikipedia.org/wiki?curid=343047  \n",
       "4   https://es.wikipedia.org/wiki?curid=366898  "
      ]
     },
     "execution_count": 36,
     "metadata": {},
     "output_type": "execute_result"
    }
   ],
   "source": [
    "df_trn.head(5)"
   ]
  },
  {
   "cell_type": "code",
   "execution_count": 37,
   "metadata": {},
   "outputs": [
    {
     "data": {
      "text/plain": [
       "(389072, 97268)"
      ]
     },
     "execution_count": 37,
     "metadata": {},
     "output_type": "execute_result"
    }
   ],
   "source": [
    "len(trn_set), len(val_set)"
   ]
  },
  {
   "cell_type": "code",
   "execution_count": 11,
   "metadata": {},
   "outputs": [],
   "source": [
    "col_names = ['title','text']"
   ]
  },
  {
   "cell_type": "code",
   "execution_count": 12,
   "metadata": {},
   "outputs": [],
   "source": [
    "df_trn = pd.DataFrame({'title':trn_titles, 'text':trn_texts}, columns=col_names)\n",
    "df_val = pd.DataFrame({'title':val_titles, 'text':val_texts}, columns=col_names)"
   ]
  },
  {
   "cell_type": "code",
   "execution_count": 14,
   "metadata": {},
   "outputs": [],
   "source": [
    "df_trn.to_csv(WIKILM_PATH/'train+100.csv', header=False, index=False)\n",
    "df_val.to_csv(WIKILM_PATH/'val+100.csv', header=False, index=False)"
   ]
  },
  {
   "cell_type": "markdown",
   "metadata": {},
   "source": [
    "## Tokenize and Standarize General Tokens for Wiki Corpus"
   ]
  },
  {
   "cell_type": "code",
   "execution_count": 20,
   "metadata": {},
   "outputs": [],
   "source": [
    "chunksize=4000"
   ]
  },
  {
   "cell_type": "code",
   "execution_count": 21,
   "metadata": {},
   "outputs": [],
   "source": [
    "re1 = re.compile(r'  +')\n",
    "\n",
    "def fixup(x):\n",
    "    x = x.replace('#39;', \"'\").replace('amp;', '&').replace('#146;', \"'\").replace(\n",
    "        'nbsp;', ' ').replace('#36;', '$').replace('\\\\n', \"\\n\").replace('quot;', \"'\").replace(\n",
    "        '<br />', \"\\n\").replace('\\\\\"', '\"').replace('<unk>','u_n').replace(' @.@ ','.').replace(\n",
    "        ' @-@ ','-').replace('\\\\', ' \\\\ ').replace('\\xa0', ' ')\n",
    "    return re1.sub(' ', html.unescape(x))"
   ]
  },
  {
   "cell_type": "code",
   "execution_count": 22,
   "metadata": {},
   "outputs": [],
   "source": [
    "def get_texts(df, n_lbls=0):\n",
    "    texts = f'\\n{BOS} {FLD} 1 ' + df[n_lbls].astype(str)\n",
    "    for i in range(n_lbls+1, len(df.columns)):\n",
    "        texts += f' {FLD} {i-n_lbls} ' + df[i].astype(str)\n",
    "    texts = texts.apply(fixup).values.astype(str)\n",
    "    \n",
    "    tok = Tokenizer(lang='es').proc_all_mp(partition_by_cores(texts), lang='es')\n",
    "    return tok"
   ]
  },
  {
   "cell_type": "code",
   "execution_count": 23,
   "metadata": {},
   "outputs": [],
   "source": [
    "def get_all(df, n_lbls):\n",
    "    tok, labels = [], []\n",
    "    l = 0\n",
    "    for i, r in enumerate(df):\n",
    "        print(i)\n",
    "        l += 1\n",
    "        tok_ = get_texts(r, n_lbls)\n",
    "        tok += tok_;\n",
    "        #if i >= 35:\n",
    "            #return tok\n",
    "    return tok"
   ]
  },
  {
   "cell_type": "code",
   "execution_count": 17,
   "metadata": {},
   "outputs": [],
   "source": [
    "df_trn = pd.read_csv(WIKILM_PATH/'train+100.csv', header=None, chunksize=chunksize)\n",
    "df_val = pd.read_csv(WIKILM_PATH/'val+100.csv', header=None, chunksize=chunksize)"
   ]
  },
  {
   "cell_type": "code",
   "execution_count": 18,
   "metadata": {},
   "outputs": [],
   "source": [
    "(WIKILM_PATH/'tmp').mkdir(exist_ok=True)"
   ]
  },
  {
   "cell_type": "code",
   "execution_count": 19,
   "metadata": {
    "collapsed": true
   },
   "outputs": [
    {
     "ename": "KeyboardInterrupt",
     "evalue": "",
     "output_type": "error",
     "traceback": [
      "\u001b[0;31m---------------------------------------------------------------------------\u001b[0m",
      "\u001b[0;31mKeyboardInterrupt\u001b[0m                         Traceback (most recent call last)",
      "\u001b[0;32m<ipython-input-19-7e0c90cca2fc>\u001b[0m in \u001b[0;36m<module>\u001b[0;34m()\u001b[0m\n\u001b[1;32m      1\u001b[0m \u001b[0ml\u001b[0m \u001b[0;34m=\u001b[0m \u001b[0;36m0\u001b[0m\u001b[0;34m\u001b[0m\u001b[0m\n\u001b[0;32m----> 2\u001b[0;31m \u001b[0;32mfor\u001b[0m \u001b[0mi\u001b[0m\u001b[0;34m,\u001b[0m\u001b[0m_\u001b[0m \u001b[0;32min\u001b[0m \u001b[0menumerate\u001b[0m\u001b[0;34m(\u001b[0m\u001b[0mdf_trn\u001b[0m\u001b[0;34m)\u001b[0m\u001b[0;34m:\u001b[0m\u001b[0;34m\u001b[0m\u001b[0m\n\u001b[0m\u001b[1;32m      3\u001b[0m     \u001b[0ml\u001b[0m\u001b[0;34m+=\u001b[0m\u001b[0;36m1\u001b[0m\u001b[0;34m\u001b[0m\u001b[0m\n\u001b[1;32m      4\u001b[0m \u001b[0mprint\u001b[0m\u001b[0;34m(\u001b[0m\u001b[0ml\u001b[0m\u001b[0;34m)\u001b[0m\u001b[0;34m\u001b[0m\u001b[0m\n",
      "\u001b[0;32m~/anaconda3/envs/fastai/lib/python3.6/site-packages/pandas/io/parsers.py\u001b[0m in \u001b[0;36m__next__\u001b[0;34m(self)\u001b[0m\n\u001b[1;32m   1040\u001b[0m     \u001b[0;32mdef\u001b[0m \u001b[0m__next__\u001b[0m\u001b[0;34m(\u001b[0m\u001b[0mself\u001b[0m\u001b[0;34m)\u001b[0m\u001b[0;34m:\u001b[0m\u001b[0;34m\u001b[0m\u001b[0m\n\u001b[1;32m   1041\u001b[0m         \u001b[0;32mtry\u001b[0m\u001b[0;34m:\u001b[0m\u001b[0;34m\u001b[0m\u001b[0m\n\u001b[0;32m-> 1042\u001b[0;31m             \u001b[0;32mreturn\u001b[0m \u001b[0mself\u001b[0m\u001b[0;34m.\u001b[0m\u001b[0mget_chunk\u001b[0m\u001b[0;34m(\u001b[0m\u001b[0;34m)\u001b[0m\u001b[0;34m\u001b[0m\u001b[0m\n\u001b[0m\u001b[1;32m   1043\u001b[0m         \u001b[0;32mexcept\u001b[0m \u001b[0mStopIteration\u001b[0m\u001b[0;34m:\u001b[0m\u001b[0;34m\u001b[0m\u001b[0m\n\u001b[1;32m   1044\u001b[0m             \u001b[0mself\u001b[0m\u001b[0;34m.\u001b[0m\u001b[0mclose\u001b[0m\u001b[0;34m(\u001b[0m\u001b[0;34m)\u001b[0m\u001b[0;34m\u001b[0m\u001b[0m\n",
      "\u001b[0;32m~/anaconda3/envs/fastai/lib/python3.6/site-packages/pandas/io/parsers.py\u001b[0m in \u001b[0;36mget_chunk\u001b[0;34m(self, size)\u001b[0m\n\u001b[1;32m   1104\u001b[0m                 \u001b[0;32mraise\u001b[0m \u001b[0mStopIteration\u001b[0m\u001b[0;34m\u001b[0m\u001b[0m\n\u001b[1;32m   1105\u001b[0m             \u001b[0msize\u001b[0m \u001b[0;34m=\u001b[0m \u001b[0mmin\u001b[0m\u001b[0;34m(\u001b[0m\u001b[0msize\u001b[0m\u001b[0;34m,\u001b[0m \u001b[0mself\u001b[0m\u001b[0;34m.\u001b[0m\u001b[0mnrows\u001b[0m \u001b[0;34m-\u001b[0m \u001b[0mself\u001b[0m\u001b[0;34m.\u001b[0m\u001b[0m_currow\u001b[0m\u001b[0;34m)\u001b[0m\u001b[0;34m\u001b[0m\u001b[0m\n\u001b[0;32m-> 1106\u001b[0;31m         \u001b[0;32mreturn\u001b[0m \u001b[0mself\u001b[0m\u001b[0;34m.\u001b[0m\u001b[0mread\u001b[0m\u001b[0;34m(\u001b[0m\u001b[0mnrows\u001b[0m\u001b[0;34m=\u001b[0m\u001b[0msize\u001b[0m\u001b[0;34m)\u001b[0m\u001b[0;34m\u001b[0m\u001b[0m\n\u001b[0m\u001b[1;32m   1107\u001b[0m \u001b[0;34m\u001b[0m\u001b[0m\n\u001b[1;32m   1108\u001b[0m \u001b[0;34m\u001b[0m\u001b[0m\n",
      "\u001b[0;32m~/anaconda3/envs/fastai/lib/python3.6/site-packages/pandas/io/parsers.py\u001b[0m in \u001b[0;36mread\u001b[0;34m(self, nrows)\u001b[0m\n\u001b[1;32m   1067\u001b[0m                 \u001b[0;32mraise\u001b[0m \u001b[0mValueError\u001b[0m\u001b[0;34m(\u001b[0m\u001b[0;34m'skipfooter not supported for iteration'\u001b[0m\u001b[0;34m)\u001b[0m\u001b[0;34m\u001b[0m\u001b[0m\n\u001b[1;32m   1068\u001b[0m \u001b[0;34m\u001b[0m\u001b[0m\n\u001b[0;32m-> 1069\u001b[0;31m         \u001b[0mret\u001b[0m \u001b[0;34m=\u001b[0m \u001b[0mself\u001b[0m\u001b[0;34m.\u001b[0m\u001b[0m_engine\u001b[0m\u001b[0;34m.\u001b[0m\u001b[0mread\u001b[0m\u001b[0;34m(\u001b[0m\u001b[0mnrows\u001b[0m\u001b[0;34m)\u001b[0m\u001b[0;34m\u001b[0m\u001b[0m\n\u001b[0m\u001b[1;32m   1070\u001b[0m \u001b[0;34m\u001b[0m\u001b[0m\n\u001b[1;32m   1071\u001b[0m         \u001b[0;32mif\u001b[0m \u001b[0mself\u001b[0m\u001b[0;34m.\u001b[0m\u001b[0moptions\u001b[0m\u001b[0;34m.\u001b[0m\u001b[0mget\u001b[0m\u001b[0;34m(\u001b[0m\u001b[0;34m'as_recarray'\u001b[0m\u001b[0;34m)\u001b[0m\u001b[0;34m:\u001b[0m\u001b[0;34m\u001b[0m\u001b[0m\n",
      "\u001b[0;32m~/anaconda3/envs/fastai/lib/python3.6/site-packages/pandas/io/parsers.py\u001b[0m in \u001b[0;36mread\u001b[0;34m(self, nrows)\u001b[0m\n\u001b[1;32m   1837\u001b[0m     \u001b[0;32mdef\u001b[0m \u001b[0mread\u001b[0m\u001b[0;34m(\u001b[0m\u001b[0mself\u001b[0m\u001b[0;34m,\u001b[0m \u001b[0mnrows\u001b[0m\u001b[0;34m=\u001b[0m\u001b[0;32mNone\u001b[0m\u001b[0;34m)\u001b[0m\u001b[0;34m:\u001b[0m\u001b[0;34m\u001b[0m\u001b[0m\n\u001b[1;32m   1838\u001b[0m         \u001b[0;32mtry\u001b[0m\u001b[0;34m:\u001b[0m\u001b[0;34m\u001b[0m\u001b[0m\n\u001b[0;32m-> 1839\u001b[0;31m             \u001b[0mdata\u001b[0m \u001b[0;34m=\u001b[0m \u001b[0mself\u001b[0m\u001b[0;34m.\u001b[0m\u001b[0m_reader\u001b[0m\u001b[0;34m.\u001b[0m\u001b[0mread\u001b[0m\u001b[0;34m(\u001b[0m\u001b[0mnrows\u001b[0m\u001b[0;34m)\u001b[0m\u001b[0;34m\u001b[0m\u001b[0m\n\u001b[0m\u001b[1;32m   1840\u001b[0m         \u001b[0;32mexcept\u001b[0m \u001b[0mStopIteration\u001b[0m\u001b[0;34m:\u001b[0m\u001b[0;34m\u001b[0m\u001b[0m\n\u001b[1;32m   1841\u001b[0m             \u001b[0;32mif\u001b[0m \u001b[0mself\u001b[0m\u001b[0;34m.\u001b[0m\u001b[0m_first_chunk\u001b[0m\u001b[0;34m:\u001b[0m\u001b[0;34m\u001b[0m\u001b[0m\n",
      "\u001b[0;32mpandas/_libs/parsers.pyx\u001b[0m in \u001b[0;36mpandas._libs.parsers.TextReader.read\u001b[0;34m()\u001b[0m\n",
      "\u001b[0;32mpandas/_libs/parsers.pyx\u001b[0m in \u001b[0;36mpandas._libs.parsers.TextReader._read_low_memory\u001b[0;34m()\u001b[0m\n",
      "\u001b[0;32mpandas/_libs/parsers.pyx\u001b[0m in \u001b[0;36mpandas._libs.parsers._concatenate_chunks\u001b[0;34m()\u001b[0m\n",
      "\u001b[0;32m~/anaconda3/envs/fastai/lib/python3.6/site-packages/pandas/core/dtypes/common.py\u001b[0m in \u001b[0;36mis_categorical_dtype\u001b[0;34m(arr_or_dtype)\u001b[0m\n\u001b[1;32m    476\u001b[0m \u001b[0;34m\u001b[0m\u001b[0m\n\u001b[1;32m    477\u001b[0m \u001b[0;34m\u001b[0m\u001b[0m\n\u001b[0;32m--> 478\u001b[0;31m \u001b[0;32mdef\u001b[0m \u001b[0mis_categorical_dtype\u001b[0m\u001b[0;34m(\u001b[0m\u001b[0marr_or_dtype\u001b[0m\u001b[0;34m)\u001b[0m\u001b[0;34m:\u001b[0m\u001b[0;34m\u001b[0m\u001b[0m\n\u001b[0m\u001b[1;32m    479\u001b[0m     \"\"\"\n\u001b[1;32m    480\u001b[0m     \u001b[0mCheck\u001b[0m \u001b[0mwhether\u001b[0m \u001b[0man\u001b[0m \u001b[0marray\u001b[0m\u001b[0;34m-\u001b[0m\u001b[0mlike\u001b[0m \u001b[0;32mor\u001b[0m \u001b[0mdtype\u001b[0m \u001b[0;32mis\u001b[0m \u001b[0mof\u001b[0m \u001b[0mthe\u001b[0m \u001b[0mCategorical\u001b[0m \u001b[0mdtype\u001b[0m\u001b[0;34m.\u001b[0m\u001b[0;34m\u001b[0m\u001b[0m\n",
      "\u001b[0;31mKeyboardInterrupt\u001b[0m: "
     ]
    }
   ],
   "source": [
    "l = 0\n",
    "for i,_ in enumerate(df_trn):\n",
    "    l+=1\n",
    "print(l)"
   ]
  },
  {
   "cell_type": "code",
   "execution_count": null,
   "metadata": {
    "scrolled": false
   },
   "outputs": [],
   "source": [
    "tok_val = get_all(df_val, 0)\n",
    "np.save(WIKILM_PATH/'tmp'/'tok_val+100.npy', tok_val)"
   ]
  },
  {
   "cell_type": "code",
   "execution_count": null,
   "metadata": {},
   "outputs": [],
   "source": [
    "from math import ceil\n",
    "\n",
    "def chunks(l, n):\n",
    "    \"\"\"Yield successive n-sized chunks from l.\"\"\"\n",
    "    for i in range(0, len(l), n):\n",
    "        yield l[i:i + n]\n",
    "        \n",
    "mini_chunks = chunks(tok_trn, ceil(len(tok_trn)/4))\n",
    "for i, mini in enumerate(mini_chunks):\n",
    "    name = 'tmp/tok_trn'+str(i)+'+100.npy'\n",
    "    np.save(WIKILM_PATH/name, mini)"
   ]
  },
  {
   "cell_type": "code",
   "execution_count": null,
   "metadata": {},
   "outputs": [],
   "source": [
    "tok_trn0 = np.load(WIKILM_PATH/'tmp'/'tok_trn0+100.npy')\n",
    "tok_trn1 = np.load(WIKILM_PATH/'tmp'/'tok_trn1+100.npy')\n",
    "tok_trn2 = np.load(WIKILM_PATH/'tmp'/'tok_trn2+100.npy')\n",
    "tok_trn3 = np.load(WIKILM_PATH/'tmp'/'tok_trn3+100.npy')\n",
    "\n",
    "tok_trn = np.concatenate((tok_trn0, tok_trn1, tok_trn2, tok_trn3))\n",
    "# tok_trn = np.load(WIKILM_PATH/'tmp'/'tok_trn+100.npy')\n",
    "tok_val = np.load(WIKILM_PATH/'tmp'/'tok_val+100.npy')"
   ]
  },
  {
   "cell_type": "markdown",
   "metadata": {},
   "source": [
    "Reduce dataset size to make it easier to work with (target 120M tokens)"
   ]
  },
  {
   "cell_type": "code",
   "execution_count": 8,
   "metadata": {},
   "outputs": [],
   "source": [
    "tok_trn  = tok_trn[:(len(tok_trn)*5)//8]"
   ]
  },
  {
   "cell_type": "markdown",
   "metadata": {},
   "source": [
    "Check number of tokens"
   ]
  },
  {
   "cell_type": "code",
   "execution_count": 10,
   "metadata": {},
   "outputs": [
    {
     "name": "stdout",
     "output_type": "stream",
     "text": [
      "120137944\n"
     ]
    }
   ],
   "source": [
    "i = 0\n",
    "for text in tok_trn:\n",
    "    for char in text:\n",
    "        i+=1\n",
    "print (i)"
   ]
  },
  {
   "cell_type": "code",
   "execution_count": 9,
   "metadata": {},
   "outputs": [],
   "source": [
    "np.save(WIKILM_PATH/'tmp'/'tok_trn+100.npy', tok_trn)\n",
    "tok_trn = np.load(WIKILM_PATH/'tmp'/'tok_trn+100.npy')"
   ]
  },
  {
   "cell_type": "code",
   "execution_count": 12,
   "metadata": {},
   "outputs": [
    {
     "data": {
      "text/plain": [
       "[('de', 7858311),\n",
       " (',', 6244351),\n",
       " ('la', 4485493),\n",
       " ('.', 3683917),\n",
       " ('el', 3478795),\n",
       " ('en', 3442403),\n",
       " ('y', 2816731),\n",
       " ('que', 2097825),\n",
       " ('a', 2075629),\n",
       " ('\"', 1786621),\n",
       " ('los', 1761963),\n",
       " ('del', 1452380),\n",
       " ('se', 1338509),\n",
       " ('\\n\\n', 1151707),\n",
       " ('por', 1083461),\n",
       " ('las', 1074070),\n",
       " ('un', 1010824),\n",
       " ('con', 991543),\n",
       " ('una', 875506),\n",
       " ('su', 841859),\n",
       " ('para', 677392),\n",
       " (')', 659613),\n",
       " ('(', 655545),\n",
       " ('al', 640314),\n",
       " ('como', 630415)]"
      ]
     },
     "execution_count": 12,
     "metadata": {},
     "output_type": "execute_result"
    }
   ],
   "source": [
    "freq = Counter(p for o in tok_trn for p in o)\n",
    "freq.most_common(25)"
   ]
  },
  {
   "cell_type": "code",
   "execution_count": 13,
   "metadata": {},
   "outputs": [],
   "source": [
    "max_vocab = 60000\n",
    "min_freq = 5"
   ]
  },
  {
   "cell_type": "code",
   "execution_count": 14,
   "metadata": {},
   "outputs": [
    {
     "data": {
      "text/plain": [
       "60002"
      ]
     },
     "execution_count": 14,
     "metadata": {},
     "output_type": "execute_result"
    }
   ],
   "source": [
    "itos2 = [o for o,c in freq.most_common(max_vocab) if c>min_freq]\n",
    "itos2.insert(0, '_pad_')\n",
    "itos2.insert(0, '_unk_')\n",
    "stoi2 = collections.defaultdict(lambda:0, {v:k for k,v in enumerate(itos)})\n",
    "len(itos2)"
   ]
  },
  {
   "cell_type": "code",
   "execution_count": 15,
   "metadata": {},
   "outputs": [],
   "source": [
    "trn_lm = np.array([[stoi2[o] for o in p] for p in tok_trn])\n",
    "val_lm = np.array([[stoi2[o] for o in p] for p in tok_val])"
   ]
  },
  {
   "cell_type": "code",
   "execution_count": 16,
   "metadata": {},
   "outputs": [],
   "source": [
    "np.save(WIKILM_PATH/'tmp'/'trn_ids+100.npy', trn_lm)\n",
    "np.save(WIKILM_PATH/'tmp'/'val_ids+100.npy', val_lm)\n",
    "pickle.dump(itos2, open(WIKILM_PATH/'tmp'/'itos+100.pkl', 'wb'))"
   ]
  },
  {
   "cell_type": "markdown",
   "metadata": {},
   "source": [
    "## Wiki+100 Model"
   ]
  },
  {
   "cell_type": "code",
   "execution_count": 452,
   "metadata": {},
   "outputs": [],
   "source": [
    "wd=1e-7\n",
    "bptt=70\n",
    "bs=32\n",
    "em_sz,nh,nl = 400,1150,3\n",
    "#opt_fn = partial(optim.Adam, betas=(0.8, 0.99))\n",
    "opt_fn = partial(optim.SGD, momentum=0.9)"
   ]
  },
  {
   "cell_type": "code",
   "execution_count": 453,
   "metadata": {
    "collapsed": true
   },
   "outputs": [
    {
     "ename": "KeyboardInterrupt",
     "evalue": "",
     "output_type": "error",
     "traceback": [
      "\u001b[0;31m---------------------------------------------------------------------------\u001b[0m",
      "\u001b[0;31mKeyboardInterrupt\u001b[0m                         Traceback (most recent call last)",
      "\u001b[0;32m<ipython-input-453-877ef3972bd4>\u001b[0m in \u001b[0;36m<module>\u001b[0;34m()\u001b[0m\n\u001b[1;32m      1\u001b[0m \u001b[0mtrn_lm\u001b[0m \u001b[0;34m=\u001b[0m \u001b[0mnp\u001b[0m\u001b[0;34m.\u001b[0m\u001b[0mload\u001b[0m\u001b[0;34m(\u001b[0m\u001b[0mWIKILM_PATH\u001b[0m\u001b[0;34m/\u001b[0m\u001b[0;34m'tmp'\u001b[0m\u001b[0;34m/\u001b[0m\u001b[0;34m'trn_ids+100.npy'\u001b[0m\u001b[0;34m)\u001b[0m\u001b[0;34m\u001b[0m\u001b[0m\n\u001b[1;32m      2\u001b[0m \u001b[0mval_lm\u001b[0m \u001b[0;34m=\u001b[0m \u001b[0mnp\u001b[0m\u001b[0;34m.\u001b[0m\u001b[0mload\u001b[0m\u001b[0;34m(\u001b[0m\u001b[0mWIKILM_PATH\u001b[0m\u001b[0;34m/\u001b[0m\u001b[0;34m'tmp'\u001b[0m\u001b[0;34m/\u001b[0m\u001b[0;34m'val_ids+100.npy'\u001b[0m\u001b[0;34m)\u001b[0m\u001b[0;34m\u001b[0m\u001b[0m\n\u001b[0;32m----> 3\u001b[0;31m \u001b[0mtrn_lm\u001b[0m \u001b[0;34m=\u001b[0m \u001b[0mnp\u001b[0m\u001b[0;34m.\u001b[0m\u001b[0mconcatenate\u001b[0m\u001b[0;34m(\u001b[0m\u001b[0mtrn_lm\u001b[0m\u001b[0;34m)\u001b[0m\u001b[0;34m\u001b[0m\u001b[0m\n\u001b[0m\u001b[1;32m      4\u001b[0m \u001b[0mval_lm\u001b[0m \u001b[0;34m=\u001b[0m \u001b[0mnp\u001b[0m\u001b[0;34m.\u001b[0m\u001b[0mconcatenate\u001b[0m\u001b[0;34m(\u001b[0m\u001b[0mval_lm\u001b[0m\u001b[0;34m)\u001b[0m\u001b[0;34m\u001b[0m\u001b[0m\n",
      "\u001b[0;31mKeyboardInterrupt\u001b[0m: "
     ]
    }
   ],
   "source": [
    "trn_lm = np.load(WIKILM_PATH/'tmp'/'trn_ids+100.npy')\n",
    "val_lm = np.load(WIKILM_PATH/'tmp'/'val_ids+100.npy')\n",
    "trn_lm = np.concatenate(trn_lm)\n",
    "val_lm = np.concatenate(val_lm)"
   ]
  },
  {
   "cell_type": "code",
   "execution_count": null,
   "metadata": {},
   "outputs": [],
   "source": [
    "itos = pickle.load(open(WIKILM_PATH/'tmp'/'itos+100.pkl', 'rb'))\n",
    "vs = len(itos)\n",
    "\n",
    "trn_dl = LanguageModelLoader(trn_lm, bs, bptt)\n",
    "val_dl = LanguageModelLoader(val_lm, bs, bptt)\n",
    "md = LanguageModelData(WIKILM_PATH, 1, vs, trn_dl, val_dl, bs=bs, bptt=bptt)"
   ]
  },
  {
   "cell_type": "code",
   "execution_count": null,
   "metadata": {},
   "outputs": [],
   "source": [
    "drops = np.array([0.25, 0.1, 0.2, 0.02, 0.15])*0.5"
   ]
  },
  {
   "cell_type": "code",
   "execution_count": null,
   "metadata": {},
   "outputs": [],
   "source": [
    "learner= md.get_model(opt_fn, em_sz, nh, nl, \n",
    "    dropouti=drops[0], dropout=drops[1], wdrop=drops[2], dropoute=drops[3], dropouth=drops[4])\n",
    "\n",
    "learner.metrics = [accuracy]\n",
    "learner.unfreeze()"
   ]
  },
  {
   "cell_type": "code",
   "execution_count": null,
   "metadata": {
    "scrolled": true
   },
   "outputs": [],
   "source": [
    "learner.lr_find2(start_lr=1,end_lr=10, num_it=800)"
   ]
  },
  {
   "cell_type": "code",
   "execution_count": null,
   "metadata": {},
   "outputs": [],
   "source": [
    "learner.sched.plot()"
   ]
  },
  {
   "cell_type": "code",
   "execution_count": 14,
   "metadata": {},
   "outputs": [
    {
     "data": {
      "application/javascript": [
       "Jupyter.beep();"
      ],
      "text/plain": [
       "<IPython.core.display.Javascript object>"
      ]
     },
     "metadata": {},
     "output_type": "display_data"
    }
   ],
   "source": [
    "%%javascript\n",
    "Jupyter.beep();"
   ]
  },
  {
   "cell_type": "code",
   "execution_count": 15,
   "metadata": {},
   "outputs": [],
   "source": [
    "lr=2\n",
    "lrs = lr"
   ]
  },
  {
   "cell_type": "code",
   "execution_count": 16,
   "metadata": {
    "scrolled": true
   },
   "outputs": [
    {
     "data": {
      "application/vnd.jupyter.widget-view+json": {
       "model_id": "ebbd8a2f4df3437fab1aa1c176e9f05f",
       "version_major": 2,
       "version_minor": 0
      },
      "text/html": [
       "<p>Failed to display Jupyter Widget of type <code>HBox</code>.</p>\n",
       "<p>\n",
       "  If you're reading this message in the Jupyter Notebook or JupyterLab Notebook, it may mean\n",
       "  that the widgets JavaScript is still loading. If this message persists, it\n",
       "  likely means that the widgets JavaScript library is either not installed or\n",
       "  not enabled. See the <a href=\"https://ipywidgets.readthedocs.io/en/stable/user_install.html\">Jupyter\n",
       "  Widgets Documentation</a> for setup instructions.\n",
       "</p>\n",
       "<p>\n",
       "  If you're reading this message in another frontend (for example, a static\n",
       "  rendering on GitHub or <a href=\"https://nbviewer.jupyter.org/\">NBViewer</a>),\n",
       "  it may mean that your frontend doesn't currently support widgets.\n",
       "</p>\n"
      ],
      "text/plain": [
       "HBox(children=(IntProgress(value=0, description='Epoch', max=10), HTML(value='')))"
      ]
     },
     "metadata": {},
     "output_type": "display_data"
    },
    {
     "name": "stdout",
     "output_type": "stream",
     "text": [
      "epoch      trn_loss   val_loss   accuracy                           \n",
      "    0      4.243111   4.193037   0.257854  \n",
      "    1      4.01907    3.969443   0.272689                           \n",
      "    2      3.908034   3.872785   0.278616                           \n",
      "    3      3.844105   3.821897   0.282531                           \n",
      "    4      3.803215   3.780296   0.285598                           \n",
      "    5      3.7653     3.746013   0.28916                            \n",
      "    6      3.780881   3.710472   0.293218                           \n",
      "    7      3.728705   3.676514   0.296869                           \n",
      "    8      3.685521   3.627796   0.303029                           \n",
      "    9      3.641547   3.587603   0.308747                           \n",
      "\n"
     ]
    },
    {
     "data": {
      "text/plain": [
       "[array([3.5876]), 0.3087470562991961]"
      ]
     },
     "execution_count": 16,
     "metadata": {},
     "output_type": "execute_result"
    }
   ],
   "source": [
    "learner.fit(lr, 1, cycle_len=10, use_clr_beta=(10,10,0.95,0.85))"
   ]
  },
  {
   "cell_type": "code",
   "execution_count": null,
   "metadata": {},
   "outputs": [],
   "source": [
    "%%javascript\n",
    "Jupyter.beep();"
   ]
  },
  {
   "cell_type": "code",
   "execution_count": 19,
   "metadata": {},
   "outputs": [],
   "source": [
    "learner.save('first_run_spanish')"
   ]
  },
  {
   "cell_type": "code",
   "execution_count": 23,
   "metadata": {},
   "outputs": [
    {
     "data": {
      "text/plain": [
       "'data_spanish/eswiki+100/models'"
      ]
     },
     "execution_count": 23,
     "metadata": {},
     "output_type": "execute_result"
    }
   ],
   "source": [
    "path = learner.models_path; path"
   ]
  },
  {
   "cell_type": "markdown",
   "metadata": {},
   "source": [
    "## Save Encoder and Weights"
   ]
  },
  {
   "cell_type": "code",
   "execution_count": 37,
   "metadata": {
    "collapsed": true
   },
   "outputs": [
    {
     "ename": "NameError",
     "evalue": "name 'learner' is not defined",
     "output_type": "error",
     "traceback": [
      "\u001b[0;31m---------------------------------------------------------------------------\u001b[0m",
      "\u001b[0;31mNameError\u001b[0m                                 Traceback (most recent call last)",
      "\u001b[0;32m<ipython-input-37-1a25e4f7844f>\u001b[0m in \u001b[0;36m<module>\u001b[0;34m()\u001b[0m\n\u001b[0;32m----> 1\u001b[0;31m \u001b[0mlearner\u001b[0m\u001b[0;34m.\u001b[0m\u001b[0msave_encoder\u001b[0m\u001b[0;34m(\u001b[0m\u001b[0;34m'lm1_enc'\u001b[0m\u001b[0;34m)\u001b[0m\u001b[0;34m\u001b[0m\u001b[0m\n\u001b[0m",
      "\u001b[0;31mNameError\u001b[0m: name 'learner' is not defined"
     ]
    }
   ],
   "source": [
    "learner.save_encoder('lm1_enc')"
   ]
  },
  {
   "cell_type": "code",
   "execution_count": 38,
   "metadata": {
    "collapsed": true
   },
   "outputs": [
    {
     "ename": "NameError",
     "evalue": "name 'learner' is not defined",
     "output_type": "error",
     "traceback": [
      "\u001b[0;31m---------------------------------------------------------------------------\u001b[0m",
      "\u001b[0;31mNameError\u001b[0m                                 Traceback (most recent call last)",
      "\u001b[0;32m<ipython-input-38-9cff3537a3a2>\u001b[0m in \u001b[0;36m<module>\u001b[0;34m()\u001b[0m\n\u001b[0;32m----> 1\u001b[0;31m \u001b[0mlearner\u001b[0m\u001b[0;34m.\u001b[0m\u001b[0msave\u001b[0m\u001b[0;34m(\u001b[0m\u001b[0;34m'lm1_wgts'\u001b[0m\u001b[0;34m)\u001b[0m\u001b[0;34m\u001b[0m\u001b[0m\n\u001b[0m",
      "\u001b[0;31mNameError\u001b[0m: name 'learner' is not defined"
     ]
    }
   ],
   "source": [
    "learner.save('lm1_wgts')"
   ]
  },
  {
   "cell_type": "markdown",
   "metadata": {},
   "source": [
    "## Load Encoder Weights for Language Model"
   ]
  },
  {
   "cell_type": "markdown",
   "metadata": {},
   "source": [
    "The wiki model was run with new parameters (lr=1.4, dropout=0.4(0.25, 0.1, 0.2, 0.02, 0.15), clip=.4) and got better results (3.4 validation loss). This is the model that was loaded for the rest of the experimentation."
   ]
  },
  {
   "cell_type": "code",
   "execution_count": 176,
   "metadata": {},
   "outputs": [],
   "source": [
    "BACKBONE_MODEL = WIKILM_PATH/'models/lm1_weights_kl.h5'"
   ]
  },
  {
   "cell_type": "code",
   "execution_count": 177,
   "metadata": {},
   "outputs": [],
   "source": [
    "wgts = torch.load(BACKBONE_MODEL, map_location=lambda storage, loc: storage)"
   ]
  },
  {
   "cell_type": "markdown",
   "metadata": {},
   "source": [
    "We use the average weight to fill unknown tokens from the TASS language model."
   ]
  },
  {
   "cell_type": "code",
   "execution_count": 178,
   "metadata": {},
   "outputs": [],
   "source": [
    "enc_wgts = to_np(wgts['0.encoder.weight'])\n",
    "row_m = enc_wgts.mean(0)"
   ]
  },
  {
   "cell_type": "code",
   "execution_count": 179,
   "metadata": {},
   "outputs": [],
   "source": [
    "itos2 = pickle.load((WIKILM_PATH/'tmp'/'itos+100.pkl').open('rb'))\n",
    "stoi2 = collections.defaultdict(lambda:-1, {v:k for k,v in enumerate(itos2)})"
   ]
  },
  {
   "cell_type": "markdown",
   "metadata": {},
   "source": [
    "We match up vocab words and indexes to make the dimensions of the wiki model compatible with the language model."
   ]
  },
  {
   "cell_type": "code",
   "execution_count": 180,
   "metadata": {},
   "outputs": [],
   "source": [
    "em_sz,nh,nl = 400,1150,3"
   ]
  },
  {
   "cell_type": "code",
   "execution_count": 181,
   "metadata": {},
   "outputs": [],
   "source": [
    "trn_lm = np.load(TASSLM_PATH/'tmp'/'trn_ids.npy')\n",
    "val_lm = np.load(TASSLM_PATH/'tmp'/'val_ids.npy')\n",
    "itos = pickle.load(open(TASSLM_PATH/'tmp'/'itos.pkl', 'rb'))"
   ]
  },
  {
   "cell_type": "code",
   "execution_count": 182,
   "metadata": {},
   "outputs": [
    {
     "data": {
      "text/plain": [
       "(845, 1250)"
      ]
     },
     "execution_count": 182,
     "metadata": {},
     "output_type": "execute_result"
    }
   ],
   "source": [
    "vs=len(itos)\n",
    "vs,len(trn_lm)"
   ]
  },
  {
   "cell_type": "code",
   "execution_count": 183,
   "metadata": {},
   "outputs": [],
   "source": [
    "new_w = np.zeros((vs, em_sz), dtype=np.float32)\n",
    "for i,w in enumerate(itos):\n",
    "    r = stoi2[w]\n",
    "    new_w[i] = enc_wgts[r] if r>=0 else row_m"
   ]
  },
  {
   "cell_type": "markdown",
   "metadata": {},
   "source": [
    "Overwrite corresponding weights for the encoder and decoder."
   ]
  },
  {
   "cell_type": "code",
   "execution_count": 184,
   "metadata": {},
   "outputs": [],
   "source": [
    "wgts['0.encoder.weight'] = T(new_w)\n",
    "wgts['0.encoder_with_dropout.embed.weight'] = T(np.copy(new_w))\n",
    "wgts['1.decoder.weight'] = T(np.copy(new_w))"
   ]
  },
  {
   "cell_type": "markdown",
   "metadata": {},
   "source": [
    "## Language Model Finetuning"
   ]
  },
  {
   "cell_type": "code",
   "execution_count": 185,
   "metadata": {},
   "outputs": [],
   "source": [
    "wd=1e-7\n",
    "bptt=70\n",
    "bs=64\n",
    "em_sz,nh,nl = 400,1150,3\n",
    "opt_fn = partial(optim.SGD, momentum=0.9)"
   ]
  },
  {
   "cell_type": "code",
   "execution_count": 186,
   "metadata": {},
   "outputs": [],
   "source": [
    "trn_lm = np.load(TASSLM_PATH/'tmp'/'trn_ids.npy')\n",
    "val_lm = np.load(TASSLM_PATH/'tmp'/'val_ids.npy')\n",
    "trn_lm = np.concatenate(trn_lm)\n",
    "val_lm = np.concatenate(val_lm)"
   ]
  },
  {
   "cell_type": "code",
   "execution_count": 187,
   "metadata": {},
   "outputs": [],
   "source": [
    "itos = pickle.load(open(TASSLM_PATH/'tmp'/'itos.pkl', 'rb'))\n",
    "vs = len(itos)\n",
    "\n",
    "trn_dl = LanguageModelLoader(trn_lm, bs, bptt)\n",
    "val_dl = LanguageModelLoader(val_lm, bs//4, bptt)\n",
    "md = LanguageModelData(TASSLM_PATH, 1, vs, trn_dl, val_dl, bs=bs, bptt=bptt)"
   ]
  },
  {
   "cell_type": "code",
   "execution_count": 188,
   "metadata": {},
   "outputs": [],
   "source": [
    "drops = np.array([0.25, 0.1, 0.2, 0.02, 0.15])*0.9"
   ]
  },
  {
   "cell_type": "code",
   "execution_count": 189,
   "metadata": {},
   "outputs": [],
   "source": [
    "learn = md.get_model(opt_fn, em_sz, nh, nl, \n",
    "    dropouti=drops[0], dropout=drops[1], wdrop=drops[2], dropoute=drops[3], dropouth=drops[4])\n",
    "\n",
    "learn.metrics = [accuracy]\n",
    "learn.unfreeze()"
   ]
  },
  {
   "cell_type": "code",
   "execution_count": 190,
   "metadata": {},
   "outputs": [],
   "source": [
    "learn.model.load_state_dict(wgts)"
   ]
  },
  {
   "cell_type": "code",
   "execution_count": 192,
   "metadata": {
    "collapsed": true
   },
   "outputs": [
    {
     "data": {
      "application/vnd.jupyter.widget-view+json": {
       "model_id": "060e4521f30747fabce9c338c6399b43",
       "version_major": 2,
       "version_minor": 0
      },
      "text/html": [
       "<p>Failed to display Jupyter Widget of type <code>HBox</code>.</p>\n",
       "<p>\n",
       "  If you're reading this message in the Jupyter Notebook or JupyterLab Notebook, it may mean\n",
       "  that the widgets JavaScript is still loading. If this message persists, it\n",
       "  likely means that the widgets JavaScript library is either not installed or\n",
       "  not enabled. See the <a href=\"https://ipywidgets.readthedocs.io/en/stable/user_install.html\">Jupyter\n",
       "  Widgets Documentation</a> for setup instructions.\n",
       "</p>\n",
       "<p>\n",
       "  If you're reading this message in another frontend (for example, a static\n",
       "  rendering on GitHub or <a href=\"https://nbviewer.jupyter.org/\">NBViewer</a>),\n",
       "  it may mean that your frontend doesn't currently support widgets.\n",
       "</p>\n"
      ],
      "text/plain": [
       "HBox(children=(IntProgress(value=0, description='Epoch', max=101), HTML(value='')))"
      ]
     },
     "metadata": {},
     "output_type": "display_data"
    },
    {
     "name": "stdout",
     "output_type": "stream",
     "text": [
      " 33%|███▎      | 1/3 [00:00<00:01,  1.81it/s, loss=5.03]\n"
     ]
    },
    {
     "ename": "KeyboardInterrupt",
     "evalue": "",
     "output_type": "error",
     "traceback": [
      "\u001b[0;31m---------------------------------------------------------------------------\u001b[0m",
      "\u001b[0;31mKeyboardInterrupt\u001b[0m                         Traceback (most recent call last)",
      "\u001b[0;32m<ipython-input-192-c25b633f71f3>\u001b[0m in \u001b[0;36m<module>\u001b[0;34m()\u001b[0m\n\u001b[0;32m----> 1\u001b[0;31m \u001b[0mlearn\u001b[0m\u001b[0;34m.\u001b[0m\u001b[0mlr_find2\u001b[0m\u001b[0;34m(\u001b[0m\u001b[0mstart_lr\u001b[0m\u001b[0;34m=\u001b[0m\u001b[0;36m1e-1\u001b[0m\u001b[0;34m,\u001b[0m\u001b[0mend_lr\u001b[0m\u001b[0;34m=\u001b[0m\u001b[0;36m30\u001b[0m\u001b[0;34m,\u001b[0m \u001b[0mnum_it\u001b[0m\u001b[0;34m=\u001b[0m\u001b[0;36m300\u001b[0m\u001b[0;34m)\u001b[0m\u001b[0;34m\u001b[0m\u001b[0m\n\u001b[0m",
      "\u001b[0;32m~/fastai/fastai/learner.py\u001b[0m in \u001b[0;36mlr_find2\u001b[0;34m(self, start_lr, end_lr, num_it, wds, linear, stop_dv, **kwargs)\u001b[0m\n\u001b[1;32m    313\u001b[0m         \u001b[0mlayer_opt\u001b[0m \u001b[0;34m=\u001b[0m \u001b[0mself\u001b[0m\u001b[0;34m.\u001b[0m\u001b[0mget_layer_opt\u001b[0m\u001b[0;34m(\u001b[0m\u001b[0mstart_lr\u001b[0m\u001b[0;34m,\u001b[0m \u001b[0mwds\u001b[0m\u001b[0;34m)\u001b[0m\u001b[0;34m\u001b[0m\u001b[0m\n\u001b[1;32m    314\u001b[0m         \u001b[0mself\u001b[0m\u001b[0;34m.\u001b[0m\u001b[0msched\u001b[0m \u001b[0;34m=\u001b[0m \u001b[0mLR_Finder2\u001b[0m\u001b[0;34m(\u001b[0m\u001b[0mlayer_opt\u001b[0m\u001b[0;34m,\u001b[0m \u001b[0mnum_it\u001b[0m\u001b[0;34m,\u001b[0m \u001b[0mend_lr\u001b[0m\u001b[0;34m,\u001b[0m \u001b[0mlinear\u001b[0m\u001b[0;34m=\u001b[0m\u001b[0mlinear\u001b[0m\u001b[0;34m,\u001b[0m \u001b[0mmetrics\u001b[0m\u001b[0;34m=\u001b[0m\u001b[0mself\u001b[0m\u001b[0;34m.\u001b[0m\u001b[0mmetrics\u001b[0m\u001b[0;34m,\u001b[0m \u001b[0mstop_dv\u001b[0m\u001b[0;34m=\u001b[0m\u001b[0mstop_dv\u001b[0m\u001b[0;34m)\u001b[0m\u001b[0;34m\u001b[0m\u001b[0m\n\u001b[0;32m--> 315\u001b[0;31m         \u001b[0mself\u001b[0m\u001b[0;34m.\u001b[0m\u001b[0mfit_gen\u001b[0m\u001b[0;34m(\u001b[0m\u001b[0mself\u001b[0m\u001b[0;34m.\u001b[0m\u001b[0mmodel\u001b[0m\u001b[0;34m,\u001b[0m \u001b[0mself\u001b[0m\u001b[0;34m.\u001b[0m\u001b[0mdata\u001b[0m\u001b[0;34m,\u001b[0m \u001b[0mlayer_opt\u001b[0m\u001b[0;34m,\u001b[0m \u001b[0mnum_it\u001b[0m\u001b[0;34m//\u001b[0m\u001b[0mlen\u001b[0m\u001b[0;34m(\u001b[0m\u001b[0mself\u001b[0m\u001b[0;34m.\u001b[0m\u001b[0mdata\u001b[0m\u001b[0;34m.\u001b[0m\u001b[0mtrn_dl\u001b[0m\u001b[0;34m)\u001b[0m \u001b[0;34m+\u001b[0m \u001b[0;36m1\u001b[0m\u001b[0;34m,\u001b[0m \u001b[0mall_val\u001b[0m\u001b[0;34m=\u001b[0m\u001b[0;32mTrue\u001b[0m\u001b[0;34m,\u001b[0m \u001b[0;34m**\u001b[0m\u001b[0mkwargs\u001b[0m\u001b[0;34m)\u001b[0m\u001b[0;34m\u001b[0m\u001b[0m\n\u001b[0m\u001b[1;32m    316\u001b[0m         \u001b[0mself\u001b[0m\u001b[0;34m.\u001b[0m\u001b[0mload\u001b[0m\u001b[0;34m(\u001b[0m\u001b[0;34m'tmp'\u001b[0m\u001b[0;34m)\u001b[0m\u001b[0;34m\u001b[0m\u001b[0m\n\u001b[1;32m    317\u001b[0m \u001b[0;34m\u001b[0m\u001b[0m\n",
      "\u001b[0;32m~/fastai/fastai/learner.py\u001b[0m in \u001b[0;36mfit_gen\u001b[0;34m(self, model, data, layer_opt, n_cycle, cycle_len, cycle_mult, cycle_save_name, best_save_name, use_clr, use_clr_beta, metrics, callbacks, use_wd_sched, norm_wds, wds_sched_mult, **kwargs)\u001b[0m\n\u001b[1;32m    196\u001b[0m         \u001b[0mn_epoch\u001b[0m \u001b[0;34m=\u001b[0m \u001b[0mint\u001b[0m\u001b[0;34m(\u001b[0m\u001b[0msum_geom\u001b[0m\u001b[0;34m(\u001b[0m\u001b[0mcycle_len\u001b[0m \u001b[0;32mif\u001b[0m \u001b[0mcycle_len\u001b[0m \u001b[0;32melse\u001b[0m \u001b[0;36m1\u001b[0m\u001b[0;34m,\u001b[0m \u001b[0mcycle_mult\u001b[0m\u001b[0;34m,\u001b[0m \u001b[0mn_cycle\u001b[0m\u001b[0;34m)\u001b[0m\u001b[0;34m)\u001b[0m\u001b[0;34m\u001b[0m\u001b[0m\n\u001b[1;32m    197\u001b[0m         return fit(model, data, n_epoch, layer_opt.opt, self.crit,\n\u001b[0;32m--> 198\u001b[0;31m             metrics=metrics, callbacks=callbacks, reg_fn=self.reg_fn, clip=self.clip, fp16=self.fp16, **kwargs)\n\u001b[0m\u001b[1;32m    199\u001b[0m \u001b[0;34m\u001b[0m\u001b[0m\n\u001b[1;32m    200\u001b[0m     \u001b[0;32mdef\u001b[0m \u001b[0mget_layer_groups\u001b[0m\u001b[0;34m(\u001b[0m\u001b[0mself\u001b[0m\u001b[0;34m)\u001b[0m\u001b[0;34m:\u001b[0m \u001b[0;32mreturn\u001b[0m \u001b[0mself\u001b[0m\u001b[0;34m.\u001b[0m\u001b[0mmodels\u001b[0m\u001b[0;34m.\u001b[0m\u001b[0mget_layer_groups\u001b[0m\u001b[0;34m(\u001b[0m\u001b[0;34m)\u001b[0m\u001b[0;34m\u001b[0m\u001b[0m\n",
      "\u001b[0;32m~/fastai/fastai/model.py\u001b[0m in \u001b[0;36mfit\u001b[0;34m(model, data, epochs, opt, crit, metrics, callbacks, stepper, **kwargs)\u001b[0m\n\u001b[1;32m    115\u001b[0m             \u001b[0mbatch_num\u001b[0m \u001b[0;34m+=\u001b[0m \u001b[0;36m1\u001b[0m\u001b[0;34m\u001b[0m\u001b[0m\n\u001b[1;32m    116\u001b[0m             \u001b[0;32mfor\u001b[0m \u001b[0mcb\u001b[0m \u001b[0;32min\u001b[0m \u001b[0mcallbacks\u001b[0m\u001b[0;34m:\u001b[0m \u001b[0mcb\u001b[0m\u001b[0;34m.\u001b[0m\u001b[0mon_batch_begin\u001b[0m\u001b[0;34m(\u001b[0m\u001b[0;34m)\u001b[0m\u001b[0;34m\u001b[0m\u001b[0m\n\u001b[0;32m--> 117\u001b[0;31m             \u001b[0mloss\u001b[0m \u001b[0;34m=\u001b[0m \u001b[0mstepper\u001b[0m\u001b[0;34m.\u001b[0m\u001b[0mstep\u001b[0m\u001b[0;34m(\u001b[0m\u001b[0mV\u001b[0m\u001b[0;34m(\u001b[0m\u001b[0mx\u001b[0m\u001b[0;34m)\u001b[0m\u001b[0;34m,\u001b[0m\u001b[0mV\u001b[0m\u001b[0;34m(\u001b[0m\u001b[0my\u001b[0m\u001b[0;34m)\u001b[0m\u001b[0;34m,\u001b[0m \u001b[0mepoch\u001b[0m\u001b[0;34m)\u001b[0m\u001b[0;34m\u001b[0m\u001b[0m\n\u001b[0m\u001b[1;32m    118\u001b[0m             \u001b[0mavg_loss\u001b[0m \u001b[0;34m=\u001b[0m \u001b[0mavg_loss\u001b[0m \u001b[0;34m*\u001b[0m \u001b[0mavg_mom\u001b[0m \u001b[0;34m+\u001b[0m \u001b[0mloss\u001b[0m \u001b[0;34m*\u001b[0m \u001b[0;34m(\u001b[0m\u001b[0;36m1\u001b[0m\u001b[0;34m-\u001b[0m\u001b[0mavg_mom\u001b[0m\u001b[0;34m)\u001b[0m\u001b[0;34m\u001b[0m\u001b[0m\n\u001b[1;32m    119\u001b[0m             \u001b[0mdebias_loss\u001b[0m \u001b[0;34m=\u001b[0m \u001b[0mavg_loss\u001b[0m \u001b[0;34m/\u001b[0m \u001b[0;34m(\u001b[0m\u001b[0;36m1\u001b[0m \u001b[0;34m-\u001b[0m \u001b[0mavg_mom\u001b[0m\u001b[0;34m**\u001b[0m\u001b[0mbatch_num\u001b[0m\u001b[0;34m)\u001b[0m\u001b[0;34m\u001b[0m\u001b[0m\n",
      "\u001b[0;32m~/fastai/fastai/model.py\u001b[0m in \u001b[0;36mstep\u001b[0;34m(self, xs, y, epoch)\u001b[0m\n\u001b[1;32m     52\u001b[0m         \u001b[0;32mif\u001b[0m \u001b[0mself\u001b[0m\u001b[0;34m.\u001b[0m\u001b[0mloss_scale\u001b[0m \u001b[0;34m!=\u001b[0m \u001b[0;36m1\u001b[0m\u001b[0;34m:\u001b[0m \u001b[0;32massert\u001b[0m\u001b[0;34m(\u001b[0m\u001b[0mself\u001b[0m\u001b[0;34m.\u001b[0m\u001b[0mfp16\u001b[0m\u001b[0;34m)\u001b[0m\u001b[0;34m;\u001b[0m \u001b[0mloss\u001b[0m \u001b[0;34m=\u001b[0m \u001b[0mloss\u001b[0m\u001b[0;34m*\u001b[0m\u001b[0mself\u001b[0m\u001b[0;34m.\u001b[0m\u001b[0mloss_scale\u001b[0m\u001b[0;34m\u001b[0m\u001b[0m\n\u001b[1;32m     53\u001b[0m         \u001b[0;32mif\u001b[0m \u001b[0mself\u001b[0m\u001b[0;34m.\u001b[0m\u001b[0mreg_fn\u001b[0m\u001b[0;34m:\u001b[0m \u001b[0mloss\u001b[0m \u001b[0;34m=\u001b[0m \u001b[0mself\u001b[0m\u001b[0;34m.\u001b[0m\u001b[0mreg_fn\u001b[0m\u001b[0;34m(\u001b[0m\u001b[0moutput\u001b[0m\u001b[0;34m,\u001b[0m \u001b[0mxtra\u001b[0m\u001b[0;34m,\u001b[0m \u001b[0mraw_loss\u001b[0m\u001b[0;34m)\u001b[0m\u001b[0;34m\u001b[0m\u001b[0m\n\u001b[0;32m---> 54\u001b[0;31m         \u001b[0mloss\u001b[0m\u001b[0;34m.\u001b[0m\u001b[0mbackward\u001b[0m\u001b[0;34m(\u001b[0m\u001b[0;34m)\u001b[0m\u001b[0;34m\u001b[0m\u001b[0m\n\u001b[0m\u001b[1;32m     55\u001b[0m         \u001b[0;32mif\u001b[0m \u001b[0mself\u001b[0m\u001b[0;34m.\u001b[0m\u001b[0mfp16\u001b[0m\u001b[0;34m:\u001b[0m \u001b[0mupdate_fp32_grads\u001b[0m\u001b[0;34m(\u001b[0m\u001b[0mself\u001b[0m\u001b[0;34m.\u001b[0m\u001b[0mfp32_params\u001b[0m\u001b[0;34m,\u001b[0m \u001b[0mself\u001b[0m\u001b[0;34m.\u001b[0m\u001b[0mm\u001b[0m\u001b[0;34m)\u001b[0m\u001b[0;34m\u001b[0m\u001b[0m\n\u001b[1;32m     56\u001b[0m         \u001b[0;32mif\u001b[0m \u001b[0mself\u001b[0m\u001b[0;34m.\u001b[0m\u001b[0mloss_scale\u001b[0m \u001b[0;34m!=\u001b[0m \u001b[0;36m1\u001b[0m\u001b[0;34m:\u001b[0m\u001b[0;34m\u001b[0m\u001b[0m\n",
      "\u001b[0;32m~/anaconda3/envs/fastai/lib/python3.6/site-packages/torch/autograd/variable.py\u001b[0m in \u001b[0;36mbackward\u001b[0;34m(self, gradient, retain_graph, create_graph, retain_variables)\u001b[0m\n\u001b[1;32m    165\u001b[0m                 \u001b[0mVariable\u001b[0m\u001b[0;34m.\u001b[0m\u001b[0;34m\u001b[0m\u001b[0m\n\u001b[1;32m    166\u001b[0m         \"\"\"\n\u001b[0;32m--> 167\u001b[0;31m         \u001b[0mtorch\u001b[0m\u001b[0;34m.\u001b[0m\u001b[0mautograd\u001b[0m\u001b[0;34m.\u001b[0m\u001b[0mbackward\u001b[0m\u001b[0;34m(\u001b[0m\u001b[0mself\u001b[0m\u001b[0;34m,\u001b[0m \u001b[0mgradient\u001b[0m\u001b[0;34m,\u001b[0m \u001b[0mretain_graph\u001b[0m\u001b[0;34m,\u001b[0m \u001b[0mcreate_graph\u001b[0m\u001b[0;34m,\u001b[0m \u001b[0mretain_variables\u001b[0m\u001b[0;34m)\u001b[0m\u001b[0;34m\u001b[0m\u001b[0m\n\u001b[0m\u001b[1;32m    168\u001b[0m \u001b[0;34m\u001b[0m\u001b[0m\n\u001b[1;32m    169\u001b[0m     \u001b[0;32mdef\u001b[0m \u001b[0mregister_hook\u001b[0m\u001b[0;34m(\u001b[0m\u001b[0mself\u001b[0m\u001b[0;34m,\u001b[0m \u001b[0mhook\u001b[0m\u001b[0;34m)\u001b[0m\u001b[0;34m:\u001b[0m\u001b[0;34m\u001b[0m\u001b[0m\n",
      "\u001b[0;32m~/anaconda3/envs/fastai/lib/python3.6/site-packages/torch/autograd/__init__.py\u001b[0m in \u001b[0;36mbackward\u001b[0;34m(variables, grad_variables, retain_graph, create_graph, retain_variables)\u001b[0m\n\u001b[1;32m     97\u001b[0m \u001b[0;34m\u001b[0m\u001b[0m\n\u001b[1;32m     98\u001b[0m     Variable._execution_engine.run_backward(\n\u001b[0;32m---> 99\u001b[0;31m         variables, grad_variables, retain_graph)\n\u001b[0m\u001b[1;32m    100\u001b[0m \u001b[0;34m\u001b[0m\u001b[0m\n\u001b[1;32m    101\u001b[0m \u001b[0;34m\u001b[0m\u001b[0m\n",
      "\u001b[0;31mKeyboardInterrupt\u001b[0m: "
     ]
    }
   ],
   "source": [
    "learn.lr_find2(start_lr=1e-1,end_lr=30, num_it=300)"
   ]
  },
  {
   "cell_type": "code",
   "execution_count": null,
   "metadata": {},
   "outputs": [],
   "source": [
    "learn.sched.plot()"
   ]
  },
  {
   "cell_type": "code",
   "execution_count": 193,
   "metadata": {},
   "outputs": [],
   "source": [
    "lr=5\n",
    "lrs = lr"
   ]
  },
  {
   "cell_type": "code",
   "execution_count": 194,
   "metadata": {},
   "outputs": [],
   "source": [
    "learn.clip=0.25"
   ]
  },
  {
   "cell_type": "code",
   "execution_count": 195,
   "metadata": {
    "scrolled": true
   },
   "outputs": [
    {
     "data": {
      "application/vnd.jupyter.widget-view+json": {
       "model_id": "43fac7dfd31d41bcbf7f760687445c42",
       "version_major": 2,
       "version_minor": 0
      },
      "text/html": [
       "<p>Failed to display Jupyter Widget of type <code>HBox</code>.</p>\n",
       "<p>\n",
       "  If you're reading this message in the Jupyter Notebook or JupyterLab Notebook, it may mean\n",
       "  that the widgets JavaScript is still loading. If this message persists, it\n",
       "  likely means that the widgets JavaScript library is either not installed or\n",
       "  not enabled. See the <a href=\"https://ipywidgets.readthedocs.io/en/stable/user_install.html\">Jupyter\n",
       "  Widgets Documentation</a> for setup instructions.\n",
       "</p>\n",
       "<p>\n",
       "  If you're reading this message in another frontend (for example, a static\n",
       "  rendering on GitHub or <a href=\"https://nbviewer.jupyter.org/\">NBViewer</a>),\n",
       "  it may mean that your frontend doesn't currently support widgets.\n",
       "</p>\n"
      ],
      "text/plain": [
       "HBox(children=(IntProgress(value=0, description='Epoch', max=35), HTML(value='')))"
      ]
     },
     "metadata": {},
     "output_type": "display_data"
    },
    {
     "name": "stdout",
     "output_type": "stream",
     "text": [
      "epoch      trn_loss   val_loss   accuracy               \n",
      "    0      4.161495   3.321176   0.393786  \n",
      "    1      3.954628   3.044201   0.436029               \n",
      "    2      3.74515    2.857956   0.450973               \n",
      "    3      3.5867     2.759296   0.443979               \n",
      "    4      3.473669   2.682813   0.457101               \n",
      "    5      3.363771   2.586893   0.46744                \n",
      "    6      3.270744   2.5266     0.468369               \n",
      "    7      3.189145   2.542507   0.458984               \n",
      "    8      3.12132    2.516506   0.466518               \n",
      "    9      3.058249   2.464384   0.484747               \n",
      "    10     3.001654   2.452816   0.479539               \n",
      "    11     2.949978   2.498177   0.464558               \n",
      "    12     2.899485   2.476486   0.467028               \n",
      "    13     2.85016    2.420901   0.483025               \n",
      "    14     2.804472   2.418669   0.490189               \n",
      "    15     2.761056   2.456817   0.477896               \n",
      "    16     2.720982   2.408581   0.492006               \n",
      "    17     2.69205    2.433514   0.482422               \n",
      "    18     2.653829   2.426594   0.488905               \n",
      "    19     2.619276   2.441445   0.481175               \n",
      "    20     2.585852   2.419828   0.490644               \n",
      "    21     2.551401   2.44543    0.485316               \n",
      "    22     2.523065   2.423796   0.493382               \n",
      "    23     2.494096   2.418923   0.495536               \n",
      "    24     2.473769   2.432298   0.487891               \n",
      "    25     2.448794   2.436139   0.485339               \n",
      "    26     2.425593   2.424189   0.493599               \n",
      "    27     2.403972   2.419295   0.494697               \n",
      "    28     2.383331   2.434451   0.487697               \n",
      "    29     2.364153   2.441617   0.480916               \n",
      "    30     2.34457    2.425759   0.485778               \n",
      "    31     2.331424   2.440539   0.482851               \n",
      "    32     2.320618   2.430999   0.487578               \n",
      "    33     2.304968   2.431158   0.490152               \n",
      "    34     2.288981   2.420317   0.491392               \n",
      "\n"
     ]
    },
    {
     "data": {
      "text/plain": [
       "[array([2.42032]), 0.491392230737709]"
      ]
     },
     "execution_count": 195,
     "metadata": {},
     "output_type": "execute_result"
    }
   ],
   "source": [
    "learn.fit(lr, 1, cycle_len=35, use_clr_beta=(10,33,0.95,0.85), best_save_name='lm1_wgts')"
   ]
  },
  {
   "cell_type": "code",
   "execution_count": 196,
   "metadata": {},
   "outputs": [],
   "source": [
    "learn.load('lm1_wgts')\n",
    "learn.save_encoder('lm1_enc')"
   ]
  },
  {
   "cell_type": "code",
   "execution_count": 417,
   "metadata": {},
   "outputs": [
    {
     "data": {
      "application/javascript": [
       "Jupyter.beep();"
      ],
      "text/plain": [
       "<IPython.core.display.Javascript object>"
      ]
     },
     "metadata": {},
     "output_type": "display_data"
    }
   ],
   "source": [
    "%%javascript\n",
    "Jupyter.beep();"
   ]
  },
  {
   "cell_type": "markdown",
   "metadata": {},
   "source": [
    "## Classifier tokens"
   ]
  },
  {
   "cell_type": "code",
   "execution_count": 279,
   "metadata": {},
   "outputs": [],
   "source": [
    "chunksize=24000\n",
    "\n",
    "re1 = re.compile(r'  +')"
   ]
  },
  {
   "cell_type": "code",
   "execution_count": 280,
   "metadata": {},
   "outputs": [],
   "source": [
    "df_trn = pd.read_csv(CLAS_PATH/'train.csv', header=None, chunksize=chunksize)\n",
    "df_val = pd.read_csv(CLAS_PATH/'validation.csv', header=None, chunksize=chunksize)"
   ]
  },
  {
   "cell_type": "code",
   "execution_count": 281,
   "metadata": {
    "collapsed": true
   },
   "outputs": [
    {
     "name": "stdout",
     "output_type": "stream",
     "text": [
      "\n",
      "\n",
      "\n",
      "\n",
      "\n",
      "\n",
      "\n",
      "\n"
     ]
    }
   ],
   "source": [
    "tok_trn, trn_labels = get_all(df_trn, 1)\n",
    "tok_val, val_labels = get_all(df_val, 1)"
   ]
  },
  {
   "cell_type": "code",
   "execution_count": 282,
   "metadata": {},
   "outputs": [],
   "source": [
    "(CLAS_PATH/'tmp').mkdir(exist_ok=True)"
   ]
  },
  {
   "cell_type": "code",
   "execution_count": 283,
   "metadata": {},
   "outputs": [],
   "source": [
    "np.save(CLAS_PATH/'tmp'/'tok_trn.npy', tok_trn)\n",
    "np.save(CLAS_PATH/'tmp'/'tok_val.npy', tok_val)"
   ]
  },
  {
   "cell_type": "code",
   "execution_count": 284,
   "metadata": {},
   "outputs": [],
   "source": [
    "np.save(CLAS_PATH/'tmp'/'trn_labels.npy', trn_labels)\n",
    "np.save(CLAS_PATH/'tmp'/'val_labels.npy', val_labels)"
   ]
  },
  {
   "cell_type": "code",
   "execution_count": 285,
   "metadata": {},
   "outputs": [],
   "source": [
    "trn_labels = np.load(CLAS_PATH/'tmp'/'trn_labels.npy')\n",
    "val_labels = np.load(CLAS_PATH/'tmp'/'val_labels.npy')"
   ]
  },
  {
   "cell_type": "code",
   "execution_count": 287,
   "metadata": {},
   "outputs": [],
   "source": [
    "tok_trn = np.load(CLAS_PATH/'tmp'/'tok_trn.npy')\n",
    "tok_val = np.load(CLAS_PATH/'tmp'/'tok_val.npy')"
   ]
  },
  {
   "cell_type": "code",
   "execution_count": 288,
   "metadata": {},
   "outputs": [
    {
     "data": {
      "text/plain": [
       "845"
      ]
     },
     "execution_count": 288,
     "metadata": {},
     "output_type": "execute_result"
    }
   ],
   "source": [
    "itos = pickle.load((TASSLM_PATH/'tmp'/'itos.pkl').open('rb'))\n",
    "stoi = collections.defaultdict(lambda:0, {v:k for k,v in enumerate(itos)})\n",
    "len(itos)"
   ]
  },
  {
   "cell_type": "code",
   "execution_count": 289,
   "metadata": {},
   "outputs": [],
   "source": [
    "trn_clas = np.array([[stoi[o] for o in p] for p in tok_trn])\n",
    "val_clas = np.array([[stoi[o] for o in p] for p in tok_val])"
   ]
  },
  {
   "cell_type": "code",
   "execution_count": 290,
   "metadata": {},
   "outputs": [],
   "source": [
    "np.save(CLAS_PATH/'tmp'/'trn_ids.npy', trn_clas)\n",
    "np.save(CLAS_PATH/'tmp'/'val_ids.npy', val_clas)"
   ]
  },
  {
   "cell_type": "markdown",
   "metadata": {},
   "source": [
    "## Classifier"
   ]
  },
  {
   "cell_type": "markdown",
   "metadata": {},
   "source": [
    "Parameters here were obtained from imdb notebook from fastai"
   ]
  },
  {
   "cell_type": "code",
   "execution_count": 291,
   "metadata": {},
   "outputs": [],
   "source": [
    "trn_clas = np.load(CLAS_PATH/'tmp'/'trn_ids.npy')\n",
    "val_clas = np.load(CLAS_PATH/'tmp'/'val_ids.npy')"
   ]
  },
  {
   "cell_type": "code",
   "execution_count": 292,
   "metadata": {},
   "outputs": [],
   "source": [
    "trn_labels = np.squeeze(np.load(CLAS_PATH/'tmp'/'trn_labels.npy'))\n",
    "val_labels = np.squeeze(np.load(CLAS_PATH/'tmp'/'val_labels.npy'))"
   ]
  },
  {
   "cell_type": "code",
   "execution_count": 293,
   "metadata": {},
   "outputs": [],
   "source": [
    "bptt,em_sz,nh,nl = 70,400,1150,3\n",
    "vs = len(itos)\n",
    "opt_fn = partial(optim.Adam, betas=(0.8, 0.99))\n",
    "bs = 48"
   ]
  },
  {
   "cell_type": "code",
   "execution_count": 294,
   "metadata": {},
   "outputs": [],
   "source": [
    "min_lbl = trn_labels.min()\n",
    "trn_labels -= min_lbl\n",
    "val_labels -= min_lbl\n",
    "c=int(trn_labels.max())+1"
   ]
  },
  {
   "cell_type": "code",
   "execution_count": 295,
   "metadata": {},
   "outputs": [],
   "source": [
    "trn_ds = TextDataset(trn_clas, trn_labels)\n",
    "val_ds = TextDataset(val_clas, val_labels)\n",
    "trn_samp = SortishSampler(trn_clas, key=lambda x: len(trn_clas[x]), bs=bs//2)\n",
    "val_samp = SortSampler(val_clas, key=lambda x: len(val_clas[x]))\n",
    "trn_dl = DataLoader(trn_ds, bs//2, transpose=True, num_workers=1, pad_idx=1, sampler=trn_samp)\n",
    "val_dl = DataLoader(val_ds, bs, transpose=True, num_workers=1, pad_idx=1, sampler=val_samp)\n",
    "md = ModelData(TASSLM_PATH, trn_dl, val_dl)"
   ]
  },
  {
   "cell_type": "code",
   "execution_count": 296,
   "metadata": {},
   "outputs": [],
   "source": [
    "dps = np.array([0.4,0.5,0.05,0.3,0.4])"
   ]
  },
  {
   "cell_type": "code",
   "execution_count": 297,
   "metadata": {},
   "outputs": [],
   "source": [
    "m = get_rnn_classifer(bptt, 20*70, c, vs, emb_sz=em_sz, n_hid=nh, n_layers=nl, pad_token=1,\n",
    "          layers=[em_sz*3, 50, c], drops=[dps[4], 0.1],\n",
    "          dropouti=dps[0], wdrop=dps[1], dropoute=dps[2], dropouth=dps[3])"
   ]
  },
  {
   "cell_type": "code",
   "execution_count": 298,
   "metadata": {},
   "outputs": [],
   "source": [
    "opt_fn = partial(optim.Adam, betas=(0.7, 0.99))"
   ]
  },
  {
   "cell_type": "code",
   "execution_count": 299,
   "metadata": {},
   "outputs": [],
   "source": [
    "learn = RNN_Learner(md, TextModel(to_gpu(m)), opt_fn=opt_fn)\n",
    "learn.reg_fn = partial(seq2seq_reg, alpha=2, beta=1)\n",
    "learn.clip=.25\n",
    "learn.metrics = [accuracy]"
   ]
  },
  {
   "cell_type": "code",
   "execution_count": 300,
   "metadata": {},
   "outputs": [],
   "source": [
    "lr=3e-3\n",
    "lrm = 2.6\n",
    "lrs = np.array([lr/(lrm**4), lr/(lrm**3), lr/(lrm**2), lr/lrm, lr])"
   ]
  },
  {
   "cell_type": "code",
   "execution_count": 301,
   "metadata": {},
   "outputs": [],
   "source": [
    "wd = 1e-3\n",
    "learn.load_encoder('lm1_enc')"
   ]
  },
  {
   "cell_type": "code",
   "execution_count": 302,
   "metadata": {},
   "outputs": [],
   "source": [
    "learn.freeze_to(-1)"
   ]
  },
  {
   "cell_type": "code",
   "execution_count": 68,
   "metadata": {},
   "outputs": [
    {
     "data": {
      "application/vnd.jupyter.widget-view+json": {
       "model_id": "bf14103b43b04a8db3beec3cd3cd6cf4",
       "version_major": 2,
       "version_minor": 0
      },
      "text/html": [
       "<p>Failed to display Jupyter Widget of type <code>HBox</code>.</p>\n",
       "<p>\n",
       "  If you're reading this message in the Jupyter Notebook or JupyterLab Notebook, it may mean\n",
       "  that the widgets JavaScript is still loading. If this message persists, it\n",
       "  likely means that the widgets JavaScript library is either not installed or\n",
       "  not enabled. See the <a href=\"https://ipywidgets.readthedocs.io/en/stable/user_install.html\">Jupyter\n",
       "  Widgets Documentation</a> for setup instructions.\n",
       "</p>\n",
       "<p>\n",
       "  If you're reading this message in another frontend (for example, a static\n",
       "  rendering on GitHub or <a href=\"https://nbviewer.jupyter.org/\">NBViewer</a>),\n",
       "  it may mean that your frontend doesn't currently support widgets.\n",
       "</p>\n"
      ],
      "text/plain": [
       "HBox(children=(IntProgress(value=0, description='Epoch', max=6), HTML(value='')))"
      ]
     },
     "metadata": {},
     "output_type": "display_data"
    },
    {
     "name": "stdout",
     "output_type": "stream",
     "text": [
      " 70%|██████▉   | 37/53 [00:02<00:00, 16.62it/s, loss=0.726]\n",
      " 77%|███████▋  | 41/53 [00:02<00:00, 16.65it/s, loss=0.724]"
     ]
    },
    {
     "name": "stderr",
     "output_type": "stream",
     "text": [
      "Exception in thread Thread-9:\n",
      "Traceback (most recent call last):\n",
      "  File \"/home/paperspace/anaconda3/envs/fastai/lib/python3.6/threading.py\", line 916, in _bootstrap_inner\n",
      "    self.run()\n",
      "  File \"/home/paperspace/anaconda3/envs/fastai/lib/python3.6/site-packages/tqdm/_tqdm.py\", line 144, in run\n",
      "    for instance in self.tqdm_cls._instances:\n",
      "  File \"/home/paperspace/anaconda3/envs/fastai/lib/python3.6/_weakrefset.py\", line 60, in __iter__\n",
      "    for itemref in self.data:\n",
      "RuntimeError: Set changed size during iteration\n",
      "\n"
     ]
    },
    {
     "name": "stdout",
     "output_type": "stream",
     "text": [
      " 66%|██████▌   | 35/53 [00:02<00:01, 16.90it/s, loss=0.689]\n",
      "                                                           \r"
     ]
    },
    {
     "data": {
      "image/png": "[encoded data removed]",
      "text/plain": [
       "<matplotlib.figure.Figure at 0x7fc550626710>"
      ]
     },
     "metadata": {},
     "output_type": "display_data"
    }
   ],
   "source": [
    "learn.lr_find2(start_lr=1e-5,end_lr=1e-2, num_it=300)\n",
    "learn.sched.plot()"
   ]
  },
  {
   "cell_type": "code",
   "execution_count": 303,
   "metadata": {},
   "outputs": [
    {
     "data": {
      "application/vnd.jupyter.widget-view+json": {
       "model_id": "2d3a9e0146b5489481ccc4c0dc35e079",
       "version_major": 2,
       "version_minor": 0
      },
      "text/html": [
       "<p>Failed to display Jupyter Widget of type <code>HBox</code>.</p>\n",
       "<p>\n",
       "  If you're reading this message in the Jupyter Notebook or JupyterLab Notebook, it may mean\n",
       "  that the widgets JavaScript is still loading. If this message persists, it\n",
       "  likely means that the widgets JavaScript library is either not installed or\n",
       "  not enabled. See the <a href=\"https://ipywidgets.readthedocs.io/en/stable/user_install.html\">Jupyter\n",
       "  Widgets Documentation</a> for setup instructions.\n",
       "</p>\n",
       "<p>\n",
       "  If you're reading this message in another frontend (for example, a static\n",
       "  rendering on GitHub or <a href=\"https://nbviewer.jupyter.org/\">NBViewer</a>),\n",
       "  it may mean that your frontend doesn't currently support widgets.\n",
       "</p>\n"
      ],
      "text/plain": [
       "HBox(children=(IntProgress(value=0, description='Epoch', max=1), HTML(value='')))"
      ]
     },
     "metadata": {},
     "output_type": "display_data"
    },
    {
     "name": "stdout",
     "output_type": "stream",
     "text": [
      "epoch      trn_loss   val_loss   accuracy                  \n",
      "    0      0.651956   0.602512   0.647467  \n"
     ]
    },
    {
     "data": {
      "text/plain": [
       "[array([0.60251]), 0.6474673204562243]"
      ]
     },
     "execution_count": 303,
     "metadata": {},
     "output_type": "execute_result"
    }
   ],
   "source": [
    "learn.fit(lrs, 1, wds=wd, cycle_len=1, use_clr_beta=(32,10,0.8,0.7))"
   ]
  },
  {
   "cell_type": "code",
   "execution_count": 304,
   "metadata": {},
   "outputs": [],
   "source": [
    "learn.save('clas2_0')"
   ]
  },
  {
   "cell_type": "code",
   "execution_count": 305,
   "metadata": {},
   "outputs": [],
   "source": [
    "learn.load('clas2_0')"
   ]
  },
  {
   "cell_type": "code",
   "execution_count": 306,
   "metadata": {},
   "outputs": [],
   "source": [
    "learn.freeze_to(-2)"
   ]
  },
  {
   "cell_type": "code",
   "execution_count": 307,
   "metadata": {},
   "outputs": [
    {
     "data": {
      "application/vnd.jupyter.widget-view+json": {
       "model_id": "ee2de9af17574629836bb0ddad9fa9b6",
       "version_major": 2,
       "version_minor": 0
      },
      "text/html": [
       "<p>Failed to display Jupyter Widget of type <code>HBox</code>.</p>\n",
       "<p>\n",
       "  If you're reading this message in the Jupyter Notebook or JupyterLab Notebook, it may mean\n",
       "  that the widgets JavaScript is still loading. If this message persists, it\n",
       "  likely means that the widgets JavaScript library is either not installed or\n",
       "  not enabled. See the <a href=\"https://ipywidgets.readthedocs.io/en/stable/user_install.html\">Jupyter\n",
       "  Widgets Documentation</a> for setup instructions.\n",
       "</p>\n",
       "<p>\n",
       "  If you're reading this message in another frontend (for example, a static\n",
       "  rendering on GitHub or <a href=\"https://nbviewer.jupyter.org/\">NBViewer</a>),\n",
       "  it may mean that your frontend doesn't currently support widgets.\n",
       "</p>\n"
      ],
      "text/plain": [
       "HBox(children=(IntProgress(value=0, description='Epoch', max=1), HTML(value='')))"
      ]
     },
     "metadata": {},
     "output_type": "display_data"
    },
    {
     "name": "stdout",
     "output_type": "stream",
     "text": [
      "epoch      trn_loss   val_loss   accuracy                  \n",
      "    0      0.584535   0.559963   0.679943  \n"
     ]
    },
    {
     "data": {
      "text/plain": [
       "[array([0.55996]), 0.6799428042243508]"
      ]
     },
     "execution_count": 307,
     "metadata": {},
     "output_type": "execute_result"
    }
   ],
   "source": [
    "learn.fit(lrs, 1, wds=wd, cycle_len=1, use_clr_beta=(32,10,0.8,0.7))"
   ]
  },
  {
   "cell_type": "code",
   "execution_count": 308,
   "metadata": {},
   "outputs": [],
   "source": [
    "learn.save('clas2_1')"
   ]
  },
  {
   "cell_type": "code",
   "execution_count": 309,
   "metadata": {},
   "outputs": [],
   "source": [
    "learn.load('clas2_1')"
   ]
  },
  {
   "cell_type": "code",
   "execution_count": 310,
   "metadata": {},
   "outputs": [],
   "source": [
    "learn.unfreeze()"
   ]
  },
  {
   "cell_type": "code",
   "execution_count": 311,
   "metadata": {},
   "outputs": [
    {
     "data": {
      "application/vnd.jupyter.widget-view+json": {
       "model_id": "ea545aa9b14c4d248d2e93a4b70d979c",
       "version_major": 2,
       "version_minor": 0
      },
      "text/html": [
       "<p>Failed to display Jupyter Widget of type <code>HBox</code>.</p>\n",
       "<p>\n",
       "  If you're reading this message in the Jupyter Notebook or JupyterLab Notebook, it may mean\n",
       "  that the widgets JavaScript is still loading. If this message persists, it\n",
       "  likely means that the widgets JavaScript library is either not installed or\n",
       "  not enabled. See the <a href=\"https://ipywidgets.readthedocs.io/en/stable/user_install.html\">Jupyter\n",
       "  Widgets Documentation</a> for setup instructions.\n",
       "</p>\n",
       "<p>\n",
       "  If you're reading this message in another frontend (for example, a static\n",
       "  rendering on GitHub or <a href=\"https://nbviewer.jupyter.org/\">NBViewer</a>),\n",
       "  it may mean that your frontend doesn't currently support widgets.\n",
       "</p>\n"
      ],
      "text/plain": [
       "HBox(children=(IntProgress(value=0, description='Epoch', max=20), HTML(value='')))"
      ]
     },
     "metadata": {},
     "output_type": "display_data"
    },
    {
     "name": "stdout",
     "output_type": "stream",
     "text": [
      " 25%|██▍       | 13/53 [00:01<00:03, 12.20it/s, loss=0.565]\n",
      " 32%|███▏      | 17/53 [00:01<00:02, 13.31it/s, loss=0.558]"
     ]
    },
    {
     "name": "stderr",
     "output_type": "stream",
     "text": [
      "Exception in thread Thread-67:\n",
      "Traceback (most recent call last):\n",
      "  File \"/home/paperspace/anaconda3/envs/fastai/lib/python3.6/threading.py\", line 916, in _bootstrap_inner\n",
      "    self.run()\n",
      "  File \"/home/paperspace/anaconda3/envs/fastai/lib/python3.6/site-packages/tqdm/_tqdm.py\", line 144, in run\n",
      "    for instance in self.tqdm_cls._instances:\n",
      "  File \"/home/paperspace/anaconda3/envs/fastai/lib/python3.6/_weakrefset.py\", line 60, in __iter__\n",
      "    for itemref in self.data:\n",
      "RuntimeError: Set changed size during iteration\n",
      "\n"
     ]
    },
    {
     "name": "stdout",
     "output_type": "stream",
     "text": [
      "epoch      trn_loss   val_loss   accuracy                  \n",
      "    0      0.569522   0.557842   0.687908  \n",
      "    1      0.586389   0.555611   0.708946                  \n",
      "    2      0.581056   0.552031   0.698734                  \n",
      "    3      0.573087   0.538035   0.703636                  \n",
      "    4      0.556313   0.542276   0.733047                  \n",
      "    5      0.582528   0.534798   0.725286                  \n",
      "    6      0.569226   0.542776   0.709763                  \n",
      "    7      0.567785   0.55161    0.691176                  \n",
      "    8      0.536791   0.53412    0.701185                  \n",
      "    9      0.520754   0.531068   0.716708                  \n",
      "    10     0.542675   0.541009   0.70241                   \n",
      "    11     0.514936   0.517249   0.722631                  \n",
      "    12     0.498606   0.544956   0.722426                  \n",
      "    13     0.486585   0.526943   0.722426                  \n",
      "    14     0.474307   0.548925   0.722631                  \n",
      "    15     0.481964   0.543068   0.719159                  \n",
      "    16     0.462459   0.54072    0.712214                  \n",
      "    17     0.458261   0.535252   0.712623                  \n",
      "    18     0.439252   0.529851   0.725082                  \n",
      "    19     0.444666   0.538317   0.715278                  \n",
      "\n"
     ]
    },
    {
     "data": {
      "text/plain": [
       "[array([0.53832]), 0.7152777840109432]"
      ]
     },
     "execution_count": 311,
     "metadata": {},
     "output_type": "execute_result"
    }
   ],
   "source": [
    "learn.fit(lrs, 1, cycle_len=20, use_clr_beta=(32,10,0.8,0.7), best_save_name='clas2')"
   ]
  },
  {
   "cell_type": "code",
   "execution_count": 312,
   "metadata": {},
   "outputs": [
    {
     "data": {
      "image/png": "[encoded data removed]",
      "text/plain": [
       "<matplotlib.figure.Figure at 0x7fc53d1ee518>"
      ]
     },
     "metadata": {},
     "output_type": "display_data"
    }
   ],
   "source": [
    "learn.sched.plot_loss()"
   ]
  },
  {
   "cell_type": "markdown",
   "metadata": {},
   "source": [
    "## Check F1 score"
   ]
  },
  {
   "cell_type": "markdown",
   "metadata": {},
   "source": [
    "We load the model with the corresponding weights and parameters"
   ]
  },
  {
   "cell_type": "code",
   "execution_count": 313,
   "metadata": {},
   "outputs": [],
   "source": [
    "learn = RNN_Learner(md, TextModel(to_gpu(m)), opt_fn=opt_fn)\n",
    "learn.reg_fn = partial(seq2seq_reg, alpha=2, beta=1)\n",
    "learn.clip=.12\n",
    "learn.metrics = [accuracy]"
   ]
  },
  {
   "cell_type": "markdown",
   "metadata": {},
   "source": [
    "We perform predictions on each of the val_sets texts as per Matthias Bachfischer's script in https://github.com/Bachfischer/german2vec/blob/master/src/sb-10k-use_pretrained_language_model.ipynb"
   ]
  },
  {
   "cell_type": "code",
   "execution_count": 314,
   "metadata": {},
   "outputs": [
    {
     "name": "stdout",
     "output_type": "stream",
     "text": [
      "\n",
      " xbos t_up esp josé luis ábalos : \" rajoy tendrá que convocar elecciones si no sale de la parálisis \": [1]\n",
      "\n",
      " xbos t_up ven maduro quiere enfrentarse a ramos allup en las elecciones presidenciales: [1]\n",
      "\n",
      " xbos t_up usa obispo de la diócesis de chilpancingo - chilapa pide dialogar con el crimen organizado: [1]\n",
      "\n",
      " xbos t_up esp la inteligencia de ee uu alerta del riesgo de injerencia rusa en las legislativas de noviembre y en europa: [1]\n",
      "\n",
      " xbos t_up esp las denuncias a menores por violencia machista se triplican: [1]\n",
      "\n",
      " xbos t_up mex vecinos denuncia maltrato animal en supuesta pensión de la merced gómez: [1]\n",
      "\n",
      " xbos t_up col ' ante corrupción , la corte se autocriticó y renovó ' : hernández: [1]\n",
      "\n",
      " xbos t_up mex aparece con vida el periodista mario cañas: [0]\n",
      "\n",
      " xbos t_up usa se separaron jennifer aniston y justin theroux , tras dos años y medio de matrimonio: [1]\n",
      "\n",
      " xbos t_up usa la t_up anmat prohibió la comercialización de productos médicos y alimenticios: [0]\n",
      "\n",
      " xbos t_up col murió el principal predicador de estados unidos: [1]\n",
      "\n",
      " xbos t_up chi manchester city golea a arsenal y sigue firme hacia el título de la premier league: [1]\n",
      "\n",
      " xbos t_up esp programa especial del día de la mujer : paramos: [0]\n",
      "\n",
      " xbos t_up mex asesinan a precandidato de morena a alcaldía en puebla: [1]\n",
      "\n",
      " xbos t_up ven mascotas , las otras víctimas de la crisis en venezuela: [1]\n",
      "\n",
      " xbos t_up cub empresa avileña de cítricos con nuevos retos: [1]\n",
      "\n",
      " xbos t_up col en enero se registró disminución de víctimas fatales: [1]\n",
      "\n",
      " xbos t_up col tesoros ocultos de la luis ángel arango que hoy cumple 60 int_string años: [0]\n",
      "\n",
      " xbos t_up cub al menos 6 int_string heridos deja ataque químico turco en afrín: [1]\n",
      "\n",
      " xbos t_up chi rosa bartra asegura que fuerza popular apoyará a martín vizcarra ante eventual vacancia de t_up ppk: [1]\n",
      "\n",
      " xbos t_up cub presidente de kenya y jefe de la oposición se pronuncian en favor de la reconciliación: [1]\n",
      "\n",
      " xbos t_up arg antes de la marcha de hugo moyano , mauricio macri extiende su ofensiva a otros sindicatos: [1]\n",
      "\n",
      " xbos t_up usa alberto fujimori será procesado por el caso pativilca: [1]\n",
      "\n",
      " xbos t_up usa piden aclarar ingreso excedente de 2016 int_string: [1]\n",
      "\n",
      " xbos t_up arg un grupo de familiares del t_up ara san juan realizó una colecta para la búsqueda del submarino: [0]\n",
      "\n",
      " xbos t_up per aprueban por unanimidad la vacancia del encarcelado vicegobernador de áncash: [0]\n",
      "\n",
      " xbos t_up esp dimite el vigilante que no hizo nada durante el tiroteo en florida: [1]\n",
      "\n",
      " xbos t_up chi pablo guede : esteban paredes es un grande , con 19 int_string goles más o menos: [0]\n",
      "\n",
      " xbos t_up per un avión con 71 int_string personas a bordo se estrelló en moscú: [1]\n",
      "\n",
      " xbos t_up mex tornado daña 45 int_string casas en dos municipios de edomex: [0]\n",
      "\n",
      " xbos t_up col santos inauguró expedición bio para buscar nuevas especies en el río apaporis: [0]\n",
      "\n",
      " xbos t_up arg juventus - tottenham , octavos de final de la champions league : dos goles de higuaín en apenas 8 int_string minutos: [0]\n",
      "\n",
      " xbos t_up arg repudio a nicolás repetto por una pregunta que le hizo a una mujer acosada: [1]\n",
      "\n",
      " xbos t_up per jaime yoshiyama y augusto bedoya : golpe a la línea de flotación del fujimorismo: [1]\n",
      "\n",
      " xbos t_up chi carabineros reforzará sus servicios en santiago: [0]\n",
      "\n",
      " xbos t_up mex lindsay lohan y kim kardashian se enfrentan en instagram: [0]\n",
      "\n",
      " xbos t_up esp el santander ganó un 7 % más en 2017 int_string tras integrar el popular: [0]\n",
      "\n",
      " xbos t_up chi fidel castro díaz - balart , el primogénito científico de fidel castro: [1]\n",
      "\n",
      " xbos t_up esp más de 230 int_string muertos en 48 int_string horas por los bombardeos del régimen sirio en guta oriental: [1]\n",
      "\n",
      " xbos t_up arg verratti : \" estamos listos para el real madrid \": [1]\n",
      "\n",
      " xbos t_up ven incineraron avioneta con presunta vinculación al narcotráfico en el zulia: [1]\n",
      "\n",
      " xbos t_up usa prevén que t_up seido atraiga caso de italianos: [1]\n",
      "\n",
      " xbos t_up usa la t_up aee comienza a restablecer el servicio de energía eléctrica: [1]\n",
      "\n",
      " xbos t_up esp alerta máxima ante los ultras rusos de cara al mundial: [1]\n",
      "\n",
      " xbos t_up cub armas críticas de la izquierda latinoamericana: [1]\n",
      "\n",
      " xbos t_up cub senacyt presenta los programas , subprogramas y líneas de financiameinto para el apoyo de la ciencia y tecnología ...: [1]\n",
      "\n",
      " xbos t_up per cajamarca : ocho muertos y siete heridos tras caída de combi a abismo: [1]\n",
      "\n",
      " xbos t_up esp trump y el # metoo propulsan el feminismo en estados unidos: [1]\n",
      "\n",
      " xbos t_up esp carta abierta a zapatero sobre venezuela: [1]\n",
      "\n",
      " xbos t_up chi scicluna confirma que no se reunió con karadima pero si con ezzati durante ronda de entrevistas: [1]\n",
      "\n",
      " xbos t_up chi detienen a presunto autor del asesinato de un ciudadano venezolano en la región: [1]\n",
      "\n",
      " xbos t_up esp hamilton manda en montmeló , alonso sonríe de nuevo: [0]\n",
      "\n",
      " xbos t_up esp t_up colau o el t_up regreso de la t_up tribu: [0]\n",
      "\n",
      " xbos t_up mex precandidato del t_up pri sufre atentado ; sale ileso: [1]\n",
      "\n",
      " xbos t_up per incendio de grandes proporciones consumió complejo pesquero de paracas [ t_up video ]: [1]\n",
      "\n",
      " xbos t_up chi o'higgins lamentó fallecimiento del ex capitán mauro meléndez: [1]\n",
      "\n",
      " xbos t_up esp iniesta hechiza stamford bridge: [0]\n",
      "\n",
      " xbos t_up usa empleados de banca : ganones: [1]\n",
      "\n",
      " xbos t_up cub cuba trabaja en programa de desarrollo del ferrocarril hasta 2028 int_string: [1]\n",
      "\n",
      " xbos t_up ven denuncian que cada 24 int_string horas fallecen ocho niños en bolívar: [1]\n",
      "\n",
      " xbos t_up esp la sonda que fotografiará las puestas de sol de marte empieza a trabajar: [1]\n",
      "\n",
      " xbos t_up esp dibaba , lasitskene y lysenko se coronan el primer día en birmingham: [0]\n",
      "\n",
      " xbos t_up esp bienvenido , marcelo: [1]\n",
      "\n",
      " xbos t_up esp los operadores de telefonía están obligados a bloquear las páginas de descargas ilegales: [0]\n",
      "\n",
      " xbos t_up mex neymar sale lesionado en partido del t_up psg: [0]\n",
      "\n",
      " xbos t_up col correa o moreno : ecuador decide su futuro en un referéndum constitucional: [0]\n",
      "\n",
      " xbos t_up col goleadas 10 - 0 y 8 - 0 en la segunda fecha de la liga femenina: [0]\n",
      "\n",
      " xbos t_up usa lópez obrador da voto de confianza a t_up epn ; reconocerá que no intervenga en comicios: [1]\n",
      "\n",
      " xbos t_up esp miles de jubilados indignados exigen en la calle \" pensiones dignas \": [1]\n",
      "\n",
      " xbos t_up esp el gobierno se defiende : \" la brecha salarial está en mínimos históricos \": [1]\n",
      "\n",
      " xbos t_up mex wall street cae tras anuncio de trump sobre aranceles: [1]\n",
      "\n",
      " xbos t_up usa nueva york recuerda atentado de 1993 int_string al world trade center: [1]\n",
      "\n",
      " xbos t_up mex localizan avioneta presuntamente desaparecida en amecameca: [0]\n",
      "\n",
      " xbos t_up usa jaime yoshiyama y augusto bedoya : golpe a la línea de flotación del fujimorismo: [1]\n",
      "\n",
      " xbos t_up usa hermano de senador romero hicks apoyará a meade: [1]\n",
      "\n",
      " xbos t_up esp patatas fritas , bollos y refrescos con menos azúcar , sal y grasas : así cambiará nuestra cesta de la compra: [1]\n",
      "\n",
      " xbos t_up col grupo lima convoca reunión para evaluar elecciones en venezuela: [1]\n",
      "\n",
      " xbos t_up col aprendices e instructores del t_up sena aprenderán francés en tiempo récord: [0]\n",
      "\n",
      " xbos t_up arg video : así son las nuevas y super potentes armas de rusia: [0]\n",
      "\n",
      " xbos t_up cub condado de broward planea demoler edificio donde ocurrió la matanza en escuela secundaria: [1]\n",
      "\n",
      " xbos t_up per niño de 5 int_string años cayó en olla de chicha de jora hirviendo [ t_up video ]: [1]\n",
      "\n",
      " xbos t_up usa almagro designa a nuevo portavoz de la maccih: [1]\n",
      "\n",
      " xbos t_up mex recibí fuego amigo y enemigo : ebrard: [1]\n",
      "\n",
      " xbos t_up esp caso torres : simeone perdió las formas , no la razón: [1]\n",
      "\n",
      " xbos t_up per t_up pnp cajamarca incautó 10 int_string kilos de t_up pbc y detuvo a tres personas: [0]\n",
      "\n",
      " xbos t_up per proponen que autos antiguos también paguen impuesto vehicular: [1]\n",
      "\n",
      " xbos t_up esp los ‘ viejenials’ toman la calle: [0]\n",
      "\n",
      " xbos t_up per trump sigue describiendo a los inmigrantes como delincuentes: [1]\n",
      "\n",
      " xbos t_up usa siria enfrenta un ' apocalipsis planificado ' , acusa alto comisionado de la t_up onu: [1]\n",
      "\n",
      " xbos t_up mex unicef sigue \" con preocupación \" mensajes de syntek en twitter: [1]\n",
      "\n",
      " xbos t_up esp pinto contratará a quienes se chiven de la t_up ute de limpieza: [0]\n",
      "\n",
      " xbos t_up usa chile : presidente electo entrega control de su fortuna: [1]\n",
      "\n",
      " xbos t_up esp el gobierno confía en que t_up erc postule a otro candidato: [1]\n",
      "\n",
      " xbos t_up usa ee.uu : autoridades ordenan evacuaciones obligatorias por tormentas en california: [1]\n"
     ]
    },
    {
     "name": "stdout",
     "output_type": "stream",
     "text": [
      "\n",
      " xbos t_up usa frente amplio venezuela libre realiza presentación de nueva plataforma unitaria ( + manifiesto ): [1]\n",
      "\n",
      " xbos t_up cub evalúan descargos de aspirantes a fiscal general en guatemala: [1]\n",
      "\n",
      " xbos t_up usa 10 int_string datos sobre la famosa marmota chuck: [0]\n",
      "\n",
      " xbos t_up chi la pareja de ricardo palma salamanca fue detenida en francia: [1]\n",
      "\n",
      " xbos t_up col israel redobla las advertencias a irán tras los ataques en siria: [1]\n",
      "\n",
      " xbos t_up usa por escasez de focas , muere 40 % de los osos polares: [1]\n",
      "\n",
      " xbos t_up mex marco antonio sánchez “ tiene actitud del demonio ” , dice su madre: [1]\n",
      "\n",
      " xbos t_up ven el otro fidel castro: [0]\n",
      "\n",
      " xbos t_up per expolicía fue capturado con 175 int_string kilos de cocaína: [1]\n",
      "\n",
      " xbos t_up ven dos personas mueren por disparos en el campus de una universidad de ee uu: [1]\n",
      "\n",
      " xbos t_up col el pulso electoral en la frontera caliente: [1]\n",
      "\n",
      " xbos t_up per san miguel : arqueólogos encuentran restos humanos de 1.300 años en huaca el rosal: [1]\n",
      "\n",
      " xbos t_up arg murió un hombre y otro está gravemente herido: [1]\n",
      "\n",
      " xbos t_up cub más de tres millones de brasileños en edad escolar sin aulas: [1]\n",
      "\n",
      " xbos t_up chi ubilla y alvarado lideran lista de subsecretarios que piñera presenta hoy: [1]\n",
      "\n",
      " xbos t_up usa ee.uu : \" venezuela es un país de tránsito para las drogas ilícitas \": [1]\n",
      "\n",
      " xbos t_up chi evo morales inaugura \" jornadas por el mar \" y llama a crear bandera gigante por juicio en la haya: [1]\n",
      "\n",
      " xbos t_up chi uribe ya está en la corte suprema para responder por supuesta manipulación testigos: [1]\n",
      "\n",
      " xbos t_up per ¡ ten cuidado ! bañistas encuentran gusanos en playa los pescadores de chorrillos [ t_up fotos y t_up video ]: [1]\n",
      "\n",
      " xbos t_up col policías exigían dinero a cambio de no cerrar establecimientos para adultos en cali: [1]\n",
      "\n",
      " xbos t_up esp muere atropellada en la m-30 a la altura del puente de ventas: [1]\n",
      "\n",
      " xbos t_up arg un micro cayó a un barranco en el sur de perú y dejó más de 40 int_string muertos: [1]\n",
      "\n",
      " xbos t_up per policía va a prisión por no pagar alimentos: [1]\n",
      "\n",
      " xbos t_up per los vuelos entre cusco y pisco harán subir en 5 % el flujo turístico: [0]\n",
      "\n",
      " xbos t_up chi colo colo lamentó fatal accidente de delegación de escuela lo boza: [1]\n",
      "\n",
      " xbos t_up chi las 3 int_string propuestas en materia de vivienda que sharp le entregará a piñera en marzo: [0]\n",
      "\n",
      " xbos t_up esp el agente de futbolistas quique pina , detenido por blanqueo de capitales: [1]\n",
      "\n",
      " xbos t_up cub fabricio alvarado : el que esté con nosotros debe hacerlo por convicción: [1]\n",
      "\n",
      " xbos t_up esp energía ficha a un bufete internacional tras el revés judicial por las renovables: [1]\n",
      "\n",
      " xbos t_up col miércoles de ceniza : una ocasión providencial para retornar a las raíces de la fe: [1]\n",
      "\n",
      " xbos t_up ven lula iniciará el 27 int_string de febrero cuarta etapa de caravana presidencial: [1]\n",
      "\n",
      " xbos t_up col mal cálculo del registrador en consultas , el lunar de la jornada: [1]\n",
      "\n",
      " xbos t_up ven dos muertos y 219 int_string heridos tras el terremoto de 6,4 que derrumbó un hotel y varios edificios en taiwán: [1]\n",
      "\n",
      " xbos t_up col en medio de un atraco matan a turista en valledupar: [1]\n",
      "\n",
      " xbos t_up col gabinete binacional de perú y colombia hablará de venezuela: [1]\n",
      "\n",
      " xbos t_up arg boca empató e independiente perdió en el debut de la copa: [1]\n",
      "\n",
      " xbos t_up per venezolanos seguirán pidiendo refugio en la nueva sede de la cancillería [ t_up video ]: [1]\n",
      "\n",
      " xbos t_up esp el padre de neymar dice que estará de baja al menos \" 6 semanas \": [1]\n",
      "\n",
      " xbos t_up cub presidente de venezuela es respaldado por los obreros: [1]\n",
      "\n",
      " xbos t_up per tecnología para vivir mejor: [0]\n",
      "\n",
      " xbos t_up esp iberostar tenerife - real madrid , en directo: [0]\n",
      "\n",
      " xbos t_up esp la polémica del duque de alba : busca becarios gratis para un palacio: [1]\n",
      "\n",
      " xbos t_up esp las panaderías de madrid que han devuelto el sabor a sus barrios: [0]\n",
      "\n",
      " xbos t_up chi luego de 12 int_string horas de trabajo de parto : gala caldirola y mauricio isla reciben a su hija luz elif: [1]\n",
      "\n",
      " xbos t_up usa policía recibe en el salvador a pandillero deportado de estados unidos: [1]\n",
      "\n",
      " xbos t_up cub japón afianza cooperación con cuba mediante agencia t_up jica: [0]\n",
      "\n",
      " xbos t_up cub abrirán colegios electorales especiales en ciego de ávila: [0]\n",
      "\n",
      " xbos t_up esp el gobierno quiere ampliar los delitos penados con prisión permanente revisable: [1]\n",
      "\n",
      " xbos t_up mex trump desoye las lecciones de la historia y desafía al mundo con sus nuevos aranceles: [0]\n",
      "\n",
      " xbos t_up usa peña nieto promulga ley fintech: [1]\n",
      "\n",
      " xbos t_up per kuczynski : susana de la puente vendrá al país para explicar ante las autoridades: [1]\n",
      "\n",
      " xbos t_up col viral en youtube : la enterraron viva y murió intentando salir de ataúd: [1]\n",
      "\n",
      " xbos t_up chi tras la visita de macri , avanzan en nuevos acuerdos con rusia: [1]\n",
      "\n",
      " xbos t_up cub miles de estudiantes apoyarán elecciones generales en cuba: [1]\n",
      "\n",
      " xbos t_up per el fútbol en shock : revelan cómo fueron las últimas horas en vida del italiano davide astori: [1]\n",
      "\n",
      " xbos t_up usa el gobierno ve \" con buenos ojos \" que se debata en el congreso el cobro a extranjeros en hospitales públicos: [1]\n",
      "\n",
      " xbos t_up cub ¿ qué papel desempeña el periodismo en la construcción de una creíble hegemonía de la ideología revolucionaria ?: [1]\n",
      "\n",
      " xbos t_up cub ee.uu . justifica paso en embajada en cuba que muchos creen politizado: [1]\n",
      "\n",
      " xbos t_up arg pánico en londres : evacuaron la estación de trenes victoria: [1]\n",
      "\n",
      " xbos t_up col colo colo reaccionó con valdés y paredes e igualó con o'higgins: [0]\n",
      "\n",
      " xbos t_up ven tasa de cambio del sistema dicom se ubicó en 43.489,656 bolívares por euro: [1]\n",
      "\n",
      " xbos t_up ven más de 16 int_string mil alumnos vuelven a las escuelas en siria: [1]\n",
      "\n",
      " xbos t_up usa quince años después , estos son los rostros del atentado terrorista contra el club el nogal: [1]\n",
      "\n",
      " xbos t_up usa israel multiplica las advertencias a irán tras incursiones aéreas en siria: [1]\n",
      "\n",
      " xbos t_up usa detienen a 4 int_string policías por desaparición de italianos en jalisco: [1]\n",
      "\n",
      " xbos t_up ven sudeban continúa inspecciones en zonas fronterizas del país: [1]\n",
      "\n",
      " xbos t_up arg un suboficial del ejército fue acusado de abusar de una joven de 17 int_string años: [1]\n",
      "\n",
      " xbos t_up col ' chilangos ' pasan 2.4 años de su vida en el tráfico: [0]\n",
      "\n",
      " xbos t_up per alianza lima y boca juniors empataron 0 - 0 por la libertadores [ t_up fotos ]: [0]\n",
      "\n",
      " xbos t_up esp tim kaine : \" donald trump parece tener fervor por socavar la diplomacia \": [1]\n",
      "\n",
      " xbos t_up esp t_up cis : cs sigue al alza , se coloca en tercera posición y supera ya a podemos: [0]\n",
      "\n",
      " xbos t_up per sepúlveda visitó en dos ocasiones la t_up pcm cuando t_up ppk era primer ministro: [0]\n",
      "\n",
      " xbos t_up arg díaz gilligan imputado : el fiscal investiga su vínculo con la plata \" sucia \" del fútbol: [1]\n",
      "\n",
      " xbos t_up usa enviado del papa se reúne con víctimas de pederastia en chile: [1]\n",
      "\n",
      " xbos t_up cub piñera se compromete con crecimiento económico y derechos de la infancia: [1]\n",
      "\n",
      " xbos t_up usa gobierno y oposición no logran consenso en venezuela: [1]\n",
      "\n",
      " xbos t_up esp el consejo de seguridad de la t_up onu aprueba una tregua de 30 int_string días en siria: [1]\n",
      "\n",
      " xbos t_up arg encontró una billetera con $ 8000 y sin documentos , pero encontró al dueño por facebook: [1]\n",
      "\n",
      " xbos t_up mex es difícil acceder al estudio médico de marco: [0]\n",
      "\n",
      " xbos t_up chi emblemáticas actrices de grey 's anatomy fueron desvinculadas de la serie: [1]\n",
      "\n",
      " xbos t_up mex intensa nevada derriba miles de árboles en moscú ; reportan un deceso: [1]\n",
      "\n",
      " xbos t_up usa alarmante situación de salud afecta a niños en iraq , reporta unicef: [1]\n",
      "\n",
      " xbos t_up ven ¡ atentos ! @nicolasmaduro anuncia que este domingo a las 8:55pm presentará una sorpresa a los venezolanos: [1]\n",
      "\n",
      " xbos t_up cub un niño ayudó a descubrir el fósil de un pez milenario: [1]\n",
      "\n",
      " xbos t_up esp cospedal se manifiesta en contra de la huelga feminista del 8 int_string de marzo: [1]\n",
      "\n",
      " xbos t_up mex cruz azul vs . necaxa , en vivo , clausura 2018 , liga mx : ( 0 - 1 ) t_up minuto a t_up minuto: [0]\n",
      "\n",
      " xbos t_up ven justicia británica mantiene orden de detención de assange: [1]\n",
      "\n",
      " xbos t_up col fallece el futbolista davide astori , capitán de la fiorentina: [1]\n",
      "\n",
      " xbos t_up esp el madrid se agarra al trono en parís: [0]\n",
      "\n",
      " xbos t_up per la respuesta de los estudiantes a la \" ley del esclavo juvenil \": [1]\n",
      "\n",
      " xbos t_up esp muere quini , el brujo del gol: [1]\n",
      "\n",
      " xbos t_up esp la juez envía a prisión preventiva al jugador del villarreal rubén semedo: [1]\n"
     ]
    },
    {
     "name": "stdout",
     "output_type": "stream",
     "text": [
      "\n",
      " xbos t_up arg hallan muerto a gabriel cruz , el chico desaparecido en españa: [1]\n",
      "\n",
      " xbos t_up esp la web y la app de t_up ing direct se caen durante más de tres horas: [1]\n",
      "\n",
      " xbos t_up mex guajardo : supeditar aranceles al t_up tlc , no: [1]\n",
      "\n",
      " xbos t_up chi cuestionado jefe técnico de centro de coronel fue removido del sename: [1]\n",
      "\n",
      " xbos t_up mex joven mata a sus padres y hiere a su hermano en guanajuato: [1]\n",
      "\n",
      " xbos t_up arg el otro fidel castro: [0]\n",
      "\n",
      " xbos t_up arg de vido se libró de un procesamiento por los subsidios: [1]\n",
      "\n",
      " xbos t_up chi atentado incendiario destruye 4 int_string camiones y 3 int_string retroexcavadoras en contulmo: [1]\n",
      "\n",
      " xbos t_up esp ricky también escarba en el abismo de los grizzlies : ¡ 16 derrotas consecutivas !: [1]\n",
      "\n",
      " xbos t_up chi transantiago : alza de tarifa aportará us$ 30 int_string millones al sistema y piden nuevo incremento del subsidio: [1]\n",
      "\n",
      " xbos t_up per andahuaylas : capturan a violador incluido en lista de más buscados: [1]\n",
      "\n",
      " xbos t_up col candidatos presidenciales celebran que santos no interfiera en el próximo gobierno: [1]\n",
      "\n",
      " xbos t_up cub investigan hallazgo de paquete sospechoso en parlamento británico: [1]\n",
      "\n",
      " xbos t_up chi mendoza : chofer de turbus fue condenado a 20 int_string años de prisión por accidente ocurrido en 2017 int_string: [1]\n",
      "\n",
      " xbos t_up esp nadal : \" ni federer ni yo peleamos por ser el número uno \": [1]\n",
      "\n",
      " xbos t_up col corte archiva investigación contra gobernadora del valle por parapolítica: [1]\n",
      "\n",
      " xbos t_up per combustibles : se confirma adquisición de pecsa por parte de primax: [1]\n",
      "\n",
      " xbos t_up per lambayeque : cuatro distritos en riesgo por mal manejo de residuos sólidos: [1]\n",
      "\n",
      " xbos t_up mex mueren dos personas al caer de un avión: [1]\n",
      "\n",
      " xbos t_up arg franco macri , operado en el hospital italiano por una fractura de cadera: [1]\n",
      "\n",
      " xbos t_up cub terremoto en méxico : ya van más de 150 int_string réplicas: [1]\n",
      "\n",
      " xbos t_up mex cae helicóptero militar en japón ; muere uno de los copilotos: [1]\n",
      "\n",
      " xbos t_up esp el líder de la t_up otan exige a europa más gasto en defensa: [1]\n",
      "\n",
      " xbos t_up esp caso arandina : ¿ y ahora qué ?: [1]\n",
      "\n",
      " xbos t_up cub policías recogen evidencias tras la explosión en colta: [1]\n",
      "\n",
      " xbos t_up usa disney anuncia que subirá sus precios en los parques de florida y california: [1]\n",
      "\n",
      " xbos t_up per comisión lava jato recibe testimonio de esposo de úrsula letona: [1]\n",
      "\n",
      " xbos t_up per “ me preocupa que t_up ppk quiera amarrar su declaración a la barata ”: [1]\n",
      "\n",
      " xbos t_up per instagram : clarivett yllescas y las muestras de afecto que recibe en redes sociales: [1]\n",
      "\n",
      " xbos t_up arg gallardo cambia porque sabe cuánto se juega: [0]\n",
      "\n",
      " xbos t_up esp muere un cadete del alzira tras un ataque cardiaco en pleno partido: [1]\n",
      "\n",
      " xbos t_up ven gobierno presenta borrador de resolución sobre la eutanasia en niños: [1]\n",
      "\n",
      " xbos t_up chi corea del norte califica de \" acto de guerra \" las nuevas sanciones de t_up eeuu: [1]\n",
      "\n",
      " xbos t_up arg las nenas abusadas en mendoza consumieron cocaína y una tiene sífilis: [1]\n",
      "\n",
      " xbos t_up per mi vivienda verde : créditos hipotecarios a tasas por debajo del mercado: [1]\n",
      "\n",
      " xbos t_up cub acoge venezuela jornada de solidaridad con revolución bolivariana: [1]\n",
      "\n",
      " xbos t_up chi explosión en una fábrica en francia deja dos muertos: [1]\n",
      "\n",
      " xbos t_up mex qué dice el polémico memorando desclasificado por trump en el que acusan al t_up fbi de abuso de poder en estados ...: [1]\n",
      "\n",
      " xbos t_up col buscan a conductor de ferrari accidentado en el que fallecieron dos colombianas: [1]\n",
      "\n",
      " xbos t_up ven presidente del metro se pronunció sobre detonación de bomba lacrimógena: [1]\n",
      "\n",
      " xbos t_up mex aubameyang ficha por el arsenal por una cifra récord en el club inglés: [1]\n",
      "\n",
      " xbos t_up ven jorge arreaza anunció gira por latinoamérica y el caribe: [1]\n",
      "\n",
      " xbos t_up esp trump acepta reunirse con kim jong un en mayo: [0]\n",
      "\n",
      " xbos t_up mex t_up ine garantiza precisión en las tendencias del conteo rápido: [0]\n",
      "\n",
      " xbos t_up esp tres empleados de oxfam amenazaron a un testigo del escándalo sexual en haití: [1]\n",
      "\n",
      " xbos t_up usa el chiste más simple de eugenio derbez en los premios óscar: [0]\n",
      "\n",
      " xbos t_up mex eu , cauto ante oferta norcoreana de diálogo: [1]\n",
      "\n",
      " xbos t_up ven protestaron en bancos del táchira por pago incompleto de pensiones: [1]\n",
      "\n",
      " xbos t_up usa “ reyes desnudos ” : cumbre del t_up alba evidenció la soledad de nicolás maduro: [0]\n",
      "\n",
      " xbos t_up ven mueren dos bebés por desnutrición en monagas: [1]\n",
      "\n",
      " xbos t_up chi las claves de cómo wigan , un club de tercera división , eliminó de la fa cup al manchester city: [0]\n",
      "\n",
      " xbos t_up cub dialoga bachelet con emperador japonés akihito: [0]\n",
      "\n",
      " xbos t_up cub encuesta ratifica al t_up psuv como principal fuerza política de venezuela: [1]\n",
      "\n",
      " xbos t_up mex balacera deja un muerto y una herida durante fiesta infantil en la jardín balbuena: [1]\n",
      "\n",
      " xbos t_up ven cabello dirigirá el \" plan cívico - militar de defensa popular \" en la frontera: [0]\n",
      "\n",
      " xbos t_up chi funcionario del ejército se encuentra hospitalizado tras explosión de mina antipersonal: [1]\n",
      "\n",
      " xbos t_up chi tiroteo en florida : investigan fotos que el principal sospechoso publicó en redes sociales: [1]\n",
      "\n",
      " xbos t_up esp urkullu arropa a las víctimas y proclama que su dolor \" fue injusto \": [1]\n",
      "\n",
      " xbos t_up chi las señales que dio nikolas cruz antes de cometer la masacre en la secundaria de parkland: [1]\n",
      "\n",
      " xbos t_up mex vuelca tráiler de doble remolque en la colonia condesa: [0]\n",
      "\n",
      " xbos t_up usa venezuela acusa a colombia de boicotear firma del acuerdo de paz con la oposición: [1]\n",
      "\n",
      " xbos t_up ven tribunal brasileño rechaza primer recurso de lula para evitar la prisión: [1]\n",
      "\n",
      " xbos t_up ven “ el patán ” fue ultimado en enfrentamiento con el cicpc: [1]\n",
      "\n",
      " xbos t_up col aplazan cirugía de corazón de rodrigo londoño por complicaciones pulmonares: [1]\n"
     ]
    }
   ],
   "source": [
    "# load test set tokens\n",
    "tok_val = np.load(CLAS_PATH/'tmp'/'tok_val.npy')\n",
    "\n",
    "# load classification model weights\n",
    "learn.load('clas2')\n",
    "m = learn.model\n",
    "\n",
    "# set batch size to 1\n",
    "m[0].bs=1\n",
    "\n",
    "i = 0\n",
    "results = []\n",
    "while i < len(tok_val):\n",
    "    sen = ' '.join(tok_val[i])\n",
    "    i+=1\n",
    "    m.eval()\n",
    "    # reset hidden state\n",
    "    m.reset()\n",
    "    idxs = np.array([[stoi[p] for p in sen.strip().split(\" \")]])\n",
    "    idxs = np.transpose(idxs)\n",
    "    # get predictions from model\n",
    "    p = m(VV(idxs))\n",
    "    print(sen + ': ' + str(to_np(torch.topk(p[0],1)[1])[0]))\n",
    "    # append classification to list of results for validation\n",
    "    results.append(torch.topk(p[0],1)[1].data.tolist()[0])"
   ]
  },
  {
   "cell_type": "code",
   "execution_count": 315,
   "metadata": {},
   "outputs": [],
   "source": [
    "preds = np.asarray(results)"
   ]
  },
  {
   "cell_type": "code",
   "execution_count": 316,
   "metadata": {},
   "outputs": [
    {
     "data": {
      "text/plain": [
       "0.6656683807048276"
      ]
     },
     "execution_count": 316,
     "metadata": {},
     "output_type": "execute_result"
    }
   ],
   "source": [
    "from sklearn.metrics import *\n",
    "# f1 score for all three classes\n",
    "f1_score(val_labels, preds, average='macro')"
   ]
  }
 ],
 "metadata": {
  "kernelspec": {
   "display_name": "Python 3",
   "language": "python",
   "name": "python3"
  },
  "language_info": {
   "codemirror_mode": {
    "name": "ipython",
    "version": 3
   },
   "file_extension": ".py",
   "mimetype": "text/x-python",
   "name": "python",
   "nbconvert_exporter": "python",
   "pygments_lexer": "ipython3",
   "version": "3.6.3"
  }
 },
 "nbformat": 4,
 "nbformat_minor": 2
}
